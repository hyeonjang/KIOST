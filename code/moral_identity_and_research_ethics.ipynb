{
 "cells": [
  {
   "cell_type": "code",
   "execution_count": 2,
   "metadata": {},
   "outputs": [
    {
     "name": "stdout",
     "output_type": "stream",
     "text": [
      "shape: (167, 12)\n",
      "┌─────┬───────────────┬───────┬───────┬───┬───────┬───────┬───────┬────────┐\n",
      "│     ┆ _duplicated_0 ┆ Q41_1 ┆ Q41_2 ┆ … ┆ Q41_7 ┆ Q41_8 ┆ Q41_9 ┆ Q41_10 │\n",
      "│ --- ┆ ---           ┆ ---   ┆ ---   ┆   ┆ ---   ┆ ---   ┆ ---   ┆ ---    │\n",
      "│ i64 ┆ i64           ┆ i64   ┆ i64   ┆   ┆ i64   ┆ i64   ┆ i64   ┆ i64    │\n",
      "╞═════╪═══════════════╪═══════╪═══════╪═══╪═══════╪═══════╪═══════╪════════╡\n",
      "│ 1   ┆ 14630         ┆ 4     ┆ 4     ┆ … ┆ 2     ┆ 3     ┆ 4     ┆ 3      │\n",
      "│ 2   ┆ 14629         ┆ 3     ┆ 3     ┆ … ┆ 3     ┆ 3     ┆ 3     ┆ 3      │\n",
      "│ 3   ┆ 14626         ┆ 4     ┆ 4     ┆ … ┆ 4     ┆ 3     ┆ 4     ┆ 4      │\n",
      "│ 4   ┆ 14624         ┆ 3     ┆ 3     ┆ … ┆ 3     ┆ 3     ┆ 3     ┆ 3      │\n",
      "│ 5   ┆ 14627         ┆ 4     ┆ 4     ┆ … ┆ 3     ┆ 3     ┆ 4     ┆ 4      │\n",
      "│ …   ┆ …             ┆ …     ┆ …     ┆ … ┆ …     ┆ …     ┆ …     ┆ …      │\n",
      "│ 163 ┆ 27015         ┆ 3     ┆ 4     ┆ … ┆ 3     ┆ 3     ┆ 3     ┆ 2      │\n",
      "│ 164 ┆ 27046         ┆ 4     ┆ 3     ┆ … ┆ 4     ┆ 3     ┆ 3     ┆ 2      │\n",
      "│ 165 ┆ 27725         ┆ 3     ┆ 3     ┆ … ┆ 3     ┆ 3     ┆ 3     ┆ 3      │\n",
      "│ 166 ┆ 27863         ┆ 5     ┆ 5     ┆ … ┆ 5     ┆ 5     ┆ 4     ┆ 5      │\n",
      "│ 167 ┆ 28045         ┆ 5     ┆ 4     ┆ … ┆ 5     ┆ 4     ┆ 4     ┆ 5      │\n",
      "└─────┴───────────────┴───────┴───────┴───┴───────┴───────┴───────┴────────┘\n"
     ]
    }
   ],
   "source": [
    "import polars as pl\n",
    "\n",
    "# Load the CSV file into a Polars DataFrame\n",
    "moral_identity = pl.read_csv(\"data/raw_moral_identity.csv\")\n",
    "\n",
    "Interanlization = [1, 1, 0, 1, 0, 0, 1, 0, 0, 1]\n",
    "Symbolization = [not bool(x) for x in Interanlization]\n",
    "ReverseCoded = [0, 0, 0, 1, 0, 0, 1, 0, 0, 0]\n",
    "\n",
    "# Display the first few rows of the DataFrame\n",
    "moral_identity = moral_identity.with_columns([\n",
    "    (6 - pl.col(\"Q41_4\")).alias(\"Q41_4\"),\n",
    "    (6 - pl.col(\"Q41_7\")).alias(\"Q41_7\")\n",
    "])\n",
    "\n",
    "print(moral_identity)"
   ]
  },
  {
   "cell_type": "code",
   "execution_count": 3,
   "metadata": {},
   "outputs": [
    {
     "name": "stdout",
     "output_type": "stream",
     "text": [
      "shape: (167, 16)\n",
      "┌─────┬───────────────┬───────┬───────┬───┬─────────┬───────────────┬───────────────┬──────────────┐\n",
      "│     ┆ _duplicated_0 ┆ Q41_1 ┆ Q41_2 ┆ … ┆ Average ┆ Interanlizati ┆ Symbolization ┆ ReverseCoded │\n",
      "│ --- ┆ ---           ┆ ---   ┆ ---   ┆   ┆ ---     ┆ on            ┆ ---           ┆ ---          │\n",
      "│ i64 ┆ i64           ┆ i64   ┆ i64   ┆   ┆ f64     ┆ ---           ┆ f64           ┆ f64          │\n",
      "│     ┆               ┆       ┆       ┆   ┆         ┆ f64           ┆               ┆              │\n",
      "╞═════╪═══════════════╪═══════╪═══════╪═══╪═════════╪═══════════════╪═══════════════╪══════════════╡\n",
      "│ 1   ┆ 14630         ┆ 4     ┆ 4     ┆ … ┆ 3.1     ┆ 2.75          ┆ 3.333333      ┆ 2.0          │\n",
      "│ 2   ┆ 14629         ┆ 3     ┆ 3     ┆ … ┆ 3.0     ┆ 3.0           ┆ 3.0           ┆ 3.0          │\n",
      "│ 3   ┆ 14626         ┆ 4     ┆ 4     ┆ … ┆ 3.9     ┆ 4.0           ┆ 3.833333      ┆ 4.0          │\n",
      "│ 4   ┆ 14624         ┆ 3     ┆ 3     ┆ … ┆ 3.0     ┆ 3.0           ┆ 3.0           ┆ 3.0          │\n",
      "│ 5   ┆ 14627         ┆ 4     ┆ 4     ┆ … ┆ 3.9     ┆ 3.75          ┆ 4.0           ┆ 3.5          │\n",
      "│ …   ┆ …             ┆ …     ┆ …     ┆ … ┆ …       ┆ …             ┆ …             ┆ …            │\n",
      "│ 163 ┆ 27015         ┆ 3     ┆ 4     ┆ … ┆ 3.1     ┆ 3.0           ┆ 3.166667      ┆ 3.5          │\n",
      "│ 164 ┆ 27046         ┆ 4     ┆ 3     ┆ … ┆ 2.8     ┆ 3.75          ┆ 2.166667      ┆ 4.5          │\n",
      "│ 165 ┆ 27725         ┆ 3     ┆ 3     ┆ … ┆ 3.0     ┆ 3.0           ┆ 3.0           ┆ 3.0          │\n",
      "│ 166 ┆ 27863         ┆ 5     ┆ 5     ┆ … ┆ 4.5     ┆ 5.0           ┆ 4.166667      ┆ 5.0          │\n",
      "│ 167 ┆ 28045         ┆ 5     ┆ 4     ┆ … ┆ 4.2     ┆ 4.75          ┆ 3.833333      ┆ 4.5          │\n",
      "└─────┴───────────────┴───────┴───────┴───┴─────────┴───────────────┴───────────────┴──────────────┘\n"
     ]
    }
   ],
   "source": [
    "moral_identity = moral_identity.with_columns(\n",
    "    Average = (pl.col(\"Q41_1\") + pl.col(\"Q41_2\") + pl.col(\"Q41_3\") + pl.col(\"Q41_4\") + pl.col(\"Q41_5\") + pl.col(\"Q41_6\") + pl.col(\"Q41_7\") + pl.col(\"Q41_8\") + pl.col(\"Q41_9\") + pl.col(\"Q41_10\"))/10,\n",
    "    Interanlization = (pl.col(\"Q41_1\") + pl.col(\"Q41_4\") + pl.col(\"Q41_7\") + pl.col(\"Q41_10\"))/4,\n",
    "    Symbolization = (pl.col(\"Q41_2\") + pl.col(\"Q41_3\") + pl.col(\"Q41_5\") + pl.col(\"Q41_6\") + pl.col(\"Q41_8\") + pl.col(\"Q41_9\"))/6,\n",
    "    ReverseCoded = (pl.col(\"Q41_4\") + pl.col(\"Q41_7\"))/2\n",
    ")\n",
    "\n",
    "# moral_identity.write_csv(\"ethics_processed.csv\")\n",
    "print(moral_identity)"
   ]
  },
  {
   "cell_type": "code",
   "execution_count": 5,
   "metadata": {},
   "outputs": [
    {
     "name": "stdout",
     "output_type": "stream",
     "text": [
      "shape: (167, 22)\n",
      "┌───────┬───────┬───────┬───────┬───┬────────┬────────┬───────┬──────────┐\n",
      "│       ┆ Q38_1 ┆ Q38_2 ┆ Q38_3 ┆ … ┆ Q38_18 ┆ Q38_19 ┆ Q39_1 ┆ Average  │\n",
      "│ ---   ┆ ---   ┆ ---   ┆ ---   ┆   ┆ ---    ┆ ---    ┆ ---   ┆ ---      │\n",
      "│ i64   ┆ i64   ┆ i64   ┆ i64   ┆   ┆ i64    ┆ i64    ┆ i64   ┆ f64      │\n",
      "╞═══════╪═══════╪═══════╪═══════╪═══╪════════╪════════╪═══════╪══════════╡\n",
      "│ 14630 ┆ 4     ┆ 4     ┆ 3     ┆ … ┆ 3      ┆ 4      ┆ 4     ┆ 0.95     │\n",
      "│ 14629 ┆ 4     ┆ 4     ┆ 4     ┆ … ┆ 4      ┆ 4      ┆ 5     ┆ 1.05     │\n",
      "│ 14626 ┆ 4     ┆ 3     ┆ 4     ┆ … ┆ 4      ┆ 4      ┆ 3     ┆ 0.95     │\n",
      "│ 14624 ┆ 5     ┆ 3     ┆ 5     ┆ … ┆ 5      ┆ 5      ┆ null  ┆ 1.157895 │\n",
      "│ 14627 ┆ 5     ┆ 4     ┆ 5     ┆ … ┆ 5      ┆ 4      ┆ 4     ┆ 1.15     │\n",
      "│ …     ┆ …     ┆ …     ┆ …     ┆ … ┆ …      ┆ …      ┆ …     ┆ …        │\n",
      "│ 27015 ┆ 4     ┆ 3     ┆ 4     ┆ … ┆ 4      ┆ 4      ┆ null  ┆ 1.0      │\n",
      "│ 27046 ┆ 3     ┆ 4     ┆ 4     ┆ … ┆ 4      ┆ 4      ┆ 4     ┆ 0.95     │\n",
      "│ 27725 ┆ 3     ┆ 3     ┆ 3     ┆ … ┆ 3      ┆ 3      ┆ null  ┆ 0.789474 │\n",
      "│ 27863 ┆ 5     ┆ 5     ┆ 5     ┆ … ┆ 5      ┆ 4      ┆ 5     ┆ 1.25     │\n",
      "│ 28045 ┆ 3     ┆ 3     ┆ 4     ┆ … ┆ 4      ┆ 4      ┆ 4     ┆ 0.9      │\n",
      "└───────┴───────┴───────┴───────┴───┴────────┴────────┴───────┴──────────┘\n"
     ]
    }
   ],
   "source": [
    "# 연구윤리의식\n",
    "research_ethics = pl.read_csv(\"data/raw_research_ethics.csv\")\n",
    "\n",
    "select = pl.col(\"Q38_1\") + pl.col(\"Q38_2\") + pl.col(\"Q38_3\") + pl.col(\"Q38_4\") + pl.col(\"Q38_5\") \n",
    "+ pl.col(\"Q38_6\") + pl.col(\"Q38_7\") + pl.col(\"Q38_8\") + pl.col(\"Q38_9\") + pl.col(\"Q38_10\")\n",
    "+ pl.col(\"Q38_11\") + pl.col(\"Q38_12\") + pl.col(\"Q38_13\") + pl.col(\"Q38_14\") + pl.col(\"Q38_15\")\n",
    "+ pl.col(\"Q38_16\") + pl.col(\"Q38_17\") + pl.col(\"Q38_18\") + pl.col(\"Q38_19\") + pl.col(\"Q39_1\")\n",
    "\n",
    "research_ethics = research_ethics.with_columns(\n",
    "    pl.when(pl.col(\"Q39_1\").is_null())\n",
    "    .then(select / 19)\n",
    "    .otherwise(select/20)\n",
    "    .alias(\"Average\")\n",
    ")\n",
    "\n",
    "print(research_ethics)"
   ]
  },
  {
   "cell_type": "code",
   "execution_count": 7,
   "metadata": {},
   "outputs": [
    {
     "name": "stdout",
     "output_type": "stream",
     "text": [
      "shape: (4, 4)\n",
      "┌─────────────────┬────────────────────────┬────────────────────────┬───────────────────┐\n",
      "│ 도덕정체성_평균 ┆ 도덕정체성_내재화_평균 ┆ 도덕정체성_상징화_평균 ┆ 연구윤리의식_평균 │\n",
      "│ ---             ┆ ---                    ┆ ---                    ┆ ---               │\n",
      "│ f64             ┆ f64                    ┆ f64                    ┆ f64               │\n",
      "╞═════════════════╪════════════════════════╪════════════════════════╪═══════════════════╡\n",
      "│ 1.0             ┆ 0.80805                ┆ 0.905757               ┆ 0.362075          │\n",
      "│ 0.80805         ┆ 1.0                    ┆ 0.482231               ┆ 0.385816          │\n",
      "│ 0.905757        ┆ 0.482231               ┆ 1.0                    ┆ 0.260875          │\n",
      "│ 0.362075        ┆ 0.385816               ┆ 0.260875               ┆ 1.0               │\n",
      "└─────────────────┴────────────────────────┴────────────────────────┴───────────────────┘\n"
     ]
    }
   ],
   "source": [
    "# 상관테이블\n",
    "\n",
    "moral_identity_average = moral_identity.select(pl.col(\"Average\"))\n",
    "moral_identity_internalization = moral_identity.select(pl.col(\"Interanlization\"))\n",
    "moral_identity_symbolization = moral_identity.select(pl.col(\"Symbolization\"))\n",
    "research_average = research_ethics.select(pl.col(\"Average\"))\n",
    "\n",
    "correlatiion = pl.DataFrame(\n",
    "    {\n",
    "        \"도덕정체성_평균\": moral_identity_average[\"Average\"],\n",
    "        \"도덕정체성_내재화_평균\": moral_identity_internalization[\"Interanlization\"],\n",
    "        \"도덕정체성_상징화_평균\": moral_identity_symbolization[\"Symbolization\"],\n",
    "        \"연구윤리의식_평균\": research_average[\"Average\"]\n",
    "    }\n",
    ")\n",
    "\n",
    "correlation_matrix = correlatiion.corr()\n",
    "print(correlation_matrix)"
   ]
  },
  {
   "cell_type": "code",
   "execution_count": null,
   "metadata": {},
   "outputs": [],
   "source": []
  }
 ],
 "metadata": {
  "kernelspec": {
   "display_name": ".venv",
   "language": "python",
   "name": "python3"
  },
  "language_info": {
   "codemirror_mode": {
    "name": "ipython",
    "version": 3
   },
   "file_extension": ".py",
   "mimetype": "text/x-python",
   "name": "python",
   "nbconvert_exporter": "python",
   "pygments_lexer": "ipython3",
   "version": "3.12.6"
  }
 },
 "nbformat": 4,
 "nbformat_minor": 2
}
