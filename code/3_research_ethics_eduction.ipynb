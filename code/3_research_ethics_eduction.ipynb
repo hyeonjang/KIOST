{
 "cells": [
  {
   "cell_type": "code",
   "execution_count": 49,
   "metadata": {},
   "outputs": [
    {
     "name": "stdout",
     "output_type": "stream",
     "text": [
      "shape: (167, 65)\n",
      "┌───────┬─────┬──────┬──────┬───┬────────────────────┬─────┬──────┬────────────────────────────────┐\n",
      "│ ID    ┆ Q6  ┆ Q7_1 ┆ Q7_2 ┆ … ┆ Q17_5_duplicated_0 ┆ Q18 ┆ Q19  ┆ Q20                            │\n",
      "│ ---   ┆ --- ┆ ---  ┆ ---  ┆   ┆ ---                ┆ --- ┆ ---  ┆ ---                            │\n",
      "│ i64   ┆ i64 ┆ i64  ┆ i64  ┆   ┆ str                ┆ i64 ┆ str  ┆ str                            │\n",
      "╞═══════╪═════╪══════╪══════╪═══╪════════════════════╪═════╪══════╪════════════════════════════════╡\n",
      "│ 14630 ┆ 1   ┆ null ┆ null ┆ … ┆ null               ┆ 2   ┆ null ┆ .                              │\n",
      "│ 14629 ┆ 1   ┆ null ┆ null ┆ … ┆ null               ┆ 2   ┆ null ┆ null                           │\n",
      "│ 14626 ┆ 1   ┆ 1    ┆ null ┆ … ┆ null               ┆ 2   ┆ null ┆ null                           │\n",
      "│ 14624 ┆ 2   ┆ null ┆ null ┆ … ┆ null               ┆ 2   ┆ null ┆ null                           │\n",
      "│ 14627 ┆ 1   ┆ null ┆ null ┆ … ┆ null               ┆ 2   ┆ null ┆ null                           │\n",
      "│ …     ┆ …   ┆ …    ┆ …    ┆ … ┆ …                  ┆ …   ┆ …    ┆ …                              │\n",
      "│ 27015 ┆ 1   ┆ null ┆ null ┆ … ┆ null               ┆ 2   ┆ null ┆ 인공지능 및 AI 연구            │\n",
      "│ 27046 ┆ 1   ┆ null ┆ null ┆ … ┆ null               ┆ 2   ┆ null ┆ null                           │\n",
      "│ 27725 ┆ 1   ┆ null ┆ null ┆ … ┆ null               ┆ 2   ┆ null ┆ 연구비 집행                    │\n",
      "│ 27863 ┆ 1   ┆ null ┆ null ┆ … ┆ null               ┆ 2   ┆ null ┆ null                           │\n",
      "│ 28045 ┆ 1   ┆ null ┆ null ┆ … ┆ null               ┆ 2   ┆ null ┆ 부실 학술지 및 연구윤리에 관한 │\n",
      "│       ┆     ┆      ┆      ┆   ┆                    ┆     ┆      ┆ 고민                           │\n",
      "└───────┴─────┴──────┴──────┴───┴────────────────────┴─────┴──────┴────────────────────────────────┘\n"
     ]
    }
   ],
   "source": [
    "from attributes import *\n",
    "import polars as pl\n",
    "import altair as alt\n",
    "from pathlib import Path\n",
    "\n",
    "Path(\"figure/3/\").mkdir(parents=True, exist_ok=True)\n",
    "\n",
    "df = pl.read_csv(\n",
    "    \"data/3_research_ethics_education.csv\",\n",
    ")\n",
    "\n",
    "print(df)"
   ]
  },
  {
   "cell_type": "code",
   "execution_count": 50,
   "metadata": {},
   "outputs": [],
   "source": [
    "def count_y(name):\n",
    "    return df.group_by(pl.col(name).alias(\"Y\")).len().rename({\"len\":name})   \n",
    "\n",
    "def count_list_y(columns, select):\n",
    "    df = pl.DataFrame({\"Y\":select})\n",
    "    for col in columns:\n",
    "        count = df.group_by(pl.col(col).alias(\"Y\")).len().rename({\"len\":col})\n",
    "        df = df.join(count, on=\"Y\", how=\"left\")\n",
    "    return df\n",
    "\n",
    "def draw_bar_plot(df, x, y, title, MAP, width=400):\n",
    "\n",
    "    map = MAP\n",
    "    if type(MAP) is dict:\n",
    "        map = MAP.values()\n",
    "\n",
    "    bar_x = alt.X(x, title=None, axis=None)\n",
    "    bar_x = bar_x if MAP is None else bar_x.sort(map)\n",
    "\n",
    "    txt_x = alt.X(x, sort=map) if MAP is not None else alt.X(x)\n",
    "\n",
    "    bar = df.plot.bar().encode(\n",
    "        x=bar_x,\n",
    "        y=alt.Y(y, title=None),\n",
    "        color=alt.Color(x, title=None, scale=alt.Scale(scheme=\"tableau20\")).sort(map),\n",
    "    ).properties(\n",
    "        title=title,\n",
    "        width=width,\n",
    "    )\n",
    "\n",
    "    text = bar.mark_text(\n",
    "        align=\"center\",\n",
    "        baseline=\"bottom\",\n",
    "    ).encode(\n",
    "        x=txt_x,\n",
    "        y=y,\n",
    "        text=y,\n",
    "        color=alt.value(\"black\"),\n",
    "    )\n",
    "    return bar + text"
   ]
  },
  {
   "cell_type": "code",
   "execution_count": 51,
   "metadata": {},
   "outputs": [],
   "source": [
    "def basic_analysis(name):\n",
    "    count = df.group_by(name).len().sort(name).drop_nulls()\n",
    "    proportion = count.with_columns(\n",
    "        pct = (pl.col(\"len\") / pl.col(\"len\").sum() * 100).round(1)\n",
    "    )\n",
    "    return count, proportion, proportion.sum()"
   ]
  },
  {
   "cell_type": "code",
   "execution_count": 52,
   "metadata": {},
   "outputs": [],
   "source": [
    "from attributes import *\n",
    "from scipy import stats\n",
    "import pandas as pd\n",
    "\n",
    "#\n",
    "# Chi-square test\n",
    "#\n",
    "personal_info = pl.read_csv(\"data/6_personal_info.csv\")\n",
    "recognition_stats = df.join(personal_info, on=\"ID\")\n",
    "\n",
    "def chi2_test(target_name):\n",
    "    chi_analysis = {}\n",
    "    for key, value in MAP_PERSON.items():\n",
    "        target = recognition_stats.pivot(target_name, index=value, values=target_name, aggregate_function='count', sort_columns=True).fill_null(0).drop(value)\n",
    "        t, p, dof, _ = stats.chi2_contingency(target.to_numpy())\n",
    "        chi_analysis[key] = (float(t), float(p))\n",
    "    return chi_analysis"
   ]
  },
  {
   "cell_type": "code",
   "execution_count": 53,
   "metadata": {},
   "outputs": [
    {
     "data": {
      "text/html": [
       "<div><style>\n",
       ".dataframe > thead > tr,\n",
       ".dataframe > tbody > tr {\n",
       "  text-align: right;\n",
       "  white-space: pre-wrap;\n",
       "}\n",
       "</style>\n",
       "<small>shape: (2, 3)</small><table border=\"1\" class=\"dataframe\"><thead><tr><th>Q6</th><th>len</th><th>percentage</th></tr><tr><td>i64</td><td>u32</td><td>f64</td></tr></thead><tbody><tr><td>2</td><td>30</td><td>0.666667</td></tr><tr><td>1</td><td>137</td><td>0.333333</td></tr></tbody></table></div>"
      ],
      "text/plain": [
       "shape: (2, 3)\n",
       "┌─────┬─────┬────────────┐\n",
       "│ Q6  ┆ len ┆ percentage │\n",
       "│ --- ┆ --- ┆ ---        │\n",
       "│ i64 ┆ u32 ┆ f64        │\n",
       "╞═════╪═════╪════════════╡\n",
       "│ 2   ┆ 30  ┆ 0.666667   │\n",
       "│ 1   ┆ 137 ┆ 0.333333   │\n",
       "└─────┴─────┴────────────┘"
      ]
     },
     "execution_count": 53,
     "metadata": {},
     "output_type": "execute_result"
    }
   ],
   "source": [
    "# \n",
    "# 가 연구자의 연구윤리 교육 경험\n",
    "# \n",
    "\n",
    "# 연구윤리 규범 범위의 확대 인식 여부\n",
    "columns = {\n",
    "    \"Q6\": \"연구윤리 규범 범위의 확대 인식 여부\",\n",
    "}\n",
    "\n",
    "research_ethics_eduction_experience = df.group_by(\"Q6\").len()\n",
    "research_ethics_eduction_experience.with_columns(\n",
    "    (pl.col(\"Q6\") / pl.col(\"Q6\").sum()).alias(\"percentage\"),\n",
    ")"
   ]
  },
  {
   "cell_type": "code",
   "execution_count": 54,
   "metadata": {},
   "outputs": [
    {
     "name": "stdout",
     "output_type": "stream",
     "text": [
      "shape: (1, 5)\n",
      "┌────────────────┬────────────────┬──────────────────┬──────────────────┬──────┐\n",
      "│ 원내 집합 교육 ┆ 원외 집합 교육 ┆ 원내 온라인 강의 ┆ 원외 온라인 강의 ┆ 기타 │\n",
      "│ ---            ┆ ---            ┆ ---              ┆ ---              ┆ ---  │\n",
      "│ u32            ┆ u32            ┆ u32              ┆ u32              ┆ u32  │\n",
      "╞════════════════╪════════════════╪══════════════════╪══════════════════╪══════╡\n",
      "│ 30             ┆ 4              ┆ 113              ┆ 26               ┆ 2    │\n",
      "└────────────────┴────────────────┴──────────────────┴──────────────────┴──────┘\n",
      "shape: (1, 5)\n",
      "┌────────────────┬────────────────┬──────────────────┬──────────────────┬──────────┐\n",
      "│ 원내 집합 교육 ┆ 원외 집합 교육 ┆ 원내 온라인 강의 ┆ 원외 온라인 강의 ┆ 기타     │\n",
      "│ ---            ┆ ---            ┆ ---              ┆ ---              ┆ ---      │\n",
      "│ f64            ┆ f64            ┆ f64              ┆ f64              ┆ f64      │\n",
      "╞════════════════╪════════════════╪══════════════════╪══════════════════╪══════════╡\n",
      "│ 0.171429       ┆ 0.022857       ┆ 0.645714         ┆ 0.148571         ┆ 0.011429 │\n",
      "└────────────────┴────────────────┴──────────────────┴──────────────────┴──────────┘\n"
     ]
    }
   ],
   "source": [
    "# \n",
    "# 나. 연구윤리 교육 방법\n",
    "# \n",
    "\n",
    "map = [\"원내 집합 교육\", \"원외 집합 교육\", \"원내 온라인 강의\", \"원외 온라인 강의\", \"기타\"]\n",
    "\n",
    "method = df.select([\n",
    "    pl.col(\"Q7_1\").value_counts().sort().struct[1].alias(map[0]),\n",
    "    pl.col(\"Q7_2\").value_counts().sort().struct[1].alias(map[1]),\n",
    "    pl.col(\"Q7_3\").value_counts().sort().struct[1].alias(map[2]),\n",
    "    pl.col(\"Q7_4\").value_counts().sort().struct[1].alias(map[3]),\n",
    "    pl.col(\"Q7_5\").value_counts().sort().struct[1].alias(map[4]),\n",
    "])[1]\n",
    "\n",
    "method.write_csv(\"figure/3/나_연구윤리_교육_방법.csv\")\n",
    "pct = method.with_columns(\n",
    "    pl.col(map[0]) / (pl.col(map[0]) + pl.col(map[1]) + pl.col(map[2]) + pl.col(map[3]) + pl.col(map[4])).alias(map[0]),\n",
    "    pl.col(map[1]) / (pl.col(map[0]) + pl.col(map[1]) + pl.col(map[2]) + pl.col(map[3]) + pl.col(map[4])).alias(map[1]),\n",
    "    pl.col(map[2]) / (pl.col(map[0]) + pl.col(map[1]) + pl.col(map[2]) + pl.col(map[3]) + pl.col(map[4])).alias(map[2]),\n",
    "    pl.col(map[3]) / (pl.col(map[0]) + pl.col(map[1]) + pl.col(map[2]) + pl.col(map[3]) + pl.col(map[4])).alias(map[3]),\n",
    "    pl.col(map[4]) / (pl.col(map[0]) + pl.col(map[1]) + pl.col(map[2]) + pl.col(map[3]) + pl.col(map[4])).alias(map[4]),\n",
    ")\n",
    "print(method)\n",
    "print(pct)\n"
   ]
  },
  {
   "cell_type": "code",
   "execution_count": 55,
   "metadata": {},
   "outputs": [
    {
     "name": "stdout",
     "output_type": "stream",
     "text": [
      "shape: (1, 11)\n",
      "┌────────────┬──────────┬────────┬────────────┬───┬────────────┬───────────┬───────────┬───────────┐\n",
      "│ 책임 있는  ┆ 출판윤리 ┆ 연구   ┆ 연구자의   ┆ … ┆ 연구진실성 ┆ 학문교류  ┆ 부실학술  ┆ ChatGPT   │\n",
      "│ 연구수행   ┆ ---      ┆ 공동체 ┆ 사회적     ┆   ┆ 검증       ┆ 윤리      ┆ 활동 예방 ┆ 등 생성형 │\n",
      "│ ---        ┆ u32      ┆ ---    ┆ 책임       ┆   ┆ ---        ┆ ---       ┆ ---       ┆ AI 활용과 │\n",
      "│ u32        ┆          ┆ u32    ┆ ---        ┆   ┆ u32        ┆ u32       ┆ u32       ┆ 연구윤리  │\n",
      "│            ┆          ┆        ┆ u32        ┆   ┆            ┆           ┆           ┆ ---       │\n",
      "│            ┆          ┆        ┆            ┆   ┆            ┆           ┆           ┆ u32       │\n",
      "╞════════════╪══════════╪════════╪════════════╪═══╪════════════╪═══════════╪═══════════╪═══════════╡\n",
      "│ 93         ┆ 93       ┆ 30     ┆ 34         ┆ … ┆ 41         ┆ 34        ┆ 49        ┆ 18        │\n",
      "└────────────┴──────────┴────────┴────────────┴───┴────────────┴───────────┴───────────┴───────────┘\n",
      "shape: (1, 11)\n",
      "┌───────────┬──────────┬───────────┬───────────┬───┬───────────┬───────────┬───────────┬───────────┐\n",
      "│ 책임 있는 ┆ 출판윤리 ┆ 연구      ┆ 연구자의  ┆ … ┆ 연구진실  ┆ 학문교류  ┆ 부실학술  ┆ ChatGPT   │\n",
      "│ 연구수행  ┆ ---      ┆ 공동체    ┆ 사회적    ┆   ┆ 성 검증   ┆ 윤리      ┆ 활동 예방 ┆ 등 생성형 │\n",
      "│ ---       ┆ f64      ┆ ---       ┆ 책임      ┆   ┆ ---       ┆ ---       ┆ ---       ┆ AI 활용과 │\n",
      "│ f64       ┆          ┆ f64       ┆ ---       ┆   ┆ f64       ┆ f64       ┆ f64       ┆ 연구윤리  │\n",
      "│           ┆          ┆           ┆ f64       ┆   ┆           ┆           ┆           ┆ ---       │\n",
      "│           ┆          ┆           ┆           ┆   ┆           ┆           ┆           ┆ f64       │\n",
      "╞═══════════╪══════════╪═══════════╪═══════════╪═══╪═══════════╪═══════════╪═══════════╪═══════════╡\n",
      "│ 0.168174  ┆ 0.168174 ┆ 0.05425   ┆ 0.061483  ┆ … ┆ 0.074141  ┆ 0.061483  ┆ 0.088608  ┆ 0.03255   │\n",
      "└───────────┴──────────┴───────────┴───────────┴───┴───────────┴───────────┴───────────┴───────────┘\n"
     ]
    }
   ],
   "source": [
    "# \n",
    "# 다. 연구윤리 교육 내용\n",
    "# \n",
    "\n",
    "map = [\"책임 있는 연구수행\", \"출판윤리\", \"연구 공동체\", \"연구자의 사회적 책임\", \"연구 성과 및 데이터\", \"이해충돌\", \"생명윤리\", \"연구진실성 검증\", \"학문교류 윤리\", \"부실학술활동 예방\", \"ChatGPT 등 생성형 AI 활용과 연구윤리\"]\n",
    "\n",
    "contents = df.select([\n",
    "    pl.col(\"Q8_1\").value_counts().sort().struct[1].alias(map[0]),\n",
    "    pl.col(\"Q8_2\").value_counts().sort().struct[1].alias(map[1]),\n",
    "    pl.col(\"Q8_3\").value_counts().sort().struct[1].alias(map[2]),\n",
    "    pl.col(\"Q8_4\").value_counts().sort().struct[1].alias(map[3]),\n",
    "    pl.col(\"Q8_5\").value_counts().sort().struct[1].alias(map[4]),\n",
    "    pl.col(\"Q8_6\").value_counts().sort().struct[1].alias(map[5]),\n",
    "    pl.col(\"Q8_7\").value_counts().sort().struct[1].alias(map[6]),\n",
    "    pl.col(\"Q8_8\").value_counts().sort().struct[1].alias(map[7]),\n",
    "    pl.col(\"Q8_9\").value_counts().sort().struct[1].alias(map[8]),\n",
    "    pl.col(\"Q8_10\").value_counts().sort().struct[1].alias(map[9]),\n",
    "    pl.col(\"Q8_11\").value_counts().sort().struct[1].alias(map[10]),\n",
    "])[1]\n",
    "\n",
    "contents.write_csv(\"figure/3/다_연구윤리_교육_내용.csv\")\n",
    "print(contents)\n",
    "\n",
    "pct = contents.with_columns(\n",
    "    pl.col(map[0]) / (pl.col(map[0]) + pl.col(map[1]) + pl.col(map[2]) + pl.col(map[3]) + pl.col(map[4]) + pl.col(map[5]) + pl.col(map[6]) + pl.col(map[7]) + pl.col(map[8]) + pl.col(map[9]) + pl.col(map[10])).alias(map[0]),\n",
    "    pl.col(map[1]) / (pl.col(map[0]) + pl.col(map[1]) + pl.col(map[2]) + pl.col(map[3]) + pl.col(map[4]) + pl.col(map[5]) + pl.col(map[6]) + pl.col(map[7]) + pl.col(map[8]) + pl.col(map[9]) + pl.col(map[10])).alias(map[1]),\n",
    "    pl.col(map[2]) / (pl.col(map[0]) + pl.col(map[1]) + pl.col(map[2]) + pl.col(map[3]) + pl.col(map[4]) + pl.col(map[5]) + pl.col(map[6]) + pl.col(map[7]) + pl.col(map[8]) + pl.col(map[9]) + pl.col(map[10])).alias(map[2]),\n",
    "    pl.col(map[3]) / (pl.col(map[0]) + pl.col(map[1]) + pl.col(map[2]) + pl.col(map[3]) + pl.col(map[4]) + pl.col(map[5]) + pl.col(map[6]) + pl.col(map[7]) + pl.col(map[8]) + pl.col(map[9]) + pl.col(map[10])).alias(map[3]),\n",
    "    pl.col(map[4]) / (pl.col(map[0]) + pl.col(map[1]) + pl.col(map[2]) + pl.col(map[3]) + pl.col(map[4]) + pl.col(map[5]) + pl.col(map[6]) + pl.col(map[7]) + pl.col(map[8]) + pl.col(map[9]) + pl.col(map[10])).alias(map[4]),\n",
    "    pl.col(map[5]) / (pl.col(map[0]) + pl.col(map[1]) + pl.col(map[2]) + pl.col(map[3]) + pl.col(map[4]) + pl.col(map[5]) + pl.col(map[6]) + pl.col(map[7]) + pl.col(map[8]) + pl.col(map[9]) + pl.col(map[10])).alias(map[5]),\n",
    "    pl.col(map[6]) / (pl.col(map[0]) + pl.col(map[1]) + pl.col(map[2]) + pl.col(map[3]) + pl.col(map[4]) + pl.col(map[5]) + pl.col(map[6]) + pl.col(map[7]) + pl.col(map[8]) + pl.col(map[9]) + pl.col(map[10])).alias(map[6]),\n",
    "    pl.col(map[7]) / (pl.col(map[0]) + pl.col(map[1]) + pl.col(map[2]) + pl.col(map[3]) + pl.col(map[4]) + pl.col(map[5]) + pl.col(map[6]) + pl.col(map[7]) + pl.col(map[8]) + pl.col(map[9]) + pl.col(map[10])).alias(map[7]),\n",
    "    pl.col(map[8]) / (pl.col(map[0]) + pl.col(map[1]) + pl.col(map[2]) + pl.col(map[3]) + pl.col(map[4]) + pl.col(map[5]) + pl.col(map[6]) + pl.col(map[7]) + pl.col(map[8]) + pl.col(map[9]) + pl.col(map[10])).alias(map[8]),\n",
    "    pl.col(map[9]) / (pl.col(map[0]) + pl.col(map[1]) + pl.col(map[2]) + pl.col(map[3]) + pl.col(map[4]) + pl.col(map[5]) + pl.col(map[6]) + pl.col(map[7]) + pl.col(map[8]) + pl.col(map[9]) + pl.col(map[10])).alias(map[9]),\n",
    "    pl.col(map[10]) / (pl.col(map[0]) + pl.col(map[1]) + pl.col(map[2]) + pl.col(map[3]) + pl.col(map[4]) + pl.col(map[5]) + pl.col(map[6]) + pl.col(map[7]) + pl.col(map[8]) + pl.col(map[9]) + pl.col(map[10])).alias(map[10]),\n",
    ")\n",
    "print(pct)\n",
    "\n",
    "bar = draw_bar_plot(contents.transpose(include_header=True), \"column\", \"column_0\", \"연구윤리 교육 내용\", map, width=800)\n",
    "bar.save(\"figure/3/다_연구윤리_교육_내용.png\")"
   ]
  },
  {
   "cell_type": "code",
   "execution_count": 56,
   "metadata": {},
   "outputs": [
    {
     "name": "stdout",
     "output_type": "stream",
     "text": [
      "shape: (4, 3)\n",
      "┌──────────────────────┬─────┬────────────┐\n",
      "│ 연구윤리 교육 만족도 ┆ len ┆ percentage │\n",
      "│ ---                  ┆ --- ┆ ---        │\n",
      "│ i64                  ┆ u32 ┆ f64        │\n",
      "╞══════════════════════╪═════╪════════════╡\n",
      "│ 2                    ┆ 3   ┆ 0.021898   │\n",
      "│ 3                    ┆ 35  ┆ 0.255474   │\n",
      "│ 4                    ┆ 80  ┆ 0.583942   │\n",
      "│ 5                    ┆ 19  ┆ 0.138686   │\n",
      "└──────────────────────┴─────┴────────────┘\n"
     ]
    }
   ],
   "source": [
    "# \n",
    "# 라. 연구윤리 교육 만족도\n",
    "# \n",
    "# 1)\n",
    "column = {\n",
    "    \"Q9\": \"연구윤리 교육 만족도\",\n",
    "}\n",
    "\n",
    "count = df.group_by(\"Q9\").len().drop_nulls().sort(\"Q9\")\n",
    "all = count.with_columns((pl.col(\"len\") / pl.col(\"len\").sum()).alias(\"percentage\")).rename(column)\n",
    "print(all)\n",
    "all.write_csv(\"figure/3/라_1_연구윤리_교육_만족도.csv\", include_bom=True)"
   ]
  },
  {
   "cell_type": "code",
   "execution_count": 57,
   "metadata": {},
   "outputs": [
    {
     "name": "stdout",
     "output_type": "stream",
     "text": [
      "shape: (3, 3)\n",
      "┌───────────────────────────┬─────┬────────────┐\n",
      "│ 연구윤리 교육 만족의 이유 ┆ len ┆ percentage │\n",
      "│ ---                       ┆ --- ┆ ---        │\n",
      "│ i64                       ┆ u32 ┆ f64        │\n",
      "╞═══════════════════════════╪═════╪════════════╡\n",
      "│ 1                         ┆ 22  ┆ 0.222222   │\n",
      "│ 2                         ┆ 9   ┆ 0.090909   │\n",
      "│ 3                         ┆ 68  ┆ 0.686869   │\n",
      "└───────────────────────────┴─────┴────────────┘\n"
     ]
    }
   ],
   "source": [
    "# \n",
    "# 라. 연구윤리 교육 만족도\n",
    "# \n",
    "# 2)\n",
    "column = {\n",
    "    \"Q10\": \"연구윤리 교육 만족의 이유\",\n",
    "}\n",
    "\n",
    "count = df.group_by(\"Q10\").len().drop_nulls().sort(\"Q10\")\n",
    "all = count.with_columns((pl.col(\"len\") / pl.col(\"len\").sum()).alias(\"percentage\")).rename(column)\n",
    "print(all)\n",
    "all.write_csv(\"figure/3/라_2_연구윤리_교육_만족_이유.csv\", include_bom=True)"
   ]
  },
  {
   "cell_type": "code",
   "execution_count": 58,
   "metadata": {},
   "outputs": [],
   "source": [
    "# \n",
    "# 라. 연구윤리 교육 만족도\n",
    "# \n",
    "# 3)\n",
    "column = {\n",
    "    \"Q11\": \"연구윤리 교육 불만족의 이유\",\n",
    "}\n",
    "\n",
    "count = df.group_by(\"Q11\").len().drop_nulls().sort(\"Q11\")\n",
    "all = count.with_columns((pl.col(\"len\") / pl.col(\"len\").sum()).alias(\"percentage\")).rename(column)\n",
    "all.write_csv(\"figure/3/라_2_연구윤리_교육_불만족_이유.csv\", include_bom=True)"
   ]
  },
  {
   "cell_type": "code",
   "execution_count": 59,
   "metadata": {},
   "outputs": [
    {
     "name": "stdout",
     "output_type": "stream",
     "text": [
      "shape: (1, 9)\n",
      "┌─────────────┬──────────┬────────┬─────────────┬───┬─────────────┬────────────┬────────────┬──────┐\n",
      "│ 연구부정행  ┆ 출판윤리 ┆ 연구비 ┆ 연구노트    ┆ … ┆ 부실        ┆ AI 활용    ┆ 이해충돌   ┆ 기타 │\n",
      "│ 위 사례 및  ┆ ---      ┆ 집행   ┆ 작성 및     ┆   ┆ 학술활동    ┆ 연구활동과 ┆ 관리       ┆ ---  │\n",
      "│ 검증        ┆ u32      ┆ ---    ┆ 데이터 관리 ┆   ┆ 예방        ┆ 연구윤리   ┆ ---        ┆ u32  │\n",
      "│ ---         ┆          ┆ u32    ┆ ---         ┆   ┆ ---         ┆ 누락       ┆ u32        ┆      │\n",
      "│ u32         ┆          ┆        ┆ u32         ┆   ┆ u32         ┆ ---        ┆            ┆      │\n",
      "│             ┆          ┆        ┆             ┆   ┆             ┆ u32        ┆            ┆      │\n",
      "╞═════════════╪══════════╪════════╪═════════════╪═══╪═════════════╪════════════╪════════════╪══════╡\n",
      "│ 93          ┆ 73       ┆ 75     ┆ 35          ┆ … ┆ 35          ┆ 93         ┆ 33         ┆ 1    │\n",
      "└─────────────┴──────────┴────────┴─────────────┴───┴─────────────┴────────────┴────────────┴──────┘\n"
     ]
    }
   ],
   "source": [
    "# \n",
    "# 마. 연구자가 향후 받고 싶은 교육 내용\n",
    "# \n",
    "\n",
    "map = [\"연구부정행위 사례 및 검증\", \"출판윤리\", \"연구비 집행\", \"연구노트 작성 및 데이터 관리\", \"연구자의 사회적 책임\", \"부실 학술활동 예방\", \"AI 활용 연구활동과 연구윤리 누락\", \"이해충돌 관리\", \"기타\"]\n",
    "\n",
    "future_contents = df.select([\n",
    "    pl.col(\"Q12_1\").value_counts().sort().struct[1].alias(map[0]),\n",
    "    pl.col(\"Q12_2\").value_counts().sort().struct[1].alias(map[1]),\n",
    "    pl.col(\"Q12_3\").value_counts().sort().struct[1].alias(map[2]),\n",
    "    pl.col(\"Q12_4\").value_counts().sort().struct[1].alias(map[3]),\n",
    "    pl.col(\"Q12_5\").value_counts().sort().struct[1].alias(map[4]),\n",
    "    pl.col(\"Q12_6\").value_counts().sort().struct[1].alias(map[5]),\n",
    "    pl.col(\"Q12_7\").value_counts().sort().struct[1].alias(map[6]),\n",
    "    pl.col(\"Q12_8\").value_counts().sort().struct[1].alias(map[7]),\n",
    "    pl.col(\"Q12_9\").value_counts().sort().struct[1].alias(map[8]),\n",
    "])[1]\n",
    "\n",
    "print(future_contents)\n",
    "future_contents.write_csv(\"figure/3/마_연구자가_향후_받고_싶은_교육_내용.csv\", include_bom=True)\n",
    "\n",
    "bar = draw_bar_plot(future_contents.transpose(include_header=True), \"column\", \"column_0\", \"연구자가 향후 받고 싶은 교육 내용\", map)\n",
    "bar.save(\"figure/3/마_연구자가_향후_받고_싶은_교육_내용.svg\")"
   ]
  },
  {
   "cell_type": "code",
   "execution_count": 60,
   "metadata": {},
   "outputs": [
    {
     "name": "stdout",
     "output_type": "stream",
     "text": [
      "shape: (1, 6)\n",
      "┌──────┬────────┬──────────┬────────────────┬───────────┬────────────────────┐\n",
      "│ 대면 ┆ 비대면 ┆ 사례중심 ┆ 토의/토론 중심 ┆ 강의 중심 ┆ 동영상 등 ICT 활용 │\n",
      "│ ---  ┆ ---    ┆ ---      ┆ ---            ┆ ---       ┆ ---                │\n",
      "│ u32  ┆ u32    ┆ u32      ┆ u32            ┆ u32       ┆ u32                │\n",
      "╞══════╪════════╪══════════╪════════════════╪═══════════╪════════════════════╡\n",
      "│ 53   ┆ 63     ┆ 91       ┆ 15             ┆ 35        ┆ 62                 │\n",
      "└──────┴────────┴──────────┴────────────────┴───────────┴────────────────────┘\n"
     ]
    }
   ],
   "source": [
    "# \n",
    "# 바. 연구자가 향후 받고 싶은 교육 방법\n",
    "# \n",
    "\n",
    "map = [\"대면\", \"비대면\", \"사례중심\", \"토의/토론 중심\", \"강의 중심\", \"동영상 등 ICT 활용\", \"기타\"]\n",
    "\n",
    "future_method = df.select([\n",
    "    pl.col(\"Q13_1\").value_counts().sort().struct[1].alias(map[0]),\n",
    "    pl.col(\"Q13_2\").value_counts().sort().struct[1].alias(map[1]),\n",
    "    pl.col(\"Q13_3\").value_counts().sort().struct[1].alias(map[2]),\n",
    "    pl.col(\"Q13_4\").value_counts().sort().struct[1].alias(map[3]),\n",
    "    pl.col(\"Q13_5\").value_counts().sort().struct[1].alias(map[4]),\n",
    "    pl.col(\"Q13_6\").value_counts().sort().struct[1].alias(map[5]),\n",
    "    # pl.col(\"Q13_7\").value_counts().sort().struct[1].alias(map[6]),\n",
    "])[1]\n",
    "\n",
    "print(future_method)\n",
    "\n",
    "future_method.write_csv(\"figure/3/바_연구자가_향후_받고_싶은_교육_방법.csv\", include_bom=True)\n",
    "\n",
    "bar = draw_bar_plot(future_method.transpose(include_header=True), \"column\", \"column_0\", \"연구자가 향후 받고 싶은 교육 방법\", map)\n",
    "bar.save(\"figure/3/바_연구자가_향후_받고_싶은_교육_방법.svg\")"
   ]
  },
  {
   "cell_type": "code",
   "execution_count": 61,
   "metadata": {},
   "outputs": [
    {
     "data": {
      "text/html": [
       "<div><style>\n",
       ".dataframe > thead > tr,\n",
       ".dataframe > tbody > tr {\n",
       "  text-align: right;\n",
       "  white-space: pre-wrap;\n",
       "}\n",
       "</style>\n",
       "<small>shape: (8, 3)</small><table border=\"1\" class=\"dataframe\"><thead><tr><th>확인여부</th><th>len</th><th>구분</th></tr><tr><td>str</td><td>u32</td><td>str</td></tr></thead><tbody><tr><td>&quot;보았다&quot;</td><td>110</td><td>&quot;연구윤리 동영상&quot;</td></tr><tr><td>&quot;보지 못했다&quot;</td><td>57</td><td>&quot;연구윤리 동영상&quot;</td></tr><tr><td>&quot;보았다&quot;</td><td>126</td><td>&quot;연구윤리 뉴스레터&quot;</td></tr><tr><td>&quot;보지 못했다&quot;</td><td>41</td><td>&quot;연구윤리 뉴스레터&quot;</td></tr><tr><td>&quot;보지 못했다&quot;</td><td>69</td><td>&quot;연구윤리 Q&amp;A&quot;</td></tr><tr><td>&quot;보았다&quot;</td><td>98</td><td>&quot;연구윤리 Q&amp;A&quot;</td></tr><tr><td>&quot;보지 못했다&quot;</td><td>85</td><td>&quot;연구윤리 체크리스트&quot;</td></tr><tr><td>&quot;보았다&quot;</td><td>82</td><td>&quot;연구윤리 체크리스트&quot;</td></tr></tbody></table></div>"
      ],
      "text/plain": [
       "shape: (8, 3)\n",
       "┌─────────────┬─────┬─────────────────────┐\n",
       "│ 확인여부    ┆ len ┆ 구분                │\n",
       "│ ---         ┆ --- ┆ ---                 │\n",
       "│ str         ┆ u32 ┆ str                 │\n",
       "╞═════════════╪═════╪═════════════════════╡\n",
       "│ 보았다      ┆ 110 ┆ 연구윤리 동영상     │\n",
       "│ 보지 못했다 ┆ 57  ┆ 연구윤리 동영상     │\n",
       "│ 보았다      ┆ 126 ┆ 연구윤리 뉴스레터   │\n",
       "│ 보지 못했다 ┆ 41  ┆ 연구윤리 뉴스레터   │\n",
       "│ 보지 못했다 ┆ 69  ┆ 연구윤리 Q&A        │\n",
       "│ 보았다      ┆ 98  ┆ 연구윤리 Q&A        │\n",
       "│ 보지 못했다 ┆ 85  ┆ 연구윤리 체크리스트 │\n",
       "│ 보았다      ┆ 82  ┆ 연구윤리 체크리스트 │\n",
       "└─────────────┴─────┴─────────────────────┘"
      ]
     },
     "execution_count": 61,
     "metadata": {},
     "output_type": "execute_result"
    }
   ],
   "source": [
    "# \n",
    "# 사. KIOST가 제공하는 연구윤리 교육 콘텐츠\n",
    "# \n",
    "# 1) KIOST 연구윤리 교육 콘텐츠 확인 여부\n",
    "# \n",
    "\n",
    "map = {\n",
    "    1: \"보지 못했다\",\n",
    "    2: \"보았다\"\n",
    "}\n",
    "\n",
    "video = df.group_by(\"Q14_1\").len().rename({\"Q14_1\": \"확인여부\"}).with_columns(구분=pl.lit(\"연구윤리 동영상\"))\n",
    "newsletter = df.group_by(\"Q14_2\").len().rename({\"Q14_2\": \"확인여부\"}).with_columns(구분=pl.lit(\"연구윤리 뉴스레터\"))\n",
    "qanda = df.group_by(\"Q14_3\").len().rename({\"Q14_3\": \"확인여부\"}).with_columns(구분=pl.lit(\"연구윤리 Q&A\"))\n",
    "checklist = df.group_by(\"Q14_4\").len().rename({\"Q14_4\": \"확인여부\"}).with_columns(구분=pl.lit(\"연구윤리 체크리스트\"))\n",
    "\n",
    "\n",
    "KIOST_contents = pl.DataFrame()\n",
    "KIOST_contents = KIOST_contents.vstack(video).vstack(newsletter).vstack(qanda).vstack(checklist).with_columns(\n",
    "    pl.col(\"확인여부\").replace_strict(map),\n",
    ")\n",
    "KIOST_contents.write_csv(\"figure/3/사_1_KIOST_연구윤리_교육_콘텐츠_확인_여부.csv\", include_bom=True)\n",
    "KIOST_contents"
   ]
  },
  {
   "cell_type": "code",
   "execution_count": 62,
   "metadata": {},
   "outputs": [],
   "source": [
    "# bar = KIOST_contents.plot.bar().encode(\n",
    "#     x=alt.X(\"확인여부:O\", title=None, axis=None),\n",
    "#     y=alt.Y(\"len:Q\", title=None),\n",
    "#     color=alt.Color(\"확인여부:N\"),\n",
    "#     # column=alt.Column(\"구분:N\", title=\"KIOST 연구윤리 교육 콘텐츠 확인 여부\", center=True, align=\"each\"),\n",
    "# ).properties(\n",
    "#     width=120,\n",
    "# )\n",
    "\n",
    "# text = bar.mark_text(\n",
    "#     align=\"center\",\n",
    "#     baseline=\"bottom\",\n",
    "# ).encode(\n",
    "#     text=\"len\",\n",
    "# )\n",
    "\n",
    "# layered_chart = alt.layer(bar, text)\n",
    "\n",
    "# # Apply faceting to the layered chart\n",
    "# final_chart = layered_chart.facet(\n",
    "#     column=alt.Column(\"구분:N\", title=\"KIOST 연구윤리 교육 콘텐츠 확인 여부\")\n",
    "# )"
   ]
  },
  {
   "cell_type": "code",
   "execution_count": 63,
   "metadata": {},
   "outputs": [
    {
     "name": "stdout",
     "output_type": "stream",
     "text": [
      "{'성별': (4.08249206585958, 0.39495686513416556), '연령대': (15.021916170241457, 0.5230339343599888), '직위': (20.21493241677236, 0.4445588976847819), '최종학위': (6.615227233233345, 0.5786568466562789), '연구경력': (16.92331060674453, 0.15250495400568204), '연구분야': (18.993527951158917, 0.7523346794838984)}\n"
     ]
    },
    {
     "name": "stderr",
     "output_type": "stream",
     "text": [
      "C:\\Users\\hyeon\\AppData\\Local\\Temp\\ipykernel_26388\\795108283.py:14: DeprecationWarning: `aggregate_function='count'` input for `pivot` is deprecated. Please use `aggregate_function='len'`.\n",
      "  target = recognition_stats.pivot(target_name, index=value, values=target_name, aggregate_function='count', sort_columns=True).fill_null(0).drop(value)\n"
     ]
    },
    {
     "data": {
      "text/plain": [
       "(shape: (4, 2)\n",
       " ┌───────┬─────┐\n",
       " │ Q15_1 ┆ len │\n",
       " │ ---   ┆ --- │\n",
       " │ i64   ┆ u32 │\n",
       " ╞═══════╪═════╡\n",
       " │ 1     ┆ 18  │\n",
       " │ 2     ┆ 60  │\n",
       " │ 3     ┆ 33  │\n",
       " │ 4     ┆ 3   │\n",
       " └───────┴─────┘,\n",
       " shape: (4, 3)\n",
       " ┌───────┬─────┬──────┐\n",
       " │ Q15_1 ┆ len ┆ pct  │\n",
       " │ ---   ┆ --- ┆ ---  │\n",
       " │ i64   ┆ u32 ┆ f64  │\n",
       " ╞═══════╪═════╪══════╡\n",
       " │ 1     ┆ 18  ┆ 15.8 │\n",
       " │ 2     ┆ 60  ┆ 52.6 │\n",
       " │ 3     ┆ 33  ┆ 28.9 │\n",
       " │ 4     ┆ 3   ┆ 2.6  │\n",
       " └───────┴─────┴──────┘)"
      ]
     },
     "execution_count": 63,
     "metadata": {},
     "output_type": "execute_result"
    }
   ],
   "source": [
    "# \n",
    "# 사. KIOST가 제공하는 연구윤리 교육 콘텐츠\n",
    "# \n",
    "# 2) KIOST 연구윤리 교육 콘텐츠 만족도\n",
    "# \n",
    "#  Q15_1: 연구윤리 동영상 만족도\n",
    "#  Q15_2: 연구윤리 뉴스레터 만족도\n",
    "#  Q15_3: 연구윤리 Q&A 만족도\n",
    "#  Q15_4: 연구윤리 체크리스트 만족도\n",
    "\n",
    "map = {\n",
    "    1: \"매우 만족\",\n",
    "    2: \"만족\",\n",
    "    3: \"보통\",\n",
    "    4: \"불만족\",\n",
    "    5: \"매우 불만족\"\n",
    "}\n",
    "\n",
    "print(chi2_test(\"Q15_1\"))\n",
    "basic_analysis(\"Q15_1\")\n"
   ]
  },
  {
   "cell_type": "code",
   "execution_count": 64,
   "metadata": {},
   "outputs": [
    {
     "name": "stdout",
     "output_type": "stream",
     "text": [
      "{'성별': (2.6038238042981123, 0.6261459032738297), '연령대': (8.652731307441453, 0.9270229276475723), '직위': (18.348914208790074, 0.5644353614579621), '최종학위': (9.859615182256691, 0.27501772606551345), '연구경력': (7.048124677260015, 0.8544169385390981), '연구분야': (29.487749389678335, 0.20231326929961188)}\n"
     ]
    },
    {
     "name": "stderr",
     "output_type": "stream",
     "text": [
      "C:\\Users\\hyeon\\AppData\\Local\\Temp\\ipykernel_26388\\795108283.py:14: DeprecationWarning: `aggregate_function='count'` input for `pivot` is deprecated. Please use `aggregate_function='len'`.\n",
      "  target = recognition_stats.pivot(target_name, index=value, values=target_name, aggregate_function='count', sort_columns=True).fill_null(0).drop(value)\n"
     ]
    },
    {
     "data": {
      "text/plain": [
       "(shape: (4, 2)\n",
       " ┌───────┬─────┐\n",
       " │ Q15_2 ┆ len │\n",
       " │ ---   ┆ --- │\n",
       " │ i64   ┆ u32 │\n",
       " ╞═══════╪═════╡\n",
       " │ 1     ┆ 25  │\n",
       " │ 2     ┆ 70  │\n",
       " │ 3     ┆ 30  │\n",
       " │ 4     ┆ 5   │\n",
       " └───────┴─────┘,\n",
       " shape: (4, 3)\n",
       " ┌───────┬─────┬──────┐\n",
       " │ Q15_2 ┆ len ┆ pct  │\n",
       " │ ---   ┆ --- ┆ ---  │\n",
       " │ i64   ┆ u32 ┆ f64  │\n",
       " ╞═══════╪═════╪══════╡\n",
       " │ 1     ┆ 25  ┆ 19.2 │\n",
       " │ 2     ┆ 70  ┆ 53.8 │\n",
       " │ 3     ┆ 30  ┆ 23.1 │\n",
       " │ 4     ┆ 5   ┆ 3.8  │\n",
       " └───────┴─────┴──────┘)"
      ]
     },
     "execution_count": 64,
     "metadata": {},
     "output_type": "execute_result"
    }
   ],
   "source": [
    "# \n",
    "# 사. KIOST가 제공하는 연구윤리 교육 콘텐츠\n",
    "# \n",
    "# 2) KIOST 연구윤리 교육 콘텐츠 만족도\n",
    "# \n",
    "#  Q15_1: 연구윤리 동영상 만족도\n",
    "#  Q15_2: 연구윤리 뉴스레터 만족도\n",
    "#  Q15_3: 연구윤리 Q&A 만족도\n",
    "#  Q15_4: 연구윤리 체크리스트 만족도\n",
    "\n",
    "map = {\n",
    "    1: \"매우 불만족\",\n",
    "    2: \"불만족\",\n",
    "    3: \"보통\",\n",
    "    4: \"만족\",\n",
    "    5: \"매우 만족\"\n",
    "}\n",
    "\n",
    "print(chi2_test(\"Q15_2\"))\n",
    "basic_analysis(\"Q15_2\")"
   ]
  },
  {
   "cell_type": "code",
   "execution_count": 65,
   "metadata": {},
   "outputs": [
    {
     "name": "stdout",
     "output_type": "stream",
     "text": [
      "{'성별': (3.252437789369778, 0.5165032151401963), '연령대': (24.34468400164396, 0.08224186918149962), '직위': (26.887291240586606, 0.1384648578597767), '최종학위': (8.989279486808764, 0.3432011347722043), '연구경력': (31.556107980243187, 0.0016195269150460216), '연구분야': (21.119233628293735, 0.6316816311029427)}\n"
     ]
    },
    {
     "name": "stderr",
     "output_type": "stream",
     "text": [
      "C:\\Users\\hyeon\\AppData\\Local\\Temp\\ipykernel_26388\\795108283.py:14: DeprecationWarning: `aggregate_function='count'` input for `pivot` is deprecated. Please use `aggregate_function='len'`.\n",
      "  target = recognition_stats.pivot(target_name, index=value, values=target_name, aggregate_function='count', sort_columns=True).fill_null(0).drop(value)\n"
     ]
    },
    {
     "data": {
      "text/plain": [
       "(shape: (4, 2)\n",
       " ┌───────┬─────┐\n",
       " │ Q15_3 ┆ len │\n",
       " │ ---   ┆ --- │\n",
       " │ i64   ┆ u32 │\n",
       " ╞═══════╪═════╡\n",
       " │ 1     ┆ 25  │\n",
       " │ 2     ┆ 50  │\n",
       " │ 3     ┆ 29  │\n",
       " │ 4     ┆ 3   │\n",
       " └───────┴─────┘,\n",
       " shape: (4, 3)\n",
       " ┌───────┬─────┬──────┐\n",
       " │ Q15_3 ┆ len ┆ pct  │\n",
       " │ ---   ┆ --- ┆ ---  │\n",
       " │ i64   ┆ u32 ┆ f64  │\n",
       " ╞═══════╪═════╪══════╡\n",
       " │ 1     ┆ 25  ┆ 23.4 │\n",
       " │ 2     ┆ 50  ┆ 46.7 │\n",
       " │ 3     ┆ 29  ┆ 27.1 │\n",
       " │ 4     ┆ 3   ┆ 2.8  │\n",
       " └───────┴─────┴──────┘)"
      ]
     },
     "execution_count": 65,
     "metadata": {},
     "output_type": "execute_result"
    }
   ],
   "source": [
    "# \n",
    "# 사. KIOST가 제공하는 연구윤리 교육 콘텐츠\n",
    "# \n",
    "# 2) KIOST 연구윤리 교육 콘텐츠 만족도\n",
    "# \n",
    "#  Q15_1: 연구윤리 동영상 만족도\n",
    "#  Q15_2: 연구윤리 뉴스레터 만족도\n",
    "#  Q15_3: 연구윤리 Q&A 만족도\n",
    "#  Q15_4: 연구윤리 체크리스트 만족도\n",
    "\n",
    "map = {\n",
    "    1: \"매우 불만족\",\n",
    "    2: \"불만족\",\n",
    "    3: \"보통\",\n",
    "    4: \"만족\",\n",
    "    5: \"매우 만족\"\n",
    "}\n",
    "\n",
    "print(chi2_test(\"Q15_3\"))\n",
    "basic_analysis(\"Q15_3\")"
   ]
  },
  {
   "cell_type": "code",
   "execution_count": 66,
   "metadata": {},
   "outputs": [
    {
     "name": "stdout",
     "output_type": "stream",
     "text": [
      "{'성별': (3.6858029158702763, 0.45019417595621947), '연령대': (13.557008391804821, 0.6316781946951873), '직위': (15.066948896443797, 0.7725640432539091), '최종학위': (13.047458022607502, 0.11022712965458807), '연구경력': (18.422324888293332, 0.10345604245123408), '연구분야': (23.506073209311193, 0.4901121779456892)}\n"
     ]
    },
    {
     "name": "stderr",
     "output_type": "stream",
     "text": [
      "C:\\Users\\hyeon\\AppData\\Local\\Temp\\ipykernel_26388\\795108283.py:14: DeprecationWarning: `aggregate_function='count'` input for `pivot` is deprecated. Please use `aggregate_function='len'`.\n",
      "  target = recognition_stats.pivot(target_name, index=value, values=target_name, aggregate_function='count', sort_columns=True).fill_null(0).drop(value)\n"
     ]
    },
    {
     "data": {
      "text/plain": [
       "(shape: (4, 2)\n",
       " ┌───────┬─────┐\n",
       " │ Q15_4 ┆ len │\n",
       " │ ---   ┆ --- │\n",
       " │ i64   ┆ u32 │\n",
       " ╞═══════╪═════╡\n",
       " │ 1     ┆ 20  │\n",
       " │ 2     ┆ 45  │\n",
       " │ 3     ┆ 28  │\n",
       " │ 4     ┆ 3   │\n",
       " └───────┴─────┘,\n",
       " shape: (4, 3)\n",
       " ┌───────┬─────┬──────┐\n",
       " │ Q15_4 ┆ len ┆ pct  │\n",
       " │ ---   ┆ --- ┆ ---  │\n",
       " │ i64   ┆ u32 ┆ f64  │\n",
       " ╞═══════╪═════╪══════╡\n",
       " │ 1     ┆ 20  ┆ 20.8 │\n",
       " │ 2     ┆ 45  ┆ 46.9 │\n",
       " │ 3     ┆ 28  ┆ 29.2 │\n",
       " │ 4     ┆ 3   ┆ 3.1  │\n",
       " └───────┴─────┴──────┘)"
      ]
     },
     "execution_count": 66,
     "metadata": {},
     "output_type": "execute_result"
    }
   ],
   "source": [
    "# \n",
    "# 사. KIOST가 제공하는 연구윤리 교육 콘텐츠\n",
    "# \n",
    "# 2) KIOST 연구윤리 교육 콘텐츠 만족도\n",
    "# \n",
    "#  Q15_1: 연구윤리 동영상 만족도\n",
    "#  Q15_2: 연구윤리 뉴스레터 만족도\n",
    "#  Q15_3: 연구윤리 Q&A 만족도\n",
    "#  Q15_4: 연구윤리 체크리스트 만족도\n",
    "\n",
    "map = {\n",
    "    1: \"매우 불만족\",\n",
    "    2: \"불만족\",\n",
    "    3: \"보통\",\n",
    "    4: \"만족\",\n",
    "    5: \"매우 만족\"\n",
    "}\n",
    "\n",
    "print(chi2_test(\"Q15_4\"))\n",
    "basic_analysis(\"Q15_4\")"
   ]
  },
  {
   "cell_type": "code",
   "execution_count": 67,
   "metadata": {},
   "outputs": [
    {
     "name": "stdout",
     "output_type": "stream",
     "text": [
      "연구윤리동영상 (shape: (1, 2)\n",
      "┌───────┬─────┐\n",
      "│ Q17_1 ┆ len │\n",
      "│ ---   ┆ --- │\n",
      "│ i64   ┆ u32 │\n",
      "╞═══════╪═════╡\n",
      "│ 1     ┆ 60  │\n",
      "└───────┴─────┘, shape: (1, 3)\n",
      "┌───────┬─────┬───────┐\n",
      "│ Q17_1 ┆ len ┆ pct   │\n",
      "│ ---   ┆ --- ┆ ---   │\n",
      "│ i64   ┆ u32 ┆ f64   │\n",
      "╞═══════╪═════╪═══════╡\n",
      "│ 1     ┆ 60  ┆ 100.0 │\n",
      "└───────┴─────┴───────┘)\n",
      "연구윤리뉴스레터 (shape: (1, 2)\n",
      "┌───────┬─────┐\n",
      "│ Q17_2 ┆ len │\n",
      "│ ---   ┆ --- │\n",
      "│ i64   ┆ u32 │\n",
      "╞═══════╪═════╡\n",
      "│ 2     ┆ 74  │\n",
      "└───────┴─────┘, shape: (1, 3)\n",
      "┌───────┬─────┬───────┐\n",
      "│ Q17_2 ┆ len ┆ pct   │\n",
      "│ ---   ┆ --- ┆ ---   │\n",
      "│ i64   ┆ u32 ┆ f64   │\n",
      "╞═══════╪═════╪═══════╡\n",
      "│ 2     ┆ 74  ┆ 100.0 │\n",
      "└───────┴─────┴───────┘)\n",
      "연구윤리Q&A (shape: (1, 2)\n",
      "┌───────┬─────┐\n",
      "│ Q17_3 ┆ len │\n",
      "│ ---   ┆ --- │\n",
      "│ i64   ┆ u32 │\n",
      "╞═══════╪═════╡\n",
      "│ 3     ┆ 74  │\n",
      "└───────┴─────┘, shape: (1, 3)\n",
      "┌───────┬─────┬───────┐\n",
      "│ Q17_3 ┆ len ┆ pct   │\n",
      "│ ---   ┆ --- ┆ ---   │\n",
      "│ i64   ┆ u32 ┆ f64   │\n",
      "╞═══════╪═════╪═══════╡\n",
      "│ 3     ┆ 74  ┆ 100.0 │\n",
      "└───────┴─────┴───────┘)\n",
      "연구윤리Checklist (shape: (1, 2)\n",
      "┌───────┬─────┐\n",
      "│ Q17_4 ┆ len │\n",
      "│ ---   ┆ --- │\n",
      "│ i64   ┆ u32 │\n",
      "╞═══════╪═════╡\n",
      "│ 4     ┆ 74  │\n",
      "└───────┴─────┘, shape: (1, 3)\n",
      "┌───────┬─────┬───────┐\n",
      "│ Q17_4 ┆ len ┆ pct   │\n",
      "│ ---   ┆ --- ┆ ---   │\n",
      "│ i64   ┆ u32 ┆ f64   │\n",
      "╞═══════╪═════╪═══════╡\n",
      "│ 4     ┆ 74  ┆ 100.0 │\n",
      "└───────┴─────┴───────┘)\n",
      "기타 (shape: (1, 2)\n",
      "┌───────┬─────┐\n",
      "│ Q17_5 ┆ len │\n",
      "│ ---   ┆ --- │\n",
      "│ i64   ┆ u32 │\n",
      "╞═══════╪═════╡\n",
      "│ 5     ┆ 3   │\n",
      "└───────┴─────┘, shape: (1, 3)\n",
      "┌───────┬─────┬───────┐\n",
      "│ Q17_5 ┆ len ┆ pct   │\n",
      "│ ---   ┆ --- ┆ ---   │\n",
      "│ i64   ┆ u32 ┆ f64   │\n",
      "╞═══════╪═════╪═══════╡\n",
      "│ 5     ┆ 3   ┆ 100.0 │\n",
      "└───────┴─────┴───────┘)\n"
     ]
    }
   ],
   "source": [
    "# \n",
    "# 사. KIOST가 제공하는 연구윤리 교육 콘텐츠\n",
    "# \n",
    "# 3) KIOST 연구윤리 교육 콘텐츠별 수정 및 보완 요구 사항\n",
    "# \n",
    "#  Q17: 연구윤리 동영상 만족도\n",
    "\n",
    "\n",
    "print(\"연구윤리동영상\", basic_analysis(\"Q17_1\"))\n",
    "print(\"연구윤리뉴스레터\", basic_analysis(\"Q17_2\"))\n",
    "print(\"연구윤리Q&A\", basic_analysis(\"Q17_3\"))\n",
    "print(\"연구윤리Checklist\", basic_analysis(\"Q17_4\"))\n",
    "print(\"기타\", basic_analysis(\"Q17_5\"))"
   ]
  },
  {
   "cell_type": "code",
   "execution_count": 68,
   "metadata": {},
   "outputs": [
    {
     "data": {
      "text/plain": [
       "(shape: (8, 2)\n",
       " ┌─────────────────────────────────┬─────┐\n",
       " │ Q19                             ┆ len │\n",
       " │ ---                             ┆ --- │\n",
       " │ str                             ┆ u32 │\n",
       " ╞═════════════════════════════════╪═════╡\n",
       " │                                 ┆ 1   │\n",
       " │ AI활용 관련 연구윤리 내용 추가  ┆ 2   │\n",
       " │ Q&A 제작 시 원내연구자의        ┆ 4   │\n",
       " │ 질의사항 반영                   ┆     │\n",
       " │ 교육 방법의 다양성              ┆ 3   │\n",
       " │ 구체적인 사례와 예시            ┆ 15  │\n",
       " │ 연구 윤리 위반 사례             ┆ 1   │\n",
       " │ 연구윤리 관련 교육과 정보제공   ┆ 5   │\n",
       " │ 홍보와 접근성 개선              ┆ 9   │\n",
       " └─────────────────────────────────┴─────┘,\n",
       " shape: (8, 3)\n",
       " ┌─────────────────────────────────┬─────┬──────┐\n",
       " │ Q19                             ┆ len ┆ pct  │\n",
       " │ ---                             ┆ --- ┆ ---  │\n",
       " │ str                             ┆ u32 ┆ f64  │\n",
       " ╞═════════════════════════════════╪═════╪══════╡\n",
       " │                                 ┆ 1   ┆ 2.5  │\n",
       " │ AI활용 관련 연구윤리 내용 추가  ┆ 2   ┆ 5.0  │\n",
       " │ Q&A 제작 시 원내연구자의        ┆ 4   ┆ 10.0 │\n",
       " │ 질의사항 반영                   ┆     ┆      │\n",
       " │ 교육 방법의 다양성              ┆ 3   ┆ 7.5  │\n",
       " │ 구체적인 사례와 예시            ┆ 15  ┆ 37.5 │\n",
       " │ 연구 윤리 위반 사례             ┆ 1   ┆ 2.5  │\n",
       " │ 연구윤리 관련 교육과 정보제공   ┆ 5   ┆ 12.5 │\n",
       " │ 홍보와 접근성 개선              ┆ 9   ┆ 22.5 │\n",
       " └─────────────────────────────────┴─────┴──────┘)"
      ]
     },
     "execution_count": 68,
     "metadata": {},
     "output_type": "execute_result"
    }
   ],
   "source": [
    "# \n",
    "# 5) 연구윤리 Q&A 사례집에 대한 보완 사항\n",
    "# \n",
    "\n",
    "basic_analysis(\"Q19\")"
   ]
  },
  {
   "cell_type": "code",
   "execution_count": 69,
   "metadata": {},
   "outputs": [
    {
     "data": {
      "text/plain": [
       "(shape: (17, 2)\n",
       " ┌─────────────────────────────────┬─────┐\n",
       " │ Q20                             ┆ len │\n",
       " │ ---                             ┆ --- │\n",
       " │ str                             ┆ u32 │\n",
       " ╞═════════════════════════════════╪═════╡\n",
       " │                                 ┆ 1   │\n",
       " │ .                               ┆ 1   │\n",
       " │ 구체적인 사례 중심의 연구윤리   ┆ 2   │\n",
       " │ 교육                            ┆     │\n",
       " │ 기타 고민 사항                  ┆ 5   │\n",
       " │ 논문 작성과 출판 관련 문제      ┆ 3   │\n",
       " │ …                               ┆ …   │\n",
       " │ 연구윤리 교육과 지침            ┆ 6   │\n",
       " │ 연국기관간 연구수행성과 및      ┆ 1   │\n",
       " │ 내용의 소유에 대한 내용         ┆     │\n",
       " │ 이해충돌                        ┆ 1   │\n",
       " │ 인공지능 및 AI 연구             ┆ 15  │\n",
       " │ 표절 및 유사도 검사             ┆ 5   │\n",
       " └─────────────────────────────────┴─────┘,\n",
       " shape: (17, 3)\n",
       " ┌─────────────────────────────────┬─────┬──────┐\n",
       " │ Q20                             ┆ len ┆ pct  │\n",
       " │ ---                             ┆ --- ┆ ---  │\n",
       " │ str                             ┆ u32 ┆ f64  │\n",
       " ╞═════════════════════════════════╪═════╪══════╡\n",
       " │                                 ┆ 1   ┆ 1.5  │\n",
       " │ .                               ┆ 1   ┆ 1.5  │\n",
       " │ 구체적인 사례 중심의 연구윤리   ┆ 2   ┆ 3.1  │\n",
       " │ 교육                            ┆     ┆      │\n",
       " │ 기타 고민 사항                  ┆ 5   ┆ 7.7  │\n",
       " │ 논문 작성과 출판 관련 문제      ┆ 3   ┆ 4.6  │\n",
       " │ …                               ┆ …   ┆ …    │\n",
       " │ 연구윤리 교육과 지침            ┆ 6   ┆ 9.2  │\n",
       " │ 연국기관간 연구수행성과 및      ┆ 1   ┆ 1.5  │\n",
       " │ 내용의 소유에 대한 내용         ┆     ┆      │\n",
       " │ 이해충돌                        ┆ 1   ┆ 1.5  │\n",
       " │ 인공지능 및 AI 연구             ┆ 15  ┆ 23.1 │\n",
       " │ 표절 및 유사도 검사             ┆ 5   ┆ 7.7  │\n",
       " └─────────────────────────────────┴─────┴──────┘)"
      ]
     },
     "execution_count": 69,
     "metadata": {},
     "output_type": "execute_result"
    }
   ],
   "source": [
    "# \n",
    "# 아. 연구윤리 컨설팅 희망 내용\n",
    "# \n",
    "\n",
    "basic_analysis(\"Q20\")"
   ]
  },
  {
   "cell_type": "code",
   "execution_count": 70,
   "metadata": {},
   "outputs": [],
   "source": [
    "# \n",
    "# chi sqaure\n",
    "# \n",
    "\n",
    "# from attributes import *\n",
    "# from scipy import stats\n",
    "\n",
    "# #\n",
    "# # Chi-square test\n",
    "# #\n",
    "# personal_info = pl.read_csv(\"data/6_personal_info.csv\")\n",
    "# recognition_stats = df.join(personal_info, on=\"ID\")\n",
    "\n",
    "# def run_chi2_test(target_name):\n",
    "#     chi_analysis = {}\n",
    "#     for key, value in MAP_PERSON.items():\n",
    "#         target = recognition_stats.pivot(target_name, index=value, values=target_name, aggregate_function='count', sort_columns=True).fill_null(0).drop(value)\n",
    "#         t, p, dof, _ = stats.chi2_contingency(target.to_numpy())\n",
    "#         chi_analysis[key] = {f\"{key}_t\":t, f\"{key}_p\":p}\n",
    "#     return chi_analysis\n",
    "\n",
    "# def run_chi(column, name):\n",
    "#     dataframe = pl.DataFrame()\n",
    "#     for c in column:\n",
    "#         result = pl.from_dict(run_chi2_test(c)) \\\n",
    "#                     .unnest(\"sex\") \\\n",
    "#                     .unnest(\"age\") \\\n",
    "#                     .unnest(\"role\") \\\n",
    "#                     .unnest(\"degree\") \\\n",
    "#                     .unnest(\"experience\") \\\n",
    "#                     .unnest(\"field\")\n",
    "#         dataframe = dataframe.vstack(result)\n",
    "#     dataframe.write_csv(f\"figure/4/{name}_chi.csv\", include_bom=True)\n",
    "\n",
    "\n",
    "# q6 = [\"Q21_1\", \"Q21_2\", \"Q21_3\", \"Q21_4\", \"Q21_5\"]\n",
    "# q7 = [\"Q22_1\", \"Q22_2\", \"Q22_3\", \"Q22_4\", \"Q22_5\"]\n",
    "# q8 = [\"Q23\"]\n",
    "# q9 = [\"Q24_1\", \"Q24_2\", \"Q24_3\", \"Q24_4\", \"Q24_5\"]\n",
    "# q10 = [\"Q25_1\", \"Q25_2\", \"Q25_3\", \"Q25_4\", \"Q25_5\", \"Q25_6\", \"Q25_7\", \"Q25_8\", \"Q25_9\", \"Q25_10\"]\n",
    "# q11 = [\"Q26\"]\n",
    "# q13 = [\"Q28\"]\n",
    "# q14 = [\"Q29\"]\n",
    "# q15 = [\"Q29\"]\n",
    "# q16 = [\"Q29\"]\n",
    "# # q17\n",
    "\n",
    "# run_chi(q21, \"가_연구윤리_규정_인지_검정\")\n",
    "# run_chi(q22, \"나_연구윤리_규정_파악\")\n",
    "# run_chi(q23, \"다_국가혁신개발법_인지\")\n",
    "# run_chi(q24, \"라_국가혁신개발법_이해\")\n",
    "# run_chi(q25, \"마_연구부정행위_인지\")\n",
    "# run_chi(q26, \"바_연구부정행위_제보\")\n",
    "# run_chi(q27, \"바_연구부정행위_검증\")\n",
    "# run_chi(q28, \"사_연구부정행위_제보\")\n",
    "# run_chi(q29, \"아_연구부정행위_검증\")"
   ]
  }
 ],
 "metadata": {
  "kernelspec": {
   "display_name": ".venv",
   "language": "python",
   "name": "python3"
  },
  "language_info": {
   "codemirror_mode": {
    "name": "ipython",
    "version": 3
   },
   "file_extension": ".py",
   "mimetype": "text/x-python",
   "name": "python",
   "nbconvert_exporter": "python",
   "pygments_lexer": "ipython3",
   "version": "3.12.6"
  }
 },
 "nbformat": 4,
 "nbformat_minor": 2
}
