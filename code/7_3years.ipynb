{
 "cells": [
  {
   "cell_type": "code",
   "execution_count": 192,
   "metadata": {},
   "outputs": [],
   "source": [
    "from attributes import *\n",
    "import polars as pl\n",
    "import altair as alt\n",
    "\n",
    "# get data\n",
    "df = pl.read_csv(\"data/2_research_ethic_recognition.csv\")"
   ]
  },
  {
   "cell_type": "code",
   "execution_count": 158,
   "metadata": {},
   "outputs": [],
   "source": [
    "def basic_analysis(name):\n",
    "    count = df.group_by(name).len().sort(name)\n",
    "    proportion = count.with_columns(\n",
    "        pct = pl.col(\"len\") / pl.col(\"len\").sum() * 100\n",
    "    )\n",
    "    mean = df.select(mean = pl.col(name).mean())\n",
    "    std = df.select(std = pl.col(name).std())\n",
    "    "
   ]
  },
  {
   "cell_type": "code",
   "execution_count": 159,
   "metadata": {},
   "outputs": [],
   "source": [
    "def draw_bar_plot(df, x, y, title, MAP, rotate=True, legend=True):\n",
    "\n",
    "    bar_x = alt.X(x, title=title, axis=None)\n",
    "    bar_x = bar_x if MAP is None else bar_x.sort(MAP.values())\n",
    "\n",
    "    txt_x = alt.X(x, sort=MAP.values()) if MAP is not None else alt.X(x)\n",
    "    lgd_x = alt.Legend(orient='bottom', direction='horizontal')\n",
    "    color = alt.Color(x, title=None, legend=lgd_x) if legend else alt.Color(x, title=None, legend=None)\n",
    "    color = color.sort(MAP.values()) if MAP is not None else color\n",
    "\n",
    "    bar = df.plot.bar().encode(\n",
    "        x=bar_x,\n",
    "        y=alt.Y(y, title=None),\n",
    "        color=color,\n",
    "    ).properties(\n",
    "        title=title,\n",
    "        width=400,\n",
    "    )\n",
    "\n",
    "    text = bar.mark_text(\n",
    "        align=\"center\",\n",
    "        baseline=\"bottom\",\n",
    "    ).encode(\n",
    "        x=txt_x,\n",
    "        y=y,\n",
    "        text=y,\n",
    "        color=alt.value(\"black\"),\n",
    "    )\n",
    "    return bar + text"
   ]
  },
  {
   "cell_type": "code",
   "execution_count": 195,
   "metadata": {},
   "outputs": [],
   "source": [
    "def get(title, __2022, __2023, importance):\n",
    "\n",
    "    __2022 = __2022.with_columns(\n",
    "        pct2022 = pl.col(title) / pl.col(title).sum() * 100,\n",
    "    )\n",
    "\n",
    "    __2023 = __2023.with_columns(\n",
    "        pct2023 = pl.col(title) / pl.col(title).sum() * 100,\n",
    "    )\n",
    "\n",
    "    _2024 = df.group_by(title).len().sort(title)\n",
    "\n",
    "    if _2024[title].len() < len(importance):\n",
    "        extending = pl.DataFrame({\n",
    "            title: [1],\n",
    "            \"len\": [0]\n",
    "        }).cast(pl.Schema({ \"len\": pl.UInt32()}))\n",
    "        _2024 = _2024.extend(extending)\n",
    "\n",
    "    _2024 = _2024.rename({\"len\": \"2024\"}).sort(title)\n",
    "    _2024 = _2024.with_columns(\n",
    "        pct2024 = pl.col(\"2024\") / pl.col(\"2024\").sum() * 100,\n",
    "        mean2024 = (pl.col(title) * pl.col(\"2024\")).sum() / _2024[\"2024\"].sum(),\n",
    "    )\n",
    "    _2024 = _2024.with_columns(\n",
    "        std2024 = (((pl.col(title) - _2024[\"mean2024\"]) ** 2 * pl.col(\"2024\")).sum() / pl.col(\"2024\").sum()).sqrt(),\n",
    "    )\n",
    "\n",
    "    all = __2022.join(__2023, on=title, how=\"left\").join(_2024, on=title, how=\"left\")\n",
    "    all = all.with_columns(\n",
    "        total = pl.col(\"2022\") + pl.col(\"2023\") + pl.col(\"2024\")\n",
    "    )\n",
    "\n",
    "    all = all.with_columns(\n",
    "        pctAll = all[\"total\"] / all[\"total\"].sum() * 100,\n",
    "        meanAll = (pl.col(title) * pl.col(\"total\")).sum() / all[\"total\"].sum(),\n",
    "    )\n",
    "    all = all.with_columns(\n",
    "        stdAll = (((pl.col(title) - all[\"meanAll\"]) ** 2 * pl.col(\"total\")).sum() / pl.col(\"total\").sum()).sqrt(),\n",
    "    )\n",
    "    return all"
   ]
  },
  {
   "cell_type": "code",
   "execution_count": 240,
   "metadata": {},
   "outputs": [],
   "source": [
    "def draw_graph(_data, title, question):\n",
    "    data_long = _data.select(title, \"2022\", \"2023\", \"2024\").melt(id_vars=[title], variable_name=\"Year\", value_name=\"Count\")\n",
    "\n",
    "    stacked_bar = alt.Chart(data_long).mark_bar().encode(\n",
    "        x=alt.X(\"Year:O\", title=None, axis=alt.Axis(labelAngle=-45)),\n",
    "        y=alt.Y(\"Count:Q\", title=None).stack('normalize'),\n",
    "        color=alt.Color(f\"{title}:N\", title=title),\n",
    "        tooltip=[title, \"Year\", \"Count\"]\n",
    "    ).properties(\n",
    "        width=600,\n",
    "        height=400\n",
    "    )\n",
    "    stacked_bar.save(f\"figure/7/{question}.png\")\n",
    "    stacked_bar.show()"
   ]
  },
  {
   "cell_type": "code",
   "execution_count": 241,
   "metadata": {},
   "outputs": [
    {
     "name": "stderr",
     "output_type": "stream",
     "text": [
      "C:\\Users\\hyeon\\AppData\\Local\\Temp\\ipykernel_21808\\527971789.py:2: DeprecationWarning: `DataFrame.melt` is deprecated. Use `unpivot` instead, with `index` instead of `id_vars` and `on` instead of `value_vars`\n",
      "  data_long = data.select(title, \"2022\", \"2023\", \"2024\").melt(id_vars=[title], variable_name=\"Year\", value_name=\"Count\")\n"
     ]
    },
    {
     "data": {
      "text/html": [
       "\n",
       "<style>\n",
       "  #altair-viz-03f2d750ad854c958a00d73674c63608.vega-embed {\n",
       "    width: 100%;\n",
       "    display: flex;\n",
       "  }\n",
       "\n",
       "  #altair-viz-03f2d750ad854c958a00d73674c63608.vega-embed details,\n",
       "  #altair-viz-03f2d750ad854c958a00d73674c63608.vega-embed details summary {\n",
       "    position: relative;\n",
       "  }\n",
       "</style>\n",
       "<div id=\"altair-viz-03f2d750ad854c958a00d73674c63608\"></div>\n",
       "<script type=\"text/javascript\">\n",
       "  var VEGA_DEBUG = (typeof VEGA_DEBUG == \"undefined\") ? {} : VEGA_DEBUG;\n",
       "  (function(spec, embedOpt){\n",
       "    let outputDiv = document.currentScript.previousElementSibling;\n",
       "    if (outputDiv.id !== \"altair-viz-03f2d750ad854c958a00d73674c63608\") {\n",
       "      outputDiv = document.getElementById(\"altair-viz-03f2d750ad854c958a00d73674c63608\");\n",
       "    }\n",
       "    const paths = {\n",
       "      \"vega\": \"https://cdn.jsdelivr.net/npm/vega@5?noext\",\n",
       "      \"vega-lib\": \"https://cdn.jsdelivr.net/npm/vega-lib?noext\",\n",
       "      \"vega-lite\": \"https://cdn.jsdelivr.net/npm/vega-lite@5.20.1?noext\",\n",
       "      \"vega-embed\": \"https://cdn.jsdelivr.net/npm/vega-embed@6?noext\",\n",
       "    };\n",
       "\n",
       "    function maybeLoadScript(lib, version) {\n",
       "      var key = `${lib.replace(\"-\", \"\")}_version`;\n",
       "      return (VEGA_DEBUG[key] == version) ?\n",
       "        Promise.resolve(paths[lib]) :\n",
       "        new Promise(function(resolve, reject) {\n",
       "          var s = document.createElement('script');\n",
       "          document.getElementsByTagName(\"head\")[0].appendChild(s);\n",
       "          s.async = true;\n",
       "          s.onload = () => {\n",
       "            VEGA_DEBUG[key] = version;\n",
       "            return resolve(paths[lib]);\n",
       "          };\n",
       "          s.onerror = () => reject(`Error loading script: ${paths[lib]}`);\n",
       "          s.src = paths[lib];\n",
       "        });\n",
       "    }\n",
       "\n",
       "    function showError(err) {\n",
       "      outputDiv.innerHTML = `<div class=\"error\" style=\"color:red;\">${err}</div>`;\n",
       "      throw err;\n",
       "    }\n",
       "\n",
       "    function displayChart(vegaEmbed) {\n",
       "      vegaEmbed(outputDiv, spec, embedOpt)\n",
       "        .catch(err => showError(`Javascript Error: ${err.message}<br>This usually means there's a typo in your chart specification. See the javascript console for the full traceback.`));\n",
       "    }\n",
       "\n",
       "    if(typeof define === \"function\" && define.amd) {\n",
       "      requirejs.config({paths});\n",
       "      require([\"vega-embed\"], displayChart, err => showError(`Error loading script: ${err.message}`));\n",
       "    } else {\n",
       "      maybeLoadScript(\"vega\", \"5\")\n",
       "        .then(() => maybeLoadScript(\"vega-lite\", \"5.20.1\"))\n",
       "        .then(() => maybeLoadScript(\"vega-embed\", \"6\"))\n",
       "        .catch(showError)\n",
       "        .then(() => displayChart(vegaEmbed));\n",
       "    }\n",
       "  })({\"config\": {\"view\": {\"continuousWidth\": 300, \"continuousHeight\": 300}}, \"data\": {\"name\": \"data-c65e263967087e0824fd5d6dd5a22236\"}, \"mark\": {\"type\": \"bar\"}, \"encoding\": {\"color\": {\"field\": \"Q1\", \"title\": \"Q1\", \"type\": \"nominal\"}, \"tooltip\": [{\"field\": \"Q1\", \"type\": \"quantitative\"}, {\"field\": \"Year\", \"type\": \"nominal\"}, {\"field\": \"Count\", \"type\": \"quantitative\"}], \"x\": {\"axis\": {\"labelAngle\": -45}, \"field\": \"Year\", \"title\": null, \"type\": \"ordinal\"}, \"y\": {\"field\": \"Count\", \"stack\": \"normalize\", \"title\": null, \"type\": \"quantitative\"}}, \"height\": 400, \"width\": 600, \"$schema\": \"https://vega.github.io/schema/vega-lite/v5.20.1.json\", \"datasets\": {\"data-c65e263967087e0824fd5d6dd5a22236\": [{\"Q1\": 1, \"Year\": \"2022\", \"Count\": 9}, {\"Q1\": 2, \"Year\": \"2022\", \"Count\": 0}, {\"Q1\": 3, \"Year\": \"2022\", \"Count\": 4}, {\"Q1\": 4, \"Year\": \"2022\", \"Count\": 47}, {\"Q1\": 5, \"Year\": \"2022\", \"Count\": 103}, {\"Q1\": 1, \"Year\": \"2023\", \"Count\": 0}, {\"Q1\": 2, \"Year\": \"2023\", \"Count\": 0}, {\"Q1\": 3, \"Year\": \"2023\", \"Count\": 2}, {\"Q1\": 4, \"Year\": \"2023\", \"Count\": 56}, {\"Q1\": 5, \"Year\": \"2023\", \"Count\": 112}, {\"Q1\": 1, \"Year\": \"2024\", \"Count\": 0}, {\"Q1\": 2, \"Year\": \"2024\", \"Count\": 1}, {\"Q1\": 3, \"Year\": \"2024\", \"Count\": 2}, {\"Q1\": 4, \"Year\": \"2024\", \"Count\": 52}, {\"Q1\": 5, \"Year\": \"2024\", \"Count\": 112}]}}, {\"mode\": \"vega-lite\"});\n",
       "</script>"
      ],
      "text/plain": [
       "alt.Chart(...)"
      ]
     },
     "metadata": {},
     "output_type": "display_data"
    }
   ],
   "source": [
    "# \n",
    "# 가. 연구자의 연구윤리 인식과 실천의 중요성 인식 \n",
    "# \n",
    "title = \"연구윤리 인식 및 실천의 중요성 인식\"\n",
    "\n",
    "importance = [1, 2, 3, 4, 5]\n",
    "\n",
    "# 1) counting\n",
    "_2022 = pl.DataFrame({\n",
    "    \"Q1\": importance,\n",
    "    \"2022\": [9, 0, 4, 47, 103],\n",
    "})\n",
    "\n",
    "_2023 = pl.DataFrame({\n",
    "    \"Q1\": importance,\n",
    "    \"2023\": [0, 0, 2, 56, 112],\n",
    "})\n",
    "\n",
    "# basic_analysis(\"Q1\")\n",
    "data = get(\"Q1\", _2022, _2023, importance)\n",
    "draw_graph(data, \"Q1\", \"연구자의 연구윤리 인식과 실천의 중요성 인식\")"
   ]
  },
  {
   "cell_type": "code",
   "execution_count": 162,
   "metadata": {},
   "outputs": [],
   "source": [
    "# # \n",
    "# # 나. 연구자의 연구윤리 준수 수준 \n",
    "# # \n",
    "\n",
    "# # 1) counting\n",
    "# _2022 = pl.DataFrame({\n",
    "#     \"Q2\": importance,\n",
    "#     \"2022\": [1, 5, 42, 89, 26],\n",
    "# })\n",
    "\n",
    "# _2023 = pl.DataFrame({\n",
    "#     \"Q2\": importance,\n",
    "#     \"2023\": [0, 6, 55, 75, 34],\n",
    "# })\n",
    "\n",
    "# get(\"Q2\", _2022, _2023)"
   ]
  },
  {
   "cell_type": "code",
   "execution_count": 242,
   "metadata": {},
   "outputs": [
    {
     "name": "stdout",
     "output_type": "stream",
     "text": [
      "연구윤리교육\n"
     ]
    },
    {
     "ename": "ColumnNotFoundError",
     "evalue": "Q3_1\n\nResolved plan until failure:\n\n\t---> FAILED HERE RESOLVING 'select' <---\nDF [\"Q1\", \"2022\", \"pct2022\", \"2023\"]; PROJECT */13 COLUMNS; SELECTION: None",
     "output_type": "error",
     "traceback": [
      "\u001b[1;31m---------------------------------------------------------------------------\u001b[0m",
      "\u001b[1;31mColumnNotFoundError\u001b[0m                       Traceback (most recent call last)",
      "Cell \u001b[1;32mIn[242], line 21\u001b[0m\n\u001b[0;32m     15\u001b[0m _2023 \u001b[38;5;241m=\u001b[39m pl\u001b[38;5;241m.\u001b[39mDataFrame({\n\u001b[0;32m     16\u001b[0m     title: importance,\n\u001b[0;32m     17\u001b[0m     \u001b[38;5;124m\"\u001b[39m\u001b[38;5;124m2023\u001b[39m\u001b[38;5;124m\"\u001b[39m: [\u001b[38;5;241m2\u001b[39m, \u001b[38;5;241m4\u001b[39m, \u001b[38;5;241m38\u001b[39m, \u001b[38;5;241m90\u001b[39m, \u001b[38;5;241m36\u001b[39m],\n\u001b[0;32m     18\u001b[0m })\n\u001b[0;32m     20\u001b[0m get(title, _2022, _2023, importance)\n\u001b[1;32m---> 21\u001b[0m \u001b[43mdraw_graph\u001b[49m\u001b[43m(\u001b[49m\u001b[43mdata\u001b[49m\u001b[43m,\u001b[49m\u001b[43m \u001b[49m\u001b[43mtitle\u001b[49m\u001b[43m,\u001b[49m\u001b[43m \u001b[49m\u001b[38;5;124;43m\"\u001b[39;49m\u001b[38;5;124;43m연구윤리교육\u001b[39;49m\u001b[38;5;124;43m\"\u001b[39;49m\u001b[43m)\u001b[49m\n",
      "Cell \u001b[1;32mIn[240], line 2\u001b[0m, in \u001b[0;36mdraw_graph\u001b[1;34m(data, title, question)\u001b[0m\n\u001b[0;32m      1\u001b[0m \u001b[38;5;28;01mdef\u001b[39;00m \u001b[38;5;21mdraw_graph\u001b[39m(data, title, question):\n\u001b[1;32m----> 2\u001b[0m     data_long \u001b[38;5;241m=\u001b[39m \u001b[43mdata\u001b[49m\u001b[38;5;241;43m.\u001b[39;49m\u001b[43mselect\u001b[49m\u001b[43m(\u001b[49m\u001b[43mtitle\u001b[49m\u001b[43m,\u001b[49m\u001b[43m \u001b[49m\u001b[38;5;124;43m\"\u001b[39;49m\u001b[38;5;124;43m2022\u001b[39;49m\u001b[38;5;124;43m\"\u001b[39;49m\u001b[43m,\u001b[49m\u001b[43m \u001b[49m\u001b[38;5;124;43m\"\u001b[39;49m\u001b[38;5;124;43m2023\u001b[39;49m\u001b[38;5;124;43m\"\u001b[39;49m\u001b[43m,\u001b[49m\u001b[43m \u001b[49m\u001b[38;5;124;43m\"\u001b[39;49m\u001b[38;5;124;43m2024\u001b[39;49m\u001b[38;5;124;43m\"\u001b[39;49m\u001b[43m)\u001b[49m\u001b[38;5;241m.\u001b[39mmelt(id_vars\u001b[38;5;241m=\u001b[39m[title], variable_name\u001b[38;5;241m=\u001b[39m\u001b[38;5;124m\"\u001b[39m\u001b[38;5;124mYear\u001b[39m\u001b[38;5;124m\"\u001b[39m, value_name\u001b[38;5;241m=\u001b[39m\u001b[38;5;124m\"\u001b[39m\u001b[38;5;124mCount\u001b[39m\u001b[38;5;124m\"\u001b[39m)\n\u001b[0;32m      4\u001b[0m     stacked_bar \u001b[38;5;241m=\u001b[39m alt\u001b[38;5;241m.\u001b[39mChart(data_long)\u001b[38;5;241m.\u001b[39mmark_bar()\u001b[38;5;241m.\u001b[39mencode(\n\u001b[0;32m      5\u001b[0m         x\u001b[38;5;241m=\u001b[39malt\u001b[38;5;241m.\u001b[39mX(\u001b[38;5;124m\"\u001b[39m\u001b[38;5;124mYear:O\u001b[39m\u001b[38;5;124m\"\u001b[39m, title\u001b[38;5;241m=\u001b[39m\u001b[38;5;28;01mNone\u001b[39;00m, axis\u001b[38;5;241m=\u001b[39malt\u001b[38;5;241m.\u001b[39mAxis(labelAngle\u001b[38;5;241m=\u001b[39m\u001b[38;5;241m-\u001b[39m\u001b[38;5;241m45\u001b[39m)),\n\u001b[0;32m      6\u001b[0m         y\u001b[38;5;241m=\u001b[39malt\u001b[38;5;241m.\u001b[39mY(\u001b[38;5;124m\"\u001b[39m\u001b[38;5;124mCount:Q\u001b[39m\u001b[38;5;124m\"\u001b[39m, title\u001b[38;5;241m=\u001b[39m\u001b[38;5;28;01mNone\u001b[39;00m)\u001b[38;5;241m.\u001b[39mstack(\u001b[38;5;124m'\u001b[39m\u001b[38;5;124mnormalize\u001b[39m\u001b[38;5;124m'\u001b[39m),\n\u001b[1;32m   (...)\u001b[0m\n\u001b[0;32m     11\u001b[0m         height\u001b[38;5;241m=\u001b[39m\u001b[38;5;241m400\u001b[39m\n\u001b[0;32m     12\u001b[0m     )\n\u001b[0;32m     13\u001b[0m     stacked_bar\u001b[38;5;241m.\u001b[39msave(\u001b[38;5;124mf\u001b[39m\u001b[38;5;124m\"\u001b[39m\u001b[38;5;124mfigure/7/\u001b[39m\u001b[38;5;132;01m{\u001b[39;00mquestion\u001b[38;5;132;01m}\u001b[39;00m\u001b[38;5;124m.png\u001b[39m\u001b[38;5;124m\"\u001b[39m)\n",
      "File \u001b[1;32mc:\\Users\\hyeon\\Desktop\\yunjoo\\.venv\\Lib\\site-packages\\polars\\dataframe\\frame.py:9010\u001b[0m, in \u001b[0;36mDataFrame.select\u001b[1;34m(self, *exprs, **named_exprs)\u001b[0m\n\u001b[0;32m   8910\u001b[0m \u001b[38;5;28;01mdef\u001b[39;00m \u001b[38;5;21mselect\u001b[39m(\n\u001b[0;32m   8911\u001b[0m     \u001b[38;5;28mself\u001b[39m, \u001b[38;5;241m*\u001b[39mexprs: IntoExpr \u001b[38;5;241m|\u001b[39m Iterable[IntoExpr], \u001b[38;5;241m*\u001b[39m\u001b[38;5;241m*\u001b[39mnamed_exprs: IntoExpr\n\u001b[0;32m   8912\u001b[0m ) \u001b[38;5;241m-\u001b[39m\u001b[38;5;241m>\u001b[39m DataFrame:\n\u001b[0;32m   8913\u001b[0m \u001b[38;5;250m    \u001b[39m\u001b[38;5;124;03m\"\"\"\u001b[39;00m\n\u001b[0;32m   8914\u001b[0m \u001b[38;5;124;03m    Select columns from this DataFrame.\u001b[39;00m\n\u001b[0;32m   8915\u001b[0m \n\u001b[1;32m   (...)\u001b[0m\n\u001b[0;32m   9008\u001b[0m \u001b[38;5;124;03m    └──────────────┘\u001b[39;00m\n\u001b[0;32m   9009\u001b[0m \u001b[38;5;124;03m    \"\"\"\u001b[39;00m\n\u001b[1;32m-> 9010\u001b[0m     \u001b[38;5;28;01mreturn\u001b[39;00m \u001b[38;5;28;43mself\u001b[39;49m\u001b[38;5;241;43m.\u001b[39;49m\u001b[43mlazy\u001b[49m\u001b[43m(\u001b[49m\u001b[43m)\u001b[49m\u001b[38;5;241;43m.\u001b[39;49m\u001b[43mselect\u001b[49m\u001b[43m(\u001b[49m\u001b[38;5;241;43m*\u001b[39;49m\u001b[43mexprs\u001b[49m\u001b[43m,\u001b[49m\u001b[43m \u001b[49m\u001b[38;5;241;43m*\u001b[39;49m\u001b[38;5;241;43m*\u001b[39;49m\u001b[43mnamed_exprs\u001b[49m\u001b[43m)\u001b[49m\u001b[38;5;241;43m.\u001b[39;49m\u001b[43mcollect\u001b[49m\u001b[43m(\u001b[49m\u001b[43m_eager\u001b[49m\u001b[38;5;241;43m=\u001b[39;49m\u001b[38;5;28;43;01mTrue\u001b[39;49;00m\u001b[43m)\u001b[49m\n",
      "File \u001b[1;32mc:\\Users\\hyeon\\Desktop\\yunjoo\\.venv\\Lib\\site-packages\\polars\\lazyframe\\frame.py:2050\u001b[0m, in \u001b[0;36mLazyFrame.collect\u001b[1;34m(self, type_coercion, predicate_pushdown, projection_pushdown, simplify_expression, slice_pushdown, comm_subplan_elim, comm_subexpr_elim, cluster_with_columns, collapse_joins, no_optimization, streaming, engine, background, _eager, **_kwargs)\u001b[0m\n\u001b[0;32m   2048\u001b[0m \u001b[38;5;66;03m# Only for testing purposes\u001b[39;00m\n\u001b[0;32m   2049\u001b[0m callback \u001b[38;5;241m=\u001b[39m _kwargs\u001b[38;5;241m.\u001b[39mget(\u001b[38;5;124m\"\u001b[39m\u001b[38;5;124mpost_opt_callback\u001b[39m\u001b[38;5;124m\"\u001b[39m, callback)\n\u001b[1;32m-> 2050\u001b[0m \u001b[38;5;28;01mreturn\u001b[39;00m wrap_df(\u001b[43mldf\u001b[49m\u001b[38;5;241;43m.\u001b[39;49m\u001b[43mcollect\u001b[49m\u001b[43m(\u001b[49m\u001b[43mcallback\u001b[49m\u001b[43m)\u001b[49m)\n",
      "\u001b[1;31mColumnNotFoundError\u001b[0m: Q3_1\n\nResolved plan until failure:\n\n\t---> FAILED HERE RESOLVING 'select' <---\nDF [\"Q1\", \"2022\", \"pct2022\", \"2023\"]; PROJECT */13 COLUMNS; SELECTION: None"
     ]
    }
   ],
   "source": [
    "# \n",
    "# 다. 연구자의 연구윤리 준수 영향 요인별\n",
    "# \n",
    "print(\"연구윤리교육\")\n",
    "importance = [1, 2, 3, 4, 5]\n",
    "\n",
    "title =\"Q3_1\"\n",
    "\n",
    "# 1) counting\n",
    "_2022 = pl.DataFrame({\n",
    "    title: importance,\n",
    "    \"2022\": [1, 2, 33, 88, 39],\n",
    "})\n",
    "\n",
    "_2023 = pl.DataFrame({\n",
    "    title: importance,\n",
    "    \"2023\": [2, 4, 38, 90, 36],\n",
    "})\n",
    "\n",
    "get(title, _2022, _2023, importance)\n",
    "draw_graph(data, title, \"연구윤리교육\")"
   ]
  },
  {
   "cell_type": "code",
   "execution_count": 164,
   "metadata": {},
   "outputs": [
    {
     "name": "stdout",
     "output_type": "stream",
     "text": [
      "연구윤리 관련 보도\n"
     ]
    },
    {
     "data": {
      "text/html": [
       "<div><style>\n",
       ".dataframe > thead > tr,\n",
       ".dataframe > tbody > tr {\n",
       "  text-align: right;\n",
       "  white-space: pre-wrap;\n",
       "}\n",
       "</style>\n",
       "<small>shape: (5, 11)</small><table border=\"1\" class=\"dataframe\"><thead><tr><th>Q3_2</th><th>2022</th><th>2023</th><th>2024</th><th>pct2024</th><th>mean2024</th><th>std2024</th><th>total</th><th>pctAll</th><th>meanAll</th><th>stdAll</th></tr><tr><td>i64</td><td>i64</td><td>i64</td><td>u32</td><td>f64</td><td>f64</td><td>f64</td><td>i64</td><td>f64</td><td>f64</td><td>f64</td></tr></thead><tbody><tr><td>1</td><td>1</td><td>0</td><td>5</td><td>2.994012</td><td>3.868263</td><td>0.892758</td><td>6</td><td>1.2</td><td>3.832</td><td>0.814724</td></tr><tr><td>2</td><td>5</td><td>6</td><td>5</td><td>2.994012</td><td>3.868263</td><td>0.892758</td><td>16</td><td>3.2</td><td>3.832</td><td>0.814724</td></tr><tr><td>3</td><td>42</td><td>55</td><td>34</td><td>20.359281</td><td>3.868263</td><td>0.892758</td><td>131</td><td>26.2</td><td>3.832</td><td>0.814724</td></tr><tr><td>4</td><td>89</td><td>75</td><td>86</td><td>51.497006</td><td>3.868263</td><td>0.892758</td><td>250</td><td>50.0</td><td>3.832</td><td>0.814724</td></tr><tr><td>5</td><td>26</td><td>34</td><td>37</td><td>22.155689</td><td>3.868263</td><td>0.892758</td><td>97</td><td>19.4</td><td>3.832</td><td>0.814724</td></tr></tbody></table></div>"
      ],
      "text/plain": [
       "shape: (5, 11)\n",
       "┌──────┬──────┬──────┬──────┬───┬───────┬────────┬─────────┬──────────┐\n",
       "│ Q3_2 ┆ 2022 ┆ 2023 ┆ 2024 ┆ … ┆ total ┆ pctAll ┆ meanAll ┆ stdAll   │\n",
       "│ ---  ┆ ---  ┆ ---  ┆ ---  ┆   ┆ ---   ┆ ---    ┆ ---     ┆ ---      │\n",
       "│ i64  ┆ i64  ┆ i64  ┆ u32  ┆   ┆ i64   ┆ f64    ┆ f64     ┆ f64      │\n",
       "╞══════╪══════╪══════╪══════╪═══╪═══════╪════════╪═════════╪══════════╡\n",
       "│ 1    ┆ 1    ┆ 0    ┆ 5    ┆ … ┆ 6     ┆ 1.2    ┆ 3.832   ┆ 0.814724 │\n",
       "│ 2    ┆ 5    ┆ 6    ┆ 5    ┆ … ┆ 16    ┆ 3.2    ┆ 3.832   ┆ 0.814724 │\n",
       "│ 3    ┆ 42   ┆ 55   ┆ 34   ┆ … ┆ 131   ┆ 26.2   ┆ 3.832   ┆ 0.814724 │\n",
       "│ 4    ┆ 89   ┆ 75   ┆ 86   ┆ … ┆ 250   ┆ 50.0   ┆ 3.832   ┆ 0.814724 │\n",
       "│ 5    ┆ 26   ┆ 34   ┆ 37   ┆ … ┆ 97    ┆ 19.4   ┆ 3.832   ┆ 0.814724 │\n",
       "└──────┴──────┴──────┴──────┴───┴───────┴────────┴─────────┴──────────┘"
      ]
     },
     "execution_count": 164,
     "metadata": {},
     "output_type": "execute_result"
    }
   ],
   "source": [
    "# \n",
    "# 다. 연구자의 연구윤리 준수 영향 요인별\n",
    "# \n",
    "print(\"연구윤리 관련 보도\")\n",
    "importance = [1, 2, 3, 4, 5]\n",
    "\n",
    "title =\"Q3_2\"\n",
    "\n",
    "# 1) counting\n",
    "_2022 = pl.DataFrame({\n",
    "    title: importance,\n",
    "    \"2022\": [1, 5, 42, 89, 26],\n",
    "})\n",
    "\n",
    "_2023 = pl.DataFrame({\n",
    "    title: importance,\n",
    "    \"2023\": [0, 6, 55, 75, 34],\n",
    "})\n",
    "\n",
    "get(title, _2022, _2023, importance)"
   ]
  },
  {
   "cell_type": "code",
   "execution_count": 165,
   "metadata": {},
   "outputs": [
    {
     "name": "stdout",
     "output_type": "stream",
     "text": [
      "연구자 간 멘토링\n"
     ]
    },
    {
     "data": {
      "text/html": [
       "<div><style>\n",
       ".dataframe > thead > tr,\n",
       ".dataframe > tbody > tr {\n",
       "  text-align: right;\n",
       "  white-space: pre-wrap;\n",
       "}\n",
       "</style>\n",
       "<small>shape: (5, 11)</small><table border=\"1\" class=\"dataframe\"><thead><tr><th>Q3_3</th><th>2022</th><th>2023</th><th>2024</th><th>pct2024</th><th>mean2024</th><th>std2024</th><th>total</th><th>pctAll</th><th>meanAll</th><th>stdAll</th></tr><tr><td>i64</td><td>i64</td><td>i64</td><td>u32</td><td>f64</td><td>f64</td><td>f64</td><td>i64</td><td>f64</td><td>f64</td><td>f64</td></tr></thead><tbody><tr><td>1</td><td>1</td><td>0</td><td>0</td><td>0.0</td><td>4.377246</td><td>0.662212</td><td>1</td><td>0.235849</td><td>4.360849</td><td>0.736178</td></tr><tr><td>2</td><td>1</td><td>3</td><td>2</td><td>1.197605</td><td>4.377246</td><td>0.662212</td><td>6</td><td>1.415094</td><td>4.360849</td><td>0.736178</td></tr><tr><td>3</td><td>13</td><td>18</td><td>11</td><td>6.586826</td><td>4.377246</td><td>0.662212</td><td>42</td><td>9.90566</td><td>4.360849</td><td>0.736178</td></tr><tr><td>4</td><td>81</td><td>8</td><td>76</td><td>45.508982</td><td>4.377246</td><td>0.662212</td><td>165</td><td>38.915094</td><td>4.360849</td><td>0.736178</td></tr><tr><td>5</td><td>67</td><td>65</td><td>78</td><td>46.706587</td><td>4.377246</td><td>0.662212</td><td>210</td><td>49.528302</td><td>4.360849</td><td>0.736178</td></tr></tbody></table></div>"
      ],
      "text/plain": [
       "shape: (5, 11)\n",
       "┌──────┬──────┬──────┬──────┬───┬───────┬───────────┬──────────┬──────────┐\n",
       "│ Q3_3 ┆ 2022 ┆ 2023 ┆ 2024 ┆ … ┆ total ┆ pctAll    ┆ meanAll  ┆ stdAll   │\n",
       "│ ---  ┆ ---  ┆ ---  ┆ ---  ┆   ┆ ---   ┆ ---       ┆ ---      ┆ ---      │\n",
       "│ i64  ┆ i64  ┆ i64  ┆ u32  ┆   ┆ i64   ┆ f64       ┆ f64      ┆ f64      │\n",
       "╞══════╪══════╪══════╪══════╪═══╪═══════╪═══════════╪══════════╪══════════╡\n",
       "│ 1    ┆ 1    ┆ 0    ┆ 0    ┆ … ┆ 1     ┆ 0.235849  ┆ 4.360849 ┆ 0.736178 │\n",
       "│ 2    ┆ 1    ┆ 3    ┆ 2    ┆ … ┆ 6     ┆ 1.415094  ┆ 4.360849 ┆ 0.736178 │\n",
       "│ 3    ┆ 13   ┆ 18   ┆ 11   ┆ … ┆ 42    ┆ 9.90566   ┆ 4.360849 ┆ 0.736178 │\n",
       "│ 4    ┆ 81   ┆ 8    ┆ 76   ┆ … ┆ 165   ┆ 38.915094 ┆ 4.360849 ┆ 0.736178 │\n",
       "│ 5    ┆ 67   ┆ 65   ┆ 78   ┆ … ┆ 210   ┆ 49.528302 ┆ 4.360849 ┆ 0.736178 │\n",
       "└──────┴──────┴──────┴──────┴───┴───────┴───────────┴──────────┴──────────┘"
      ]
     },
     "execution_count": 165,
     "metadata": {},
     "output_type": "execute_result"
    }
   ],
   "source": [
    "# \n",
    "# 다. 연구자의 연구윤리 준수 영향 요인별\n",
    "# \n",
    "print(\"연구자 간 멘토링\")\n",
    "importance = [1, 2, 3, 4, 5]\n",
    "\n",
    "title =\"Q3_3\"\n",
    "\n",
    "# 1) counting\n",
    "_2022 = pl.DataFrame({\n",
    "    title: importance,\n",
    "    \"2022\": [1, 1, 13, 81, 67],\n",
    "})\n",
    "\n",
    "_2023 = pl.DataFrame({\n",
    "    title: importance,\n",
    "    \"2023\": [0, 3, 18, 8, 65],\n",
    "})\n",
    "\n",
    "_2024 = df.group_by(title).len().sort(title)\n",
    "\n",
    "get(title, _2022, _2023, importance)"
   ]
  },
  {
   "cell_type": "code",
   "execution_count": 166,
   "metadata": {},
   "outputs": [
    {
     "name": "stdout",
     "output_type": "stream",
     "text": [
      "관련 규정 및 지침\n"
     ]
    },
    {
     "data": {
      "text/html": [
       "<div><style>\n",
       ".dataframe > thead > tr,\n",
       ".dataframe > tbody > tr {\n",
       "  text-align: right;\n",
       "  white-space: pre-wrap;\n",
       "}\n",
       "</style>\n",
       "<small>shape: (5, 11)</small><table border=\"1\" class=\"dataframe\"><thead><tr><th>Q3_4</th><th>2022</th><th>2023</th><th>2024</th><th>pct2024</th><th>mean2024</th><th>std2024</th><th>total</th><th>pctAll</th><th>meanAll</th><th>stdAll</th></tr><tr><td>i64</td><td>i64</td><td>i64</td><td>u32</td><td>f64</td><td>f64</td><td>f64</td><td>i64</td><td>f64</td><td>f64</td><td>f64</td></tr></thead><tbody><tr><td>1</td><td>1</td><td>0</td><td>0</td><td>0.0</td><td>4.281437</td><td>0.741307</td><td>1</td><td>0.2</td><td>4.178</td><td>0.725476</td></tr><tr><td>2</td><td>2</td><td>1</td><td>5</td><td>2.994012</td><td>4.281437</td><td>0.741307</td><td>8</td><td>1.6</td><td>4.178</td><td>0.725476</td></tr><tr><td>3</td><td>27</td><td>24</td><td>14</td><td>8.383234</td><td>4.281437</td><td>0.741307</td><td>65</td><td>13.0</td><td>4.178</td><td>0.725476</td></tr><tr><td>4</td><td>90</td><td>86</td><td>77</td><td>46.107784</td><td>4.281437</td><td>0.741307</td><td>253</td><td>50.6</td><td>4.178</td><td>0.725476</td></tr><tr><td>5</td><td>43</td><td>59</td><td>71</td><td>42.51497</td><td>4.281437</td><td>0.741307</td><td>173</td><td>34.6</td><td>4.178</td><td>0.725476</td></tr></tbody></table></div>"
      ],
      "text/plain": [
       "shape: (5, 11)\n",
       "┌──────┬──────┬──────┬──────┬───┬───────┬────────┬─────────┬──────────┐\n",
       "│ Q3_4 ┆ 2022 ┆ 2023 ┆ 2024 ┆ … ┆ total ┆ pctAll ┆ meanAll ┆ stdAll   │\n",
       "│ ---  ┆ ---  ┆ ---  ┆ ---  ┆   ┆ ---   ┆ ---    ┆ ---     ┆ ---      │\n",
       "│ i64  ┆ i64  ┆ i64  ┆ u32  ┆   ┆ i64   ┆ f64    ┆ f64     ┆ f64      │\n",
       "╞══════╪══════╪══════╪══════╪═══╪═══════╪════════╪═════════╪══════════╡\n",
       "│ 1    ┆ 1    ┆ 0    ┆ 0    ┆ … ┆ 1     ┆ 0.2    ┆ 4.178   ┆ 0.725476 │\n",
       "│ 2    ┆ 2    ┆ 1    ┆ 5    ┆ … ┆ 8     ┆ 1.6    ┆ 4.178   ┆ 0.725476 │\n",
       "│ 3    ┆ 27   ┆ 24   ┆ 14   ┆ … ┆ 65    ┆ 13.0   ┆ 4.178   ┆ 0.725476 │\n",
       "│ 4    ┆ 90   ┆ 86   ┆ 77   ┆ … ┆ 253   ┆ 50.6   ┆ 4.178   ┆ 0.725476 │\n",
       "│ 5    ┆ 43   ┆ 59   ┆ 71   ┆ … ┆ 173   ┆ 34.6   ┆ 4.178   ┆ 0.725476 │\n",
       "└──────┴──────┴──────┴──────┴───┴───────┴────────┴─────────┴──────────┘"
      ]
     },
     "execution_count": 166,
     "metadata": {},
     "output_type": "execute_result"
    }
   ],
   "source": [
    "# \n",
    "# 다. 연구자의 연구윤리 준수 영향 요인별\n",
    "# \n",
    "print(\"관련 규정 및 지침\")\n",
    "\n",
    "title =\"Q3_4\"\n",
    "\n",
    "# 1) counting\n",
    "_2022 = pl.DataFrame({\n",
    "    title: importance,\n",
    "    \"2022\": [1, 2, 27, 90, 43],\n",
    "})\n",
    "\n",
    "_2023 = pl.DataFrame({\n",
    "    title: importance,\n",
    "    \"2023\": [0, 1, 24, 86, 59],\n",
    "})\n",
    "\n",
    "_2024 = df.group_by(title).len().sort(title)\n",
    "\n",
    "get(title, _2022, _2023, importance)"
   ]
  },
  {
   "cell_type": "code",
   "execution_count": 167,
   "metadata": {},
   "outputs": [
    {
     "name": "stdout",
     "output_type": "stream",
     "text": [
      "부정행위 검증 및 제재\n"
     ]
    },
    {
     "data": {
      "text/html": [
       "<div><style>\n",
       ".dataframe > thead > tr,\n",
       ".dataframe > tbody > tr {\n",
       "  text-align: right;\n",
       "  white-space: pre-wrap;\n",
       "}\n",
       "</style>\n",
       "<small>shape: (5, 11)</small><table border=\"1\" class=\"dataframe\"><thead><tr><th>Q3_5</th><th>2022</th><th>2023</th><th>2024</th><th>pct2024</th><th>mean2024</th><th>std2024</th><th>total</th><th>pctAll</th><th>meanAll</th><th>stdAll</th></tr><tr><td>i64</td><td>i64</td><td>i64</td><td>u32</td><td>f64</td><td>f64</td><td>f64</td><td>i64</td><td>f64</td><td>f64</td><td>f64</td></tr></thead><tbody><tr><td>1</td><td>1</td><td>0</td><td>0</td><td>0.0</td><td>4.257485</td><td>0.628315</td><td>1</td><td>0.2</td><td>4.222</td><td>0.713243</td></tr><tr><td>2</td><td>1</td><td>2</td><td>1</td><td>0.598802</td><td>4.257485</td><td>0.628315</td><td>4</td><td>0.8</td><td>4.222</td><td>0.713243</td></tr><tr><td>3</td><td>28</td><td>24</td><td>14</td><td>8.383234</td><td>4.257485</td><td>0.628315</td><td>66</td><td>13.2</td><td>4.222</td><td>0.713243</td></tr><tr><td>4</td><td>71</td><td>77</td><td>93</td><td>55.688623</td><td>4.257485</td><td>0.628315</td><td>241</td><td>48.2</td><td>4.222</td><td>0.713243</td></tr><tr><td>5</td><td>62</td><td>67</td><td>59</td><td>35.329341</td><td>4.257485</td><td>0.628315</td><td>188</td><td>37.6</td><td>4.222</td><td>0.713243</td></tr></tbody></table></div>"
      ],
      "text/plain": [
       "shape: (5, 11)\n",
       "┌──────┬──────┬──────┬──────┬───┬───────┬────────┬─────────┬──────────┐\n",
       "│ Q3_5 ┆ 2022 ┆ 2023 ┆ 2024 ┆ … ┆ total ┆ pctAll ┆ meanAll ┆ stdAll   │\n",
       "│ ---  ┆ ---  ┆ ---  ┆ ---  ┆   ┆ ---   ┆ ---    ┆ ---     ┆ ---      │\n",
       "│ i64  ┆ i64  ┆ i64  ┆ u32  ┆   ┆ i64   ┆ f64    ┆ f64     ┆ f64      │\n",
       "╞══════╪══════╪══════╪══════╪═══╪═══════╪════════╪═════════╪══════════╡\n",
       "│ 1    ┆ 1    ┆ 0    ┆ 0    ┆ … ┆ 1     ┆ 0.2    ┆ 4.222   ┆ 0.713243 │\n",
       "│ 2    ┆ 1    ┆ 2    ┆ 1    ┆ … ┆ 4     ┆ 0.8    ┆ 4.222   ┆ 0.713243 │\n",
       "│ 3    ┆ 28   ┆ 24   ┆ 14   ┆ … ┆ 66    ┆ 13.2   ┆ 4.222   ┆ 0.713243 │\n",
       "│ 4    ┆ 71   ┆ 77   ┆ 93   ┆ … ┆ 241   ┆ 48.2   ┆ 4.222   ┆ 0.713243 │\n",
       "│ 5    ┆ 62   ┆ 67   ┆ 59   ┆ … ┆ 188   ┆ 37.6   ┆ 4.222   ┆ 0.713243 │\n",
       "└──────┴──────┴──────┴──────┴───┴───────┴────────┴─────────┴──────────┘"
      ]
     },
     "execution_count": 167,
     "metadata": {},
     "output_type": "execute_result"
    }
   ],
   "source": [
    "# \n",
    "# 다. 연구자의 연구윤리 준수 영향 요인별\n",
    "# \n",
    "print(\"부정행위 검증 및 제재\")\n",
    "\n",
    "title =\"Q3_5\"\n",
    "\n",
    "# 1) counting\n",
    "_2022 = pl.DataFrame({\n",
    "    title: importance,\n",
    "    \"2022\": [1, 1, 28, 71, 62],\n",
    "})\n",
    "\n",
    "_2023 = pl.DataFrame({\n",
    "    title: importance,\n",
    "    \"2023\": [0, 2, 24, 77, 67],\n",
    "})\n",
    "\n",
    "_2024 = df.group_by(title).len().sort(title)\n",
    "\n",
    "get(title, _2022, _2023, importance)"
   ]
  },
  {
   "cell_type": "code",
   "execution_count": 168,
   "metadata": {},
   "outputs": [
    {
     "name": "stdout",
     "output_type": "stream",
     "text": [
      "KIOST의 연구부정행위 제보 방법 인식 여부\n"
     ]
    },
    {
     "data": {
      "text/html": [
       "<div><style>\n",
       ".dataframe > thead > tr,\n",
       ".dataframe > tbody > tr {\n",
       "  text-align: right;\n",
       "  white-space: pre-wrap;\n",
       "}\n",
       "</style>\n",
       "<small>shape: (2, 11)</small><table border=\"1\" class=\"dataframe\"><thead><tr><th>Q26</th><th>2022</th><th>2023</th><th>2024</th><th>pct2024</th><th>mean2024</th><th>std2024</th><th>total</th><th>pctAll</th><th>meanAll</th><th>stdAll</th></tr><tr><td>i64</td><td>i64</td><td>i64</td><td>u32</td><td>f64</td><td>f64</td><td>f64</td><td>i64</td><td>f64</td><td>f64</td><td>f64</td></tr></thead><tbody><tr><td>1</td><td>74</td><td>80</td><td>87</td><td>52.095808</td><td>1.479042</td><td>0.499561</td><td>241</td><td>48.2</td><td>1.518</td><td>0.499676</td></tr><tr><td>2</td><td>89</td><td>90</td><td>80</td><td>47.904192</td><td>1.479042</td><td>0.499561</td><td>259</td><td>51.8</td><td>1.518</td><td>0.499676</td></tr></tbody></table></div>"
      ],
      "text/plain": [
       "shape: (2, 11)\n",
       "┌─────┬──────┬──────┬──────┬───┬───────┬────────┬─────────┬──────────┐\n",
       "│ Q26 ┆ 2022 ┆ 2023 ┆ 2024 ┆ … ┆ total ┆ pctAll ┆ meanAll ┆ stdAll   │\n",
       "│ --- ┆ ---  ┆ ---  ┆ ---  ┆   ┆ ---   ┆ ---    ┆ ---     ┆ ---      │\n",
       "│ i64 ┆ i64  ┆ i64  ┆ u32  ┆   ┆ i64   ┆ f64    ┆ f64     ┆ f64      │\n",
       "╞═════╪══════╪══════╪══════╪═══╪═══════╪════════╪═════════╪══════════╡\n",
       "│ 1   ┆ 74   ┆ 80   ┆ 87   ┆ … ┆ 241   ┆ 48.2   ┆ 1.518   ┆ 0.499676 │\n",
       "│ 2   ┆ 89   ┆ 90   ┆ 80   ┆ … ┆ 259   ┆ 51.8   ┆ 1.518   ┆ 0.499676 │\n",
       "└─────┴──────┴──────┴──────┴───┴───────┴────────┴─────────┴──────────┘"
      ]
     },
     "execution_count": 168,
     "metadata": {},
     "output_type": "execute_result"
    }
   ],
   "source": [
    "# \n",
    "# 라. KIOST에 대한 인식\n",
    "# \n",
    "print(\"KIOST의 연구부정행위 제보 방법 인식 여부\")\n",
    "\n",
    "df = pl.read_csv(\"data/4_KIOST_research_ethics_system.csv\")\n",
    "\n",
    "title =\"Q26\"\n",
    "importance = [1, 2]\n",
    "\n",
    "# 1) counting\n",
    "_2022 = pl.DataFrame({\n",
    "    title: importance,\n",
    "    \"2022\": [74, 89],\n",
    "})\n",
    "\n",
    "_2023 = pl.DataFrame({\n",
    "    title: importance,\n",
    "    \"2023\": [80, 90],\n",
    "})\n",
    "\n",
    "_2024 = df.group_by(title).len().sort(title)\n",
    "\n",
    "get(title, _2022, _2023, importance)\n"
   ]
  },
  {
   "cell_type": "code",
   "execution_count": 170,
   "metadata": {},
   "outputs": [
    {
     "name": "stdout",
     "output_type": "stream",
     "text": [
      "KIOST의 연구부정행위 제보 접수 및 처리의 적정성\n"
     ]
    },
    {
     "data": {
      "text/html": [
       "<div><style>\n",
       ".dataframe > thead > tr,\n",
       ".dataframe > tbody > tr {\n",
       "  text-align: right;\n",
       "  white-space: pre-wrap;\n",
       "}\n",
       "</style>\n",
       "<small>shape: (5, 11)</small><table border=\"1\" class=\"dataframe\"><thead><tr><th>Q28</th><th>2022</th><th>2023</th><th>2024</th><th>pct2024</th><th>mean2024</th><th>std2024</th><th>total</th><th>pctAll</th><th>meanAll</th><th>stdAll</th></tr><tr><td>i64</td><td>i64</td><td>i64</td><td>u32</td><td>f64</td><td>f64</td><td>f64</td><td>i64</td><td>f64</td><td>f64</td><td>f64</td></tr></thead><tbody><tr><td>1</td><td>4</td><td>7</td><td>0</td><td>0.0</td><td>3.54491</td><td>0.859652</td><td>11</td><td>2.2</td><td>3.374</td><td>0.879843</td></tr><tr><td>2</td><td>14</td><td>19</td><td>15</td><td>8.982036</td><td>3.54491</td><td>0.859652</td><td>48</td><td>9.6</td><td>3.374</td><td>0.879843</td></tr><tr><td>3</td><td>88</td><td>78</td><td>72</td><td>43.113772</td><td>3.54491</td><td>0.859652</td><td>238</td><td>47.6</td><td>3.374</td><td>0.879843</td></tr><tr><td>4</td><td>44</td><td>51</td><td>54</td><td>32.335329</td><td>3.54491</td><td>0.859652</td><td>149</td><td>29.8</td><td>3.374</td><td>0.879843</td></tr><tr><td>5</td><td>13</td><td>15</td><td>26</td><td>15.568862</td><td>3.54491</td><td>0.859652</td><td>54</td><td>10.8</td><td>3.374</td><td>0.879843</td></tr></tbody></table></div>"
      ],
      "text/plain": [
       "shape: (5, 11)\n",
       "┌─────┬──────┬──────┬──────┬───┬───────┬────────┬─────────┬──────────┐\n",
       "│ Q28 ┆ 2022 ┆ 2023 ┆ 2024 ┆ … ┆ total ┆ pctAll ┆ meanAll ┆ stdAll   │\n",
       "│ --- ┆ ---  ┆ ---  ┆ ---  ┆   ┆ ---   ┆ ---    ┆ ---     ┆ ---      │\n",
       "│ i64 ┆ i64  ┆ i64  ┆ u32  ┆   ┆ i64   ┆ f64    ┆ f64     ┆ f64      │\n",
       "╞═════╪══════╪══════╪══════╪═══╪═══════╪════════╪═════════╪══════════╡\n",
       "│ 1   ┆ 4    ┆ 7    ┆ 0    ┆ … ┆ 11    ┆ 2.2    ┆ 3.374   ┆ 0.879843 │\n",
       "│ 2   ┆ 14   ┆ 19   ┆ 15   ┆ … ┆ 48    ┆ 9.6    ┆ 3.374   ┆ 0.879843 │\n",
       "│ 3   ┆ 88   ┆ 78   ┆ 72   ┆ … ┆ 238   ┆ 47.6   ┆ 3.374   ┆ 0.879843 │\n",
       "│ 4   ┆ 44   ┆ 51   ┆ 54   ┆ … ┆ 149   ┆ 29.8   ┆ 3.374   ┆ 0.879843 │\n",
       "│ 5   ┆ 13   ┆ 15   ┆ 26   ┆ … ┆ 54    ┆ 10.8   ┆ 3.374   ┆ 0.879843 │\n",
       "└─────┴──────┴──────┴──────┴───┴───────┴────────┴─────────┴──────────┘"
      ]
     },
     "execution_count": 170,
     "metadata": {},
     "output_type": "execute_result"
    }
   ],
   "source": [
    "# \n",
    "# 라. KIOST에 대한 인식\n",
    "# \n",
    "# 2) KIOST의 연구부정행위 제보 접수 및 처리 절차 인지\n",
    "print(\"KIOST의 연구부정행위 제보 접수 및 처리의 적정성\")\n",
    "\n",
    "title =\"Q28\"\n",
    "importance = [1, 2, 3, 4, 5]\n",
    "\n",
    "# 1) counting\n",
    "_2022 = pl.DataFrame({\n",
    "    title: importance,\n",
    "    \"2022\": [4, 14, 88, 44, 13],\n",
    "})\n",
    "\n",
    "_2023 = pl.DataFrame({\n",
    "    title: importance,\n",
    "    \"2023\": [7, 19, 78, 51, 15],\n",
    "})\n",
    "\n",
    "_2024 = df.group_by(title).len().sort(title)\n",
    "\n",
    "get(title, _2022, _2023, importance)\n"
   ]
  },
  {
   "cell_type": "code",
   "execution_count": 172,
   "metadata": {},
   "outputs": [
    {
     "name": "stdout",
     "output_type": "stream",
     "text": [
      "KIOST의 연구부정행위 검증이 공정한가에 대한 평가\n"
     ]
    },
    {
     "data": {
      "text/html": [
       "<div><style>\n",
       ".dataframe > thead > tr,\n",
       ".dataframe > tbody > tr {\n",
       "  text-align: right;\n",
       "  white-space: pre-wrap;\n",
       "}\n",
       "</style>\n",
       "<small>shape: (5, 11)</small><table border=\"1\" class=\"dataframe\"><thead><tr><th>Q29</th><th>2022</th><th>2023</th><th>2024</th><th>pct2024</th><th>mean2024</th><th>std2024</th><th>total</th><th>pctAll</th><th>meanAll</th><th>stdAll</th></tr><tr><td>i64</td><td>i64</td><td>i64</td><td>u32</td><td>f64</td><td>f64</td><td>f64</td><td>i64</td><td>f64</td><td>f64</td><td>f64</td></tr></thead><tbody><tr><td>1</td><td>4</td><td>1</td><td>0</td><td>0.0</td><td>3.772455</td><td>0.771317</td><td>5</td><td>1.0</td><td>3.52</td><td>0.818291</td></tr><tr><td>2</td><td>14</td><td>14</td><td>5</td><td>2.994012</td><td>3.772455</td><td>0.771317</td><td>33</td><td>6.6</td><td>3.52</td><td>0.818291</td></tr><tr><td>3</td><td>84</td><td>74</td><td>58</td><td>34.730539</td><td>3.772455</td><td>0.771317</td><td>216</td><td>43.2</td><td>3.52</td><td>0.818291</td></tr><tr><td>4</td><td>47</td><td>68</td><td>74</td><td>44.311377</td><td>3.772455</td><td>0.771317</td><td>189</td><td>37.8</td><td>3.52</td><td>0.818291</td></tr><tr><td>5</td><td>14</td><td>13</td><td>30</td><td>17.964072</td><td>3.772455</td><td>0.771317</td><td>57</td><td>11.4</td><td>3.52</td><td>0.818291</td></tr></tbody></table></div>"
      ],
      "text/plain": [
       "shape: (5, 11)\n",
       "┌─────┬──────┬──────┬──────┬───┬───────┬────────┬─────────┬──────────┐\n",
       "│ Q29 ┆ 2022 ┆ 2023 ┆ 2024 ┆ … ┆ total ┆ pctAll ┆ meanAll ┆ stdAll   │\n",
       "│ --- ┆ ---  ┆ ---  ┆ ---  ┆   ┆ ---   ┆ ---    ┆ ---     ┆ ---      │\n",
       "│ i64 ┆ i64  ┆ i64  ┆ u32  ┆   ┆ i64   ┆ f64    ┆ f64     ┆ f64      │\n",
       "╞═════╪══════╪══════╪══════╪═══╪═══════╪════════╪═════════╪══════════╡\n",
       "│ 1   ┆ 4    ┆ 1    ┆ 0    ┆ … ┆ 5     ┆ 1.0    ┆ 3.52    ┆ 0.818291 │\n",
       "│ 2   ┆ 14   ┆ 14   ┆ 5    ┆ … ┆ 33    ┆ 6.6    ┆ 3.52    ┆ 0.818291 │\n",
       "│ 3   ┆ 84   ┆ 74   ┆ 58   ┆ … ┆ 216   ┆ 43.2   ┆ 3.52    ┆ 0.818291 │\n",
       "│ 4   ┆ 47   ┆ 68   ┆ 74   ┆ … ┆ 189   ┆ 37.8   ┆ 3.52    ┆ 0.818291 │\n",
       "│ 5   ┆ 14   ┆ 13   ┆ 30   ┆ … ┆ 57    ┆ 11.4   ┆ 3.52    ┆ 0.818291 │\n",
       "└─────┴──────┴──────┴──────┴───┴───────┴────────┴─────────┴──────────┘"
      ]
     },
     "execution_count": 172,
     "metadata": {},
     "output_type": "execute_result"
    }
   ],
   "source": [
    "# \n",
    "# 라. KIOST에 대한 인식\n",
    "# \n",
    "# 3) KIOST의 연구부정행위 검증이 공정한가에 대한 평가\n",
    "print(\"KIOST의 연구부정행위 검증이 공정한가에 대한 평가\")\n",
    "\n",
    "title =\"Q29\"\n",
    "importance = [1, 2, 3, 4, 5]\n",
    "\n",
    "# 1) counting\n",
    "_2022 = pl.DataFrame({\n",
    "    title: importance,\n",
    "    \"2022\": [4, 14, 84, 47, 14],\n",
    "})\n",
    "\n",
    "_2023 = pl.DataFrame({\n",
    "    title: importance,\n",
    "    \"2023\": [1, 14, 74, 68, 13],\n",
    "})\n",
    "\n",
    "_2024 = df.group_by(title).len().sort(title)\n",
    "\n",
    "get(title, _2022, _2023, importance)\n"
   ]
  },
  {
   "cell_type": "code",
   "execution_count": 183,
   "metadata": {},
   "outputs": [
    {
     "data": {
      "text/html": [
       "<div><style>\n",
       ".dataframe > thead > tr,\n",
       ".dataframe > tbody > tr {\n",
       "  text-align: right;\n",
       "  white-space: pre-wrap;\n",
       "}\n",
       "</style>\n",
       "<small>shape: (6, 8)</small><table border=\"1\" class=\"dataframe\"><thead><tr><th>영역</th><th>평균</th><th>미흡</th><th>보통</th><th>우수</th><th>미흡_pct</th><th>보통_pct</th><th>우수_pct</th></tr><tr><td>str</td><td>f64</td><td>u32</td><td>u32</td><td>u32</td><td>f64</td><td>f64</td><td>f64</td></tr></thead><tbody><tr><td>&quot;전체&quot;</td><td>4.113772</td><td>11</td><td>12</td><td>144</td><td>6.586826</td><td>7.185629</td><td>86.227545</td></tr><tr><td>&quot;공정&quot;</td><td>4.023952</td><td>1</td><td>23</td><td>143</td><td>0.598802</td><td>13.772455</td><td>85.628743</td></tr><tr><td>&quot;정직&quot;</td><td>4.167665</td><td>12</td><td>9</td><td>146</td><td>7.185629</td><td>5.389222</td><td>87.42515</td></tr><tr><td>&quot;존중&quot;</td><td>4.197605</td><td>1</td><td>18</td><td>148</td><td>0.598802</td><td>10.778443</td><td>88.622754</td></tr><tr><td>&quot;책임&quot;</td><td>4.023952</td><td>10</td><td>16</td><td>141</td><td>5.988024</td><td>9.580838</td><td>84.431138</td></tr><tr><td>&quot;투명성&quot;</td><td>4.113772</td><td>12</td><td>5</td><td>150</td><td>7.185629</td><td>2.994012</td><td>89.820359</td></tr></tbody></table></div>"
      ],
      "text/plain": [
       "shape: (6, 8)\n",
       "┌────────┬──────────┬──────┬──────┬──────┬──────────┬───────────┬───────────┐\n",
       "│ 영역   ┆ 평균     ┆ 미흡 ┆ 보통 ┆ 우수 ┆ 미흡_pct ┆ 보통_pct  ┆ 우수_pct  │\n",
       "│ ---    ┆ ---      ┆ ---  ┆ ---  ┆ ---  ┆ ---      ┆ ---       ┆ ---       │\n",
       "│ str    ┆ f64      ┆ u32  ┆ u32  ┆ u32  ┆ f64      ┆ f64       ┆ f64       │\n",
       "╞════════╪══════════╪══════╪══════╪══════╪══════════╪═══════════╪═══════════╡\n",
       "│ 전체   ┆ 4.113772 ┆ 11   ┆ 12   ┆ 144  ┆ 6.586826 ┆ 7.185629  ┆ 86.227545 │\n",
       "│ 공정   ┆ 4.023952 ┆ 1    ┆ 23   ┆ 143  ┆ 0.598802 ┆ 13.772455 ┆ 85.628743 │\n",
       "│ 정직   ┆ 4.167665 ┆ 12   ┆ 9    ┆ 146  ┆ 7.185629 ┆ 5.389222  ┆ 87.42515  │\n",
       "│ 존중   ┆ 4.197605 ┆ 1    ┆ 18   ┆ 148  ┆ 0.598802 ┆ 10.778443 ┆ 88.622754 │\n",
       "│ 책임   ┆ 4.023952 ┆ 10   ┆ 16   ┆ 141  ┆ 5.988024 ┆ 9.580838  ┆ 84.431138 │\n",
       "│ 투명성 ┆ 4.113772 ┆ 12   ┆ 5    ┆ 150  ┆ 7.185629 ┆ 2.994012  ┆ 89.820359 │\n",
       "└────────┴──────────┴──────┴──────┴──────┴──────────┴───────────┴───────────┘"
      ]
     },
     "execution_count": 183,
     "metadata": {},
     "output_type": "execute_result"
    }
   ],
   "source": [
    "# \n",
    "# 마. KIOST 연구자의 연구윤리 지수 수준\n",
    "# \n",
    "\n",
    "research_ethics_score = pl.read_csv(\"data/5_1_research_ethics_score.csv\")\n",
    "\n",
    "# *Q39_1: 동물실험에 대한 연구윤리\n",
    "#\n",
    "공정 = (pl.col(\"Q38_1\") + pl.col(\"Q38_2\") + pl.col(\"Q38_3\") + pl.col(\"Q38_4\")) / 4\n",
    "정직 = (pl.col(\"Q38_5\") + pl.col(\"Q38_6\") + pl.col(\"Q38_7\") + pl.col(\"Q38_8\")) / 4\n",
    "존중 = pl.when(pl.col(\"Q39_1\").is_null()).then(\n",
    "    (pl.col(\"Q38_9\") + pl.col(\"Q38_10\") + pl.col(\"Q38_11\")) / 3\n",
    ").otherwise(\n",
    "    (pl.col(\"Q38_9\") + pl.col(\"Q38_10\") + pl.col(\"Q38_11\") + pl.col(\"Q39_1\")) / 4\n",
    ")\n",
    "\n",
    "책임 = (pl.col(\"Q38_12\") + pl.col(\"Q38_13\") + pl.col(\"Q38_14\") + pl.col(\"Q38_15\")) / 4\n",
    "투명성 = (pl.col(\"Q38_16\") + pl.col(\"Q38_17\") + pl.col(\"Q38_18\") + pl.col(\"Q38_19\")) / 4\n",
    "all = (공정 + 정직 + 존중 + 책임 + 투명성) / 5\n",
    "\n",
    "by_area = research_ethics_score.select([\n",
    "    pl.col(\"ID\"),\n",
    "    공정.alias(\"공정\"),\n",
    "    정직.alias(\"정직\"),\n",
    "    존중.alias(\"존중\"),\n",
    "    책임.alias(\"책임\"),\n",
    "    투명성.alias(\"투명성\"),\n",
    "    all.alias(\"전체\")\n",
    "])\n",
    "\n",
    "\n",
    "def make_grade(column, excellent, great, good, bad):\n",
    "    return pl.when(column >= excellent).then(5).when(column >= great).then(4).when(column >= good).then(3).when(column >= bad).then(2).otherwise(1)\n",
    "\n",
    "grading_all = make_grade(pl.col(\"전체\"), 4.70, 3.85, 3.40, 2.95)\n",
    "grading_공정 = make_grade(pl.col(\"공정\"), 5.0, 3.75, 3.0, 2.50)\n",
    "grading_정직 = make_grade(pl.col(\"정직\"), 5.0, 4.0, 3.5, 3.25)\n",
    "grading_존중 = make_grade(pl.col(\"존중\"), 5.0, 3.75, 3.0, 2.25)\n",
    "grading_책임 = make_grade(pl.col(\"책임\"), 5.0, 3.75, 3.25, 2.75)\n",
    "grading_투명성 = make_grade(pl.col(\"투명성\"), 5.0, 3.75, 3.25, 2.75)\n",
    "\n",
    "grading = by_area.select([\n",
    "    grading_all.alias(\"전체_채점\"),\n",
    "    grading_공정.alias(\"공정_채점\"),\n",
    "    grading_정직.alias(\"정직_채점\"),\n",
    "    grading_존중.alias(\"존중_채점\"),\n",
    "    grading_책임.alias(\"책임_채점\"),\n",
    "    grading_투명성.alias(\"투명성_채점\"),\n",
    "])\n",
    "\n",
    "all_count = grading.group_by(\"전체_채점\").agg(pl.count(\"전체_채점\").alias(\"전체\")).rename({\"전체_채점\": \"등급\"})\n",
    "공정_count = grading.group_by(\"공정_채점\").agg(pl.count(\"공정_채점\").alias(\"공정\")).rename({\"공정_채점\": \"등급\"})\n",
    "정직_count = grading.group_by(\"정직_채점\").agg(pl.count(\"정직_채점\").alias(\"정직\")).rename({\"정직_채점\": \"등급\"})\n",
    "존중_count = grading.group_by(\"존중_채점\").agg(pl.count(\"존중_채점\").alias(\"존중\")).rename({\"존중_채점\": \"등급\"})\n",
    "책임_count = grading.group_by(\"책임_채점\").agg(pl.count(\"책임_채점\").alias(\"책임\")).rename({\"책임_채점\": \"등급\"})\n",
    "투명성_count = grading.group_by(\"투명성_채점\").agg(pl.count(\"투명성_채점\").alias(\"투명성\")).rename({\"투명성_채점\": \"등급\"})\n",
    "\n",
    "def check_zero_and_concat(dataframe, column_name, basis=5):\n",
    "    if dataframe.shape[0] < basis:\n",
    "        t = pl.DataFrame({\"count\": [1], column_name: [0]})\n",
    "        t = t.with_columns(\n",
    "            pl.col(\"count\").cast(pl.Int32),\n",
    "            pl.col(column_name).cast(pl.UInt32),\n",
    "        )\n",
    "        return dataframe.extend(t)\n",
    "    return dataframe\n",
    "\n",
    "all_count = all_count.join(공정_count, on=\"등급\", how=\"left\") \\\n",
    "    .join(정직_count, on=\"등급\", how=\"left\") \\\n",
    "    .join(존중_count, on=\"등급\", how=\"left\") \\\n",
    "    .join(책임_count, on=\"등급\", how=\"left\") \\\n",
    "    .join(투명성_count, on=\"등급\", how=\"left\") \\\n",
    "    .fill_null(0) \\\n",
    "    .sort(\"등급\")\n",
    "\n",
    "all_count.drop(\"등급\").transpose(\n",
    "    include_header=True\n",
    ").rename(\n",
    "    {\"column\": \"영역\", \"column_0\":\"1\", \"column_1\":\"2\", \"column_2\":\"3\", \"column_3\":\"4\", \"column_4\":\"5\"}\n",
    ").select(\n",
    "    영역 = pl.col(\"영역\"),\n",
    "    평균 = (pl.col(\"1\") + pl.col(\"2\") * 2 + pl.col(\"3\") * 3 + pl.col(\"4\") * 4 + pl.col(\"5\") * 5) / (pl.col(\"1\") + pl.col(\"2\") + pl.col(\"3\") + pl.col(\"4\") + pl.col(\"5\")),\n",
    "    미흡 = (pl.col(\"1\") + pl.col(\"2\")),\n",
    "    보통 = pl.col(\"3\"),\n",
    "    우수 = (pl.col(\"4\") + pl.col(\"5\")),\n",
    "    \n",
    ").with_columns(\n",
    "    미흡_pct = pl.col(\"미흡\") / (pl.col(\"미흡\") + pl.col(\"보통\") + pl.col(\"우수\")) * 100,\n",
    "    보통_pct = pl.col(\"보통\") / (pl.col(\"미흡\") + pl.col(\"보통\") + pl.col(\"우수\")) * 100,\n",
    "    우수_pct = pl.col(\"우수\") / (pl.col(\"미흡\") + pl.col(\"보통\") + pl.col(\"우수\")) * 100,\n",
    ")"
   ]
  }
 ],
 "metadata": {
  "kernelspec": {
   "display_name": ".venv",
   "language": "python",
   "name": "python3"
  },
  "language_info": {
   "codemirror_mode": {
    "name": "ipython",
    "version": 3
   },
   "file_extension": ".py",
   "mimetype": "text/x-python",
   "name": "python",
   "nbconvert_exporter": "python",
   "pygments_lexer": "ipython3",
   "version": "3.12.6"
  }
 },
 "nbformat": 4,
 "nbformat_minor": 2
}
