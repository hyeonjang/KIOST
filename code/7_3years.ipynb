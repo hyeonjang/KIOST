{
 "cells": [
  {
   "cell_type": "code",
   "execution_count": 144,
   "metadata": {},
   "outputs": [],
   "source": [
    "from attributes import *\n",
    "import polars as pl\n",
    "import altair as alt\n",
    "\n",
    "# get data\n",
    "df = pl.read_csv(\"data/2_research_ethic_recognition.csv\")"
   ]
  },
  {
   "cell_type": "code",
   "execution_count": 145,
   "metadata": {},
   "outputs": [],
   "source": [
    "def basic_analysis(name):\n",
    "    count = df.group_by(name).len().sort(name)\n",
    "    proportion = count.with_columns(\n",
    "        pct = pl.col(\"len\") / pl.col(\"len\").sum() * 100\n",
    "    )\n",
    "    mean = df.select(mean = pl.col(name).mean())\n",
    "    std = df.select(std = pl.col(name).std())\n",
    "    "
   ]
  },
  {
   "cell_type": "code",
   "execution_count": 146,
   "metadata": {},
   "outputs": [],
   "source": [
    "def draw_bar_plot(df, x, y, title, MAP, rotate=True, legend=True):\n",
    "\n",
    "    bar_x = alt.X(x, title=title, axis=None)\n",
    "    bar_x = bar_x if MAP is None else bar_x.sort(MAP.values())\n",
    "\n",
    "    txt_x = alt.X(x, sort=MAP.values()) if MAP is not None else alt.X(x)\n",
    "    lgd_x = alt.Legend(orient='bottom', direction='horizontal')\n",
    "    color = alt.Color(x, title=None, legend=lgd_x) if legend else alt.Color(x, title=None, legend=None)\n",
    "    color = color.sort(MAP.values()) if MAP is not None else color\n",
    "\n",
    "    bar = df.plot.bar().encode(\n",
    "        x=bar_x,\n",
    "        y=alt.Y(y, title=None),\n",
    "        color=color,\n",
    "    ).properties(\n",
    "        title=title,\n",
    "        width=400,\n",
    "    )\n",
    "\n",
    "    text = bar.mark_text(\n",
    "        align=\"center\",\n",
    "        baseline=\"bottom\",\n",
    "    ).encode(\n",
    "        x=txt_x,\n",
    "        y=y,\n",
    "        text=y,\n",
    "        color=alt.value(\"black\"),\n",
    "    )\n",
    "    return bar + text"
   ]
  },
  {
   "cell_type": "code",
   "execution_count": 147,
   "metadata": {},
   "outputs": [],
   "source": [
    "def get(title, _2022, _2023, importance):\n",
    "    _2024 = df.group_by(title).len().sort(title)\n",
    "\n",
    "    if _2024[title].len() < len(importance):\n",
    "        extending = pl.DataFrame({\n",
    "            title: [1],\n",
    "            \"len\": [0]\n",
    "        }).cast(pl.Schema({ \"len\": pl.UInt32()}))\n",
    "        _2024 = _2024.extend(extending)\n",
    "\n",
    "    _2024 = _2024.rename({\"len\": \"2024\"}).sort(title)\n",
    "    _2024 = _2024.with_columns(\n",
    "        pct2024 = pl.col(\"2024\") / pl.col(\"2024\").sum() * 100,\n",
    "        mean2024 = (pl.col(title) * pl.col(\"2024\")).sum() / _2024[\"2024\"].sum(),\n",
    "    )\n",
    "    _2024 = _2024.with_columns(\n",
    "        std2024 = (((pl.col(title) - _2024[\"mean2024\"]) ** 2 * pl.col(\"2024\")).sum() / pl.col(\"2024\").sum()).sqrt(),\n",
    "    )\n",
    "\n",
    "    all = _2022.join(_2023, on=title, how=\"left\").join(_2024, on=title, how=\"left\")\n",
    "    all = all.with_columns(\n",
    "        total = pl.col(\"2022\") + pl.col(\"2023\") + pl.col(\"2024\")\n",
    "    )\n",
    "\n",
    "    all = all.with_columns(\n",
    "        pctAll = all[\"total\"] / all[\"total\"].sum() * 100,\n",
    "        meanAll = (pl.col(title) * pl.col(\"total\")).sum() / all[\"total\"].sum(),\n",
    "    )\n",
    "    all = all.with_columns(\n",
    "        stdAll = (((pl.col(title) - all[\"meanAll\"]) ** 2 * pl.col(\"total\")).sum() / pl.col(\"total\").sum()).sqrt(),\n",
    "    )\n",
    "    return all"
   ]
  },
  {
   "cell_type": "code",
   "execution_count": 148,
   "metadata": {},
   "outputs": [
    {
     "data": {
      "text/html": [
       "<div><style>\n",
       ".dataframe > thead > tr,\n",
       ".dataframe > tbody > tr {\n",
       "  text-align: right;\n",
       "  white-space: pre-wrap;\n",
       "}\n",
       "</style>\n",
       "<small>shape: (5, 11)</small><table border=\"1\" class=\"dataframe\"><thead><tr><th>Q1</th><th>2022</th><th>2023</th><th>2024</th><th>pct2024</th><th>mean2024</th><th>std2024</th><th>total</th><th>pctAll</th><th>meanAll</th><th>stdAll</th></tr><tr><td>i64</td><td>i64</td><td>i64</td><td>u32</td><td>f64</td><td>f64</td><td>f64</td><td>i64</td><td>f64</td><td>f64</td><td>f64</td></tr></thead><tbody><tr><td>1</td><td>9</td><td>0</td><td>0</td><td>0.0</td><td>4.646707</td><td>0.536989</td><td>9</td><td>1.8</td><td>4.58</td><td>0.709648</td></tr><tr><td>2</td><td>0</td><td>0</td><td>1</td><td>0.598802</td><td>4.646707</td><td>0.536989</td><td>1</td><td>0.2</td><td>4.58</td><td>0.709648</td></tr><tr><td>3</td><td>4</td><td>2</td><td>2</td><td>1.197605</td><td>4.646707</td><td>0.536989</td><td>8</td><td>1.6</td><td>4.58</td><td>0.709648</td></tr><tr><td>4</td><td>47</td><td>56</td><td>52</td><td>31.137725</td><td>4.646707</td><td>0.536989</td><td>155</td><td>31.0</td><td>4.58</td><td>0.709648</td></tr><tr><td>5</td><td>103</td><td>112</td><td>112</td><td>67.065868</td><td>4.646707</td><td>0.536989</td><td>327</td><td>65.4</td><td>4.58</td><td>0.709648</td></tr></tbody></table></div>"
      ],
      "text/plain": [
       "shape: (5, 11)\n",
       "┌─────┬──────┬──────┬──────┬───┬───────┬────────┬─────────┬──────────┐\n",
       "│ Q1  ┆ 2022 ┆ 2023 ┆ 2024 ┆ … ┆ total ┆ pctAll ┆ meanAll ┆ stdAll   │\n",
       "│ --- ┆ ---  ┆ ---  ┆ ---  ┆   ┆ ---   ┆ ---    ┆ ---     ┆ ---      │\n",
       "│ i64 ┆ i64  ┆ i64  ┆ u32  ┆   ┆ i64   ┆ f64    ┆ f64     ┆ f64      │\n",
       "╞═════╪══════╪══════╪══════╪═══╪═══════╪════════╪═════════╪══════════╡\n",
       "│ 1   ┆ 9    ┆ 0    ┆ 0    ┆ … ┆ 9     ┆ 1.8    ┆ 4.58    ┆ 0.709648 │\n",
       "│ 2   ┆ 0    ┆ 0    ┆ 1    ┆ … ┆ 1     ┆ 0.2    ┆ 4.58    ┆ 0.709648 │\n",
       "│ 3   ┆ 4    ┆ 2    ┆ 2    ┆ … ┆ 8     ┆ 1.6    ┆ 4.58    ┆ 0.709648 │\n",
       "│ 4   ┆ 47   ┆ 56   ┆ 52   ┆ … ┆ 155   ┆ 31.0   ┆ 4.58    ┆ 0.709648 │\n",
       "│ 5   ┆ 103  ┆ 112  ┆ 112  ┆ … ┆ 327   ┆ 65.4   ┆ 4.58    ┆ 0.709648 │\n",
       "└─────┴──────┴──────┴──────┴───┴───────┴────────┴─────────┴──────────┘"
      ]
     },
     "execution_count": 148,
     "metadata": {},
     "output_type": "execute_result"
    }
   ],
   "source": [
    "# \n",
    "# 가. 연구자의 연구윤리 인식과 실천의 중요성 인식 \n",
    "# \n",
    "title = \"연구윤리 인식 및 실천의 중요성 인식\"\n",
    "\n",
    "importance = [1, 2, 3, 4, 5]\n",
    "\n",
    "# 1) counting\n",
    "_2022 = pl.DataFrame({\n",
    "    \"Q1\": importance,\n",
    "    \"2022\": [9, 0, 4, 47, 103],\n",
    "})\n",
    "\n",
    "_2023 = pl.DataFrame({\n",
    "    \"Q1\": importance,\n",
    "    \"2023\": [0, 0, 2, 56, 112],\n",
    "})\n",
    "\n",
    "# basic_analysis(\"Q1\")\n",
    "get(\"Q1\", _2022, _2023, importance)"
   ]
  },
  {
   "cell_type": "code",
   "execution_count": 149,
   "metadata": {},
   "outputs": [],
   "source": [
    "# # \n",
    "# # 나. 연구자의 연구윤리 준수 수준 \n",
    "# # \n",
    "\n",
    "# # 1) counting\n",
    "# _2022 = pl.DataFrame({\n",
    "#     \"Q2\": importance,\n",
    "#     \"2022\": [1, 5, 42, 89, 26],\n",
    "# })\n",
    "\n",
    "# _2023 = pl.DataFrame({\n",
    "#     \"Q2\": importance,\n",
    "#     \"2023\": [0, 6, 55, 75, 34],\n",
    "# })\n",
    "\n",
    "# get(\"Q2\", _2022, _2023)"
   ]
  },
  {
   "cell_type": "code",
   "execution_count": 150,
   "metadata": {},
   "outputs": [
    {
     "name": "stdout",
     "output_type": "stream",
     "text": [
      "연구윤리교육\n"
     ]
    },
    {
     "data": {
      "text/html": [
       "<div><style>\n",
       ".dataframe > thead > tr,\n",
       ".dataframe > tbody > tr {\n",
       "  text-align: right;\n",
       "  white-space: pre-wrap;\n",
       "}\n",
       "</style>\n",
       "<small>shape: (5, 11)</small><table border=\"1\" class=\"dataframe\"><thead><tr><th>Q3_1</th><th>2022</th><th>2023</th><th>2024</th><th>pct2024</th><th>mean2024</th><th>std2024</th><th>total</th><th>pctAll</th><th>meanAll</th><th>stdAll</th></tr><tr><td>i64</td><td>i64</td><td>i64</td><td>u32</td><td>f64</td><td>f64</td><td>f64</td><td>i64</td><td>f64</td><td>f64</td><td>f64</td></tr></thead><tbody><tr><td>1</td><td>1</td><td>2</td><td>2</td><td>1.197605</td><td>4.08982</td><td>0.795394</td><td>5</td><td>1.0</td><td>3.996</td><td>0.779733</td></tr><tr><td>2</td><td>2</td><td>4</td><td>4</td><td>2.39521</td><td>4.08982</td><td>0.795394</td><td>10</td><td>2.0</td><td>3.996</td><td>0.779733</td></tr><tr><td>3</td><td>33</td><td>38</td><td>22</td><td>13.173653</td><td>4.08982</td><td>0.795394</td><td>93</td><td>18.6</td><td>3.996</td><td>0.779733</td></tr><tr><td>4</td><td>88</td><td>90</td><td>88</td><td>52.694611</td><td>4.08982</td><td>0.795394</td><td>266</td><td>53.2</td><td>3.996</td><td>0.779733</td></tr><tr><td>5</td><td>39</td><td>36</td><td>51</td><td>30.538922</td><td>4.08982</td><td>0.795394</td><td>126</td><td>25.2</td><td>3.996</td><td>0.779733</td></tr></tbody></table></div>"
      ],
      "text/plain": [
       "shape: (5, 11)\n",
       "┌──────┬──────┬──────┬──────┬───┬───────┬────────┬─────────┬──────────┐\n",
       "│ Q3_1 ┆ 2022 ┆ 2023 ┆ 2024 ┆ … ┆ total ┆ pctAll ┆ meanAll ┆ stdAll   │\n",
       "│ ---  ┆ ---  ┆ ---  ┆ ---  ┆   ┆ ---   ┆ ---    ┆ ---     ┆ ---      │\n",
       "│ i64  ┆ i64  ┆ i64  ┆ u32  ┆   ┆ i64   ┆ f64    ┆ f64     ┆ f64      │\n",
       "╞══════╪══════╪══════╪══════╪═══╪═══════╪════════╪═════════╪══════════╡\n",
       "│ 1    ┆ 1    ┆ 2    ┆ 2    ┆ … ┆ 5     ┆ 1.0    ┆ 3.996   ┆ 0.779733 │\n",
       "│ 2    ┆ 2    ┆ 4    ┆ 4    ┆ … ┆ 10    ┆ 2.0    ┆ 3.996   ┆ 0.779733 │\n",
       "│ 3    ┆ 33   ┆ 38   ┆ 22   ┆ … ┆ 93    ┆ 18.6   ┆ 3.996   ┆ 0.779733 │\n",
       "│ 4    ┆ 88   ┆ 90   ┆ 88   ┆ … ┆ 266   ┆ 53.2   ┆ 3.996   ┆ 0.779733 │\n",
       "│ 5    ┆ 39   ┆ 36   ┆ 51   ┆ … ┆ 126   ┆ 25.2   ┆ 3.996   ┆ 0.779733 │\n",
       "└──────┴──────┴──────┴──────┴───┴───────┴────────┴─────────┴──────────┘"
      ]
     },
     "execution_count": 150,
     "metadata": {},
     "output_type": "execute_result"
    }
   ],
   "source": [
    "# \n",
    "# 다. 연구자의 연구윤리 준수 영향 요인별\n",
    "# \n",
    "print(\"연구윤리교육\")\n",
    "importance = [1, 2, 3, 4, 5]\n",
    "\n",
    "title =\"Q3_1\"\n",
    "\n",
    "# 1) counting\n",
    "_2022 = pl.DataFrame({\n",
    "    title: importance,\n",
    "    \"2022\": [1, 2, 33, 88, 39],\n",
    "})\n",
    "\n",
    "_2023 = pl.DataFrame({\n",
    "    title: importance,\n",
    "    \"2023\": [2, 4, 38, 90, 36],\n",
    "})\n",
    "\n",
    "get(title, _2022, _2023, importance)"
   ]
  },
  {
   "cell_type": "code",
   "execution_count": 151,
   "metadata": {},
   "outputs": [
    {
     "name": "stdout",
     "output_type": "stream",
     "text": [
      "연구윤리 관련 보도\n"
     ]
    },
    {
     "data": {
      "text/html": [
       "<div><style>\n",
       ".dataframe > thead > tr,\n",
       ".dataframe > tbody > tr {\n",
       "  text-align: right;\n",
       "  white-space: pre-wrap;\n",
       "}\n",
       "</style>\n",
       "<small>shape: (5, 11)</small><table border=\"1\" class=\"dataframe\"><thead><tr><th>Q3_2</th><th>2022</th><th>2023</th><th>2024</th><th>pct2024</th><th>mean2024</th><th>std2024</th><th>total</th><th>pctAll</th><th>meanAll</th><th>stdAll</th></tr><tr><td>i64</td><td>i64</td><td>i64</td><td>u32</td><td>f64</td><td>f64</td><td>f64</td><td>i64</td><td>f64</td><td>f64</td><td>f64</td></tr></thead><tbody><tr><td>1</td><td>1</td><td>0</td><td>5</td><td>2.994012</td><td>3.868263</td><td>0.892758</td><td>6</td><td>1.2</td><td>3.832</td><td>0.814724</td></tr><tr><td>2</td><td>5</td><td>6</td><td>5</td><td>2.994012</td><td>3.868263</td><td>0.892758</td><td>16</td><td>3.2</td><td>3.832</td><td>0.814724</td></tr><tr><td>3</td><td>42</td><td>55</td><td>34</td><td>20.359281</td><td>3.868263</td><td>0.892758</td><td>131</td><td>26.2</td><td>3.832</td><td>0.814724</td></tr><tr><td>4</td><td>89</td><td>75</td><td>86</td><td>51.497006</td><td>3.868263</td><td>0.892758</td><td>250</td><td>50.0</td><td>3.832</td><td>0.814724</td></tr><tr><td>5</td><td>26</td><td>34</td><td>37</td><td>22.155689</td><td>3.868263</td><td>0.892758</td><td>97</td><td>19.4</td><td>3.832</td><td>0.814724</td></tr></tbody></table></div>"
      ],
      "text/plain": [
       "shape: (5, 11)\n",
       "┌──────┬──────┬──────┬──────┬───┬───────┬────────┬─────────┬──────────┐\n",
       "│ Q3_2 ┆ 2022 ┆ 2023 ┆ 2024 ┆ … ┆ total ┆ pctAll ┆ meanAll ┆ stdAll   │\n",
       "│ ---  ┆ ---  ┆ ---  ┆ ---  ┆   ┆ ---   ┆ ---    ┆ ---     ┆ ---      │\n",
       "│ i64  ┆ i64  ┆ i64  ┆ u32  ┆   ┆ i64   ┆ f64    ┆ f64     ┆ f64      │\n",
       "╞══════╪══════╪══════╪══════╪═══╪═══════╪════════╪═════════╪══════════╡\n",
       "│ 1    ┆ 1    ┆ 0    ┆ 5    ┆ … ┆ 6     ┆ 1.2    ┆ 3.832   ┆ 0.814724 │\n",
       "│ 2    ┆ 5    ┆ 6    ┆ 5    ┆ … ┆ 16    ┆ 3.2    ┆ 3.832   ┆ 0.814724 │\n",
       "│ 3    ┆ 42   ┆ 55   ┆ 34   ┆ … ┆ 131   ┆ 26.2   ┆ 3.832   ┆ 0.814724 │\n",
       "│ 4    ┆ 89   ┆ 75   ┆ 86   ┆ … ┆ 250   ┆ 50.0   ┆ 3.832   ┆ 0.814724 │\n",
       "│ 5    ┆ 26   ┆ 34   ┆ 37   ┆ … ┆ 97    ┆ 19.4   ┆ 3.832   ┆ 0.814724 │\n",
       "└──────┴──────┴──────┴──────┴───┴───────┴────────┴─────────┴──────────┘"
      ]
     },
     "execution_count": 151,
     "metadata": {},
     "output_type": "execute_result"
    }
   ],
   "source": [
    "# \n",
    "# 다. 연구자의 연구윤리 준수 영향 요인별\n",
    "# \n",
    "print(\"연구윤리 관련 보도\")\n",
    "importance = [1, 2, 3, 4, 5]\n",
    "\n",
    "title =\"Q3_2\"\n",
    "\n",
    "# 1) counting\n",
    "_2022 = pl.DataFrame({\n",
    "    title: importance,\n",
    "    \"2022\": [1, 5, 42, 89, 26],\n",
    "})\n",
    "\n",
    "_2023 = pl.DataFrame({\n",
    "    title: importance,\n",
    "    \"2023\": [0, 6, 55, 75, 34],\n",
    "})\n",
    "\n",
    "get(title, _2022, _2023, importance)"
   ]
  },
  {
   "cell_type": "code",
   "execution_count": 152,
   "metadata": {},
   "outputs": [
    {
     "name": "stdout",
     "output_type": "stream",
     "text": [
      "연구자 간 멘토링\n"
     ]
    },
    {
     "data": {
      "text/html": [
       "<div><style>\n",
       ".dataframe > thead > tr,\n",
       ".dataframe > tbody > tr {\n",
       "  text-align: right;\n",
       "  white-space: pre-wrap;\n",
       "}\n",
       "</style>\n",
       "<small>shape: (5, 11)</small><table border=\"1\" class=\"dataframe\"><thead><tr><th>Q3_3</th><th>2022</th><th>2023</th><th>2024</th><th>pct2024</th><th>mean2024</th><th>std2024</th><th>total</th><th>pctAll</th><th>meanAll</th><th>stdAll</th></tr><tr><td>i64</td><td>i64</td><td>i64</td><td>u32</td><td>f64</td><td>f64</td><td>f64</td><td>i64</td><td>f64</td><td>f64</td><td>f64</td></tr></thead><tbody><tr><td>1</td><td>1</td><td>0</td><td>0</td><td>0.0</td><td>4.377246</td><td>0.662212</td><td>1</td><td>0.235849</td><td>4.360849</td><td>0.736178</td></tr><tr><td>2</td><td>1</td><td>3</td><td>2</td><td>1.197605</td><td>4.377246</td><td>0.662212</td><td>6</td><td>1.415094</td><td>4.360849</td><td>0.736178</td></tr><tr><td>3</td><td>13</td><td>18</td><td>11</td><td>6.586826</td><td>4.377246</td><td>0.662212</td><td>42</td><td>9.90566</td><td>4.360849</td><td>0.736178</td></tr><tr><td>4</td><td>81</td><td>8</td><td>76</td><td>45.508982</td><td>4.377246</td><td>0.662212</td><td>165</td><td>38.915094</td><td>4.360849</td><td>0.736178</td></tr><tr><td>5</td><td>67</td><td>65</td><td>78</td><td>46.706587</td><td>4.377246</td><td>0.662212</td><td>210</td><td>49.528302</td><td>4.360849</td><td>0.736178</td></tr></tbody></table></div>"
      ],
      "text/plain": [
       "shape: (5, 11)\n",
       "┌──────┬──────┬──────┬──────┬───┬───────┬───────────┬──────────┬──────────┐\n",
       "│ Q3_3 ┆ 2022 ┆ 2023 ┆ 2024 ┆ … ┆ total ┆ pctAll    ┆ meanAll  ┆ stdAll   │\n",
       "│ ---  ┆ ---  ┆ ---  ┆ ---  ┆   ┆ ---   ┆ ---       ┆ ---      ┆ ---      │\n",
       "│ i64  ┆ i64  ┆ i64  ┆ u32  ┆   ┆ i64   ┆ f64       ┆ f64      ┆ f64      │\n",
       "╞══════╪══════╪══════╪══════╪═══╪═══════╪═══════════╪══════════╪══════════╡\n",
       "│ 1    ┆ 1    ┆ 0    ┆ 0    ┆ … ┆ 1     ┆ 0.235849  ┆ 4.360849 ┆ 0.736178 │\n",
       "│ 2    ┆ 1    ┆ 3    ┆ 2    ┆ … ┆ 6     ┆ 1.415094  ┆ 4.360849 ┆ 0.736178 │\n",
       "│ 3    ┆ 13   ┆ 18   ┆ 11   ┆ … ┆ 42    ┆ 9.90566   ┆ 4.360849 ┆ 0.736178 │\n",
       "│ 4    ┆ 81   ┆ 8    ┆ 76   ┆ … ┆ 165   ┆ 38.915094 ┆ 4.360849 ┆ 0.736178 │\n",
       "│ 5    ┆ 67   ┆ 65   ┆ 78   ┆ … ┆ 210   ┆ 49.528302 ┆ 4.360849 ┆ 0.736178 │\n",
       "└──────┴──────┴──────┴──────┴───┴───────┴───────────┴──────────┴──────────┘"
      ]
     },
     "execution_count": 152,
     "metadata": {},
     "output_type": "execute_result"
    }
   ],
   "source": [
    "# \n",
    "# 다. 연구자의 연구윤리 준수 영향 요인별\n",
    "# \n",
    "print(\"연구자 간 멘토링\")\n",
    "importance = [1, 2, 3, 4, 5]\n",
    "\n",
    "title =\"Q3_3\"\n",
    "\n",
    "# 1) counting\n",
    "_2022 = pl.DataFrame({\n",
    "    title: importance,\n",
    "    \"2022\": [1, 1, 13, 81, 67],\n",
    "})\n",
    "\n",
    "_2023 = pl.DataFrame({\n",
    "    title: importance,\n",
    "    \"2023\": [0, 3, 18, 8, 65],\n",
    "})\n",
    "\n",
    "_2024 = df.group_by(title).len().sort(title)\n",
    "\n",
    "get(title, _2022, _2023, importance)"
   ]
  },
  {
   "cell_type": "code",
   "execution_count": 153,
   "metadata": {},
   "outputs": [
    {
     "name": "stdout",
     "output_type": "stream",
     "text": [
      "관련 규정 및 지침\n"
     ]
    },
    {
     "data": {
      "text/html": [
       "<div><style>\n",
       ".dataframe > thead > tr,\n",
       ".dataframe > tbody > tr {\n",
       "  text-align: right;\n",
       "  white-space: pre-wrap;\n",
       "}\n",
       "</style>\n",
       "<small>shape: (5, 11)</small><table border=\"1\" class=\"dataframe\"><thead><tr><th>Q3_4</th><th>2022</th><th>2023</th><th>2024</th><th>pct2024</th><th>mean2024</th><th>std2024</th><th>total</th><th>pctAll</th><th>meanAll</th><th>stdAll</th></tr><tr><td>i64</td><td>i64</td><td>i64</td><td>u32</td><td>f64</td><td>f64</td><td>f64</td><td>i64</td><td>f64</td><td>f64</td><td>f64</td></tr></thead><tbody><tr><td>1</td><td>1</td><td>0</td><td>0</td><td>0.0</td><td>4.281437</td><td>0.741307</td><td>1</td><td>0.2</td><td>4.178</td><td>0.725476</td></tr><tr><td>2</td><td>2</td><td>1</td><td>5</td><td>2.994012</td><td>4.281437</td><td>0.741307</td><td>8</td><td>1.6</td><td>4.178</td><td>0.725476</td></tr><tr><td>3</td><td>27</td><td>24</td><td>14</td><td>8.383234</td><td>4.281437</td><td>0.741307</td><td>65</td><td>13.0</td><td>4.178</td><td>0.725476</td></tr><tr><td>4</td><td>90</td><td>86</td><td>77</td><td>46.107784</td><td>4.281437</td><td>0.741307</td><td>253</td><td>50.6</td><td>4.178</td><td>0.725476</td></tr><tr><td>5</td><td>43</td><td>59</td><td>71</td><td>42.51497</td><td>4.281437</td><td>0.741307</td><td>173</td><td>34.6</td><td>4.178</td><td>0.725476</td></tr></tbody></table></div>"
      ],
      "text/plain": [
       "shape: (5, 11)\n",
       "┌──────┬──────┬──────┬──────┬───┬───────┬────────┬─────────┬──────────┐\n",
       "│ Q3_4 ┆ 2022 ┆ 2023 ┆ 2024 ┆ … ┆ total ┆ pctAll ┆ meanAll ┆ stdAll   │\n",
       "│ ---  ┆ ---  ┆ ---  ┆ ---  ┆   ┆ ---   ┆ ---    ┆ ---     ┆ ---      │\n",
       "│ i64  ┆ i64  ┆ i64  ┆ u32  ┆   ┆ i64   ┆ f64    ┆ f64     ┆ f64      │\n",
       "╞══════╪══════╪══════╪══════╪═══╪═══════╪════════╪═════════╪══════════╡\n",
       "│ 1    ┆ 1    ┆ 0    ┆ 0    ┆ … ┆ 1     ┆ 0.2    ┆ 4.178   ┆ 0.725476 │\n",
       "│ 2    ┆ 2    ┆ 1    ┆ 5    ┆ … ┆ 8     ┆ 1.6    ┆ 4.178   ┆ 0.725476 │\n",
       "│ 3    ┆ 27   ┆ 24   ┆ 14   ┆ … ┆ 65    ┆ 13.0   ┆ 4.178   ┆ 0.725476 │\n",
       "│ 4    ┆ 90   ┆ 86   ┆ 77   ┆ … ┆ 253   ┆ 50.6   ┆ 4.178   ┆ 0.725476 │\n",
       "│ 5    ┆ 43   ┆ 59   ┆ 71   ┆ … ┆ 173   ┆ 34.6   ┆ 4.178   ┆ 0.725476 │\n",
       "└──────┴──────┴──────┴──────┴───┴───────┴────────┴─────────┴──────────┘"
      ]
     },
     "execution_count": 153,
     "metadata": {},
     "output_type": "execute_result"
    }
   ],
   "source": [
    "# \n",
    "# 다. 연구자의 연구윤리 준수 영향 요인별\n",
    "# \n",
    "print(\"관련 규정 및 지침\")\n",
    "\n",
    "title =\"Q3_4\"\n",
    "\n",
    "# 1) counting\n",
    "_2022 = pl.DataFrame({\n",
    "    title: importance,\n",
    "    \"2022\": [1, 2, 27, 90, 43],\n",
    "})\n",
    "\n",
    "_2023 = pl.DataFrame({\n",
    "    title: importance,\n",
    "    \"2023\": [0, 1, 24, 86, 59],\n",
    "})\n",
    "\n",
    "_2024 = df.group_by(title).len().sort(title)\n",
    "\n",
    "get(title, _2022, _2023, importance)"
   ]
  },
  {
   "cell_type": "code",
   "execution_count": 154,
   "metadata": {},
   "outputs": [
    {
     "name": "stdout",
     "output_type": "stream",
     "text": [
      "부정행위 검증 및 제재\n"
     ]
    },
    {
     "data": {
      "text/html": [
       "<div><style>\n",
       ".dataframe > thead > tr,\n",
       ".dataframe > tbody > tr {\n",
       "  text-align: right;\n",
       "  white-space: pre-wrap;\n",
       "}\n",
       "</style>\n",
       "<small>shape: (5, 11)</small><table border=\"1\" class=\"dataframe\"><thead><tr><th>Q3_5</th><th>2022</th><th>2023</th><th>2024</th><th>pct2024</th><th>mean2024</th><th>std2024</th><th>total</th><th>pctAll</th><th>meanAll</th><th>stdAll</th></tr><tr><td>i64</td><td>i64</td><td>i64</td><td>u32</td><td>f64</td><td>f64</td><td>f64</td><td>i64</td><td>f64</td><td>f64</td><td>f64</td></tr></thead><tbody><tr><td>1</td><td>1</td><td>0</td><td>0</td><td>0.0</td><td>4.257485</td><td>0.628315</td><td>1</td><td>0.2</td><td>4.222</td><td>0.713243</td></tr><tr><td>2</td><td>1</td><td>2</td><td>1</td><td>0.598802</td><td>4.257485</td><td>0.628315</td><td>4</td><td>0.8</td><td>4.222</td><td>0.713243</td></tr><tr><td>3</td><td>28</td><td>24</td><td>14</td><td>8.383234</td><td>4.257485</td><td>0.628315</td><td>66</td><td>13.2</td><td>4.222</td><td>0.713243</td></tr><tr><td>4</td><td>71</td><td>77</td><td>93</td><td>55.688623</td><td>4.257485</td><td>0.628315</td><td>241</td><td>48.2</td><td>4.222</td><td>0.713243</td></tr><tr><td>5</td><td>62</td><td>67</td><td>59</td><td>35.329341</td><td>4.257485</td><td>0.628315</td><td>188</td><td>37.6</td><td>4.222</td><td>0.713243</td></tr></tbody></table></div>"
      ],
      "text/plain": [
       "shape: (5, 11)\n",
       "┌──────┬──────┬──────┬──────┬───┬───────┬────────┬─────────┬──────────┐\n",
       "│ Q3_5 ┆ 2022 ┆ 2023 ┆ 2024 ┆ … ┆ total ┆ pctAll ┆ meanAll ┆ stdAll   │\n",
       "│ ---  ┆ ---  ┆ ---  ┆ ---  ┆   ┆ ---   ┆ ---    ┆ ---     ┆ ---      │\n",
       "│ i64  ┆ i64  ┆ i64  ┆ u32  ┆   ┆ i64   ┆ f64    ┆ f64     ┆ f64      │\n",
       "╞══════╪══════╪══════╪══════╪═══╪═══════╪════════╪═════════╪══════════╡\n",
       "│ 1    ┆ 1    ┆ 0    ┆ 0    ┆ … ┆ 1     ┆ 0.2    ┆ 4.222   ┆ 0.713243 │\n",
       "│ 2    ┆ 1    ┆ 2    ┆ 1    ┆ … ┆ 4     ┆ 0.8    ┆ 4.222   ┆ 0.713243 │\n",
       "│ 3    ┆ 28   ┆ 24   ┆ 14   ┆ … ┆ 66    ┆ 13.2   ┆ 4.222   ┆ 0.713243 │\n",
       "│ 4    ┆ 71   ┆ 77   ┆ 93   ┆ … ┆ 241   ┆ 48.2   ┆ 4.222   ┆ 0.713243 │\n",
       "│ 5    ┆ 62   ┆ 67   ┆ 59   ┆ … ┆ 188   ┆ 37.6   ┆ 4.222   ┆ 0.713243 │\n",
       "└──────┴──────┴──────┴──────┴───┴───────┴────────┴─────────┴──────────┘"
      ]
     },
     "execution_count": 154,
     "metadata": {},
     "output_type": "execute_result"
    }
   ],
   "source": [
    "# \n",
    "# 다. 연구자의 연구윤리 준수 영향 요인별\n",
    "# \n",
    "print(\"부정행위 검증 및 제재\")\n",
    "\n",
    "title =\"Q3_5\"\n",
    "\n",
    "# 1) counting\n",
    "_2022 = pl.DataFrame({\n",
    "    title: importance,\n",
    "    \"2022\": [1, 1, 28, 71, 62],\n",
    "})\n",
    "\n",
    "_2023 = pl.DataFrame({\n",
    "    title: importance,\n",
    "    \"2023\": [0, 2, 24, 77, 67],\n",
    "})\n",
    "\n",
    "_2024 = df.group_by(title).len().sort(title)\n",
    "\n",
    "get(title, _2022, _2023, importance)"
   ]
  },
  {
   "cell_type": "code",
   "execution_count": 155,
   "metadata": {},
   "outputs": [
    {
     "name": "stdout",
     "output_type": "stream",
     "text": [
      "KIOST의 연구부정행위 제보 방법 인식 여부\n"
     ]
    },
    {
     "data": {
      "text/html": [
       "<div><style>\n",
       ".dataframe > thead > tr,\n",
       ".dataframe > tbody > tr {\n",
       "  text-align: right;\n",
       "  white-space: pre-wrap;\n",
       "}\n",
       "</style>\n",
       "<small>shape: (2, 11)</small><table border=\"1\" class=\"dataframe\"><thead><tr><th>Q26</th><th>2022</th><th>2023</th><th>2024</th><th>pct2024</th><th>mean2024</th><th>std2024</th><th>total</th><th>pctAll</th><th>meanAll</th><th>stdAll</th></tr><tr><td>i64</td><td>i64</td><td>i64</td><td>u32</td><td>f64</td><td>f64</td><td>f64</td><td>i64</td><td>f64</td><td>f64</td><td>f64</td></tr></thead><tbody><tr><td>1</td><td>74</td><td>80</td><td>87</td><td>52.095808</td><td>1.479042</td><td>0.499561</td><td>241</td><td>48.2</td><td>1.518</td><td>0.499676</td></tr><tr><td>2</td><td>89</td><td>90</td><td>80</td><td>47.904192</td><td>1.479042</td><td>0.499561</td><td>259</td><td>51.8</td><td>1.518</td><td>0.499676</td></tr></tbody></table></div>"
      ],
      "text/plain": [
       "shape: (2, 11)\n",
       "┌─────┬──────┬──────┬──────┬───┬───────┬────────┬─────────┬──────────┐\n",
       "│ Q26 ┆ 2022 ┆ 2023 ┆ 2024 ┆ … ┆ total ┆ pctAll ┆ meanAll ┆ stdAll   │\n",
       "│ --- ┆ ---  ┆ ---  ┆ ---  ┆   ┆ ---   ┆ ---    ┆ ---     ┆ ---      │\n",
       "│ i64 ┆ i64  ┆ i64  ┆ u32  ┆   ┆ i64   ┆ f64    ┆ f64     ┆ f64      │\n",
       "╞═════╪══════╪══════╪══════╪═══╪═══════╪════════╪═════════╪══════════╡\n",
       "│ 1   ┆ 74   ┆ 80   ┆ 87   ┆ … ┆ 241   ┆ 48.2   ┆ 1.518   ┆ 0.499676 │\n",
       "│ 2   ┆ 89   ┆ 90   ┆ 80   ┆ … ┆ 259   ┆ 51.8   ┆ 1.518   ┆ 0.499676 │\n",
       "└─────┴──────┴──────┴──────┴───┴───────┴────────┴─────────┴──────────┘"
      ]
     },
     "execution_count": 155,
     "metadata": {},
     "output_type": "execute_result"
    }
   ],
   "source": [
    "# \n",
    "# 라. KIOST에 대한 인식\n",
    "# \n",
    "print(\"KIOST의 연구부정행위 제보 방법 인식 여부\")\n",
    "\n",
    "df = pl.read_csv(\"data/4_KIOST_research_ethics_system.csv\")\n",
    "\n",
    "title =\"Q26\"\n",
    "importance = [1, 2]\n",
    "\n",
    "# 1) counting\n",
    "_2022 = pl.DataFrame({\n",
    "    title: importance,\n",
    "    \"2022\": [74, 89],\n",
    "})\n",
    "\n",
    "_2023 = pl.DataFrame({\n",
    "    title: importance,\n",
    "    \"2023\": [80, 90],\n",
    "})\n",
    "\n",
    "_2024 = df.group_by(title).len().sort(title)\n",
    "\n",
    "get(title, _2022, _2023, importance)\n"
   ]
  },
  {
   "cell_type": "code",
   "execution_count": 156,
   "metadata": {},
   "outputs": [
    {
     "name": "stdout",
     "output_type": "stream",
     "text": [
      "KIOST의 연구부정행위 제보 방법 인식 여부\n"
     ]
    },
    {
     "data": {
      "text/html": [
       "<div><style>\n",
       ".dataframe > thead > tr,\n",
       ".dataframe > tbody > tr {\n",
       "  text-align: right;\n",
       "  white-space: pre-wrap;\n",
       "}\n",
       "</style>\n",
       "<small>shape: (5, 11)</small><table border=\"1\" class=\"dataframe\"><thead><tr><th>Q28</th><th>2022</th><th>2023</th><th>2024</th><th>pct2024</th><th>mean2024</th><th>std2024</th><th>total</th><th>pctAll</th><th>meanAll</th><th>stdAll</th></tr><tr><td>i64</td><td>i64</td><td>i64</td><td>u32</td><td>f64</td><td>f64</td><td>f64</td><td>i64</td><td>f64</td><td>f64</td><td>f64</td></tr></thead><tbody><tr><td>1</td><td>4</td><td>7</td><td>0</td><td>0.0</td><td>3.54491</td><td>0.859652</td><td>11</td><td>2.2</td><td>3.374</td><td>0.879843</td></tr><tr><td>2</td><td>14</td><td>19</td><td>15</td><td>8.982036</td><td>3.54491</td><td>0.859652</td><td>48</td><td>9.6</td><td>3.374</td><td>0.879843</td></tr><tr><td>3</td><td>88</td><td>78</td><td>72</td><td>43.113772</td><td>3.54491</td><td>0.859652</td><td>238</td><td>47.6</td><td>3.374</td><td>0.879843</td></tr><tr><td>4</td><td>44</td><td>51</td><td>54</td><td>32.335329</td><td>3.54491</td><td>0.859652</td><td>149</td><td>29.8</td><td>3.374</td><td>0.879843</td></tr><tr><td>5</td><td>13</td><td>15</td><td>26</td><td>15.568862</td><td>3.54491</td><td>0.859652</td><td>54</td><td>10.8</td><td>3.374</td><td>0.879843</td></tr></tbody></table></div>"
      ],
      "text/plain": [
       "shape: (5, 11)\n",
       "┌─────┬──────┬──────┬──────┬───┬───────┬────────┬─────────┬──────────┐\n",
       "│ Q28 ┆ 2022 ┆ 2023 ┆ 2024 ┆ … ┆ total ┆ pctAll ┆ meanAll ┆ stdAll   │\n",
       "│ --- ┆ ---  ┆ ---  ┆ ---  ┆   ┆ ---   ┆ ---    ┆ ---     ┆ ---      │\n",
       "│ i64 ┆ i64  ┆ i64  ┆ u32  ┆   ┆ i64   ┆ f64    ┆ f64     ┆ f64      │\n",
       "╞═════╪══════╪══════╪══════╪═══╪═══════╪════════╪═════════╪══════════╡\n",
       "│ 1   ┆ 4    ┆ 7    ┆ 0    ┆ … ┆ 11    ┆ 2.2    ┆ 3.374   ┆ 0.879843 │\n",
       "│ 2   ┆ 14   ┆ 19   ┆ 15   ┆ … ┆ 48    ┆ 9.6    ┆ 3.374   ┆ 0.879843 │\n",
       "│ 3   ┆ 88   ┆ 78   ┆ 72   ┆ … ┆ 238   ┆ 47.6   ┆ 3.374   ┆ 0.879843 │\n",
       "│ 4   ┆ 44   ┆ 51   ┆ 54   ┆ … ┆ 149   ┆ 29.8   ┆ 3.374   ┆ 0.879843 │\n",
       "│ 5   ┆ 13   ┆ 15   ┆ 26   ┆ … ┆ 54    ┆ 10.8   ┆ 3.374   ┆ 0.879843 │\n",
       "└─────┴──────┴──────┴──────┴───┴───────┴────────┴─────────┴──────────┘"
      ]
     },
     "execution_count": 156,
     "metadata": {},
     "output_type": "execute_result"
    }
   ],
   "source": [
    "# \n",
    "# 라. KIOST에 대한 인식\n",
    "# \n",
    "# 2) KIOST의 연구부정행위 제보 접수 및 처리 절차 인지\n",
    "print(\"KIOST의 연구부정행위 제보 방법 인식 여부\")\n",
    "\n",
    "title =\"Q28\"\n",
    "importance = [1, 2, 3, 4, 5]\n",
    "\n",
    "# 1) counting\n",
    "_2022 = pl.DataFrame({\n",
    "    title: importance,\n",
    "    \"2022\": [4, 14, 88, 44, 13],\n",
    "})\n",
    "\n",
    "_2023 = pl.DataFrame({\n",
    "    title: importance,\n",
    "    \"2023\": [7, 19, 78, 51, 15],\n",
    "})\n",
    "\n",
    "_2024 = df.group_by(title).len().sort(title)\n",
    "\n",
    "get(title, _2022, _2023, importance)\n"
   ]
  }
 ],
 "metadata": {
  "kernelspec": {
   "display_name": ".venv",
   "language": "python",
   "name": "python3"
  },
  "language_info": {
   "codemirror_mode": {
    "name": "ipython",
    "version": 3
   },
   "file_extension": ".py",
   "mimetype": "text/x-python",
   "name": "python",
   "nbconvert_exporter": "python",
   "pygments_lexer": "ipython3",
   "version": "3.12.6"
  }
 },
 "nbformat": 4,
 "nbformat_minor": 2
}
