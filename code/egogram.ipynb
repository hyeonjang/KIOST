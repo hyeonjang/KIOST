{
 "cells": [
  {
   "cell_type": "code",
   "execution_count": 2,
   "metadata": {},
   "outputs": [
    {
     "name": "stdout",
     "output_type": "stream",
     "text": [
      "shape: (167, 56)\n",
      "┌───────┬──────┬───────┬──────┬───┬────────┬───────┬────────┬────────┐\n",
      "│ ID    ┆ CP_1 ┆ CP_10 ┆ CP_2 ┆ … ┆ sum_np ┆ sum_a ┆ sum_fc ┆ sum_ac │\n",
      "│ ---   ┆ ---  ┆ ---   ┆ ---  ┆   ┆ ---    ┆ ---   ┆ ---    ┆ ---    │\n",
      "│ i64   ┆ i64  ┆ i64   ┆ i64  ┆   ┆ i64    ┆ i64   ┆ i64    ┆ i64    │\n",
      "╞═══════╪══════╪═══════╪══════╪═══╪════════╪═══════╪════════╪════════╡\n",
      "│ 14630 ┆ 3    ┆ 4     ┆ 4    ┆ … ┆ 37     ┆ 37    ┆ 35     ┆ 39     │\n",
      "│ 14629 ┆ 4    ┆ 4     ┆ 2    ┆ … ┆ 37     ┆ 38    ┆ 28     ┆ 30     │\n",
      "│ 14626 ┆ 3    ┆ 4     ┆ 3    ┆ … ┆ 37     ┆ 33    ┆ 29     ┆ 33     │\n",
      "│ 14624 ┆ 2    ┆ 4     ┆ 1    ┆ … ┆ 38     ┆ 44    ┆ 23     ┆ 31     │\n",
      "│ 14627 ┆ 3    ┆ 4     ┆ 1    ┆ … ┆ 36     ┆ 34    ┆ 27     ┆ 27     │\n",
      "│ …     ┆ …    ┆ …     ┆ …    ┆ … ┆ …      ┆ …     ┆ …      ┆ …      │\n",
      "│ 27015 ┆ 2    ┆ 3     ┆ 2    ┆ … ┆ 32     ┆ 29    ┆ 26     ┆ 26     │\n",
      "│ 27046 ┆ 1    ┆ 2     ┆ 2    ┆ … ┆ 21     ┆ 23    ┆ 22     ┆ 25     │\n",
      "│ 27725 ┆ 3    ┆ 3     ┆ 3    ┆ … ┆ 30     ┆ 30    ┆ 30     ┆ 30     │\n",
      "│ 27863 ┆ 2    ┆ 5     ┆ 1    ┆ … ┆ 44     ┆ 44    ┆ 23     ┆ 38     │\n",
      "│ 28045 ┆ 2    ┆ 5     ┆ 2    ┆ … ┆ 32     ┆ 36    ┆ 22     ┆ 32     │\n",
      "└───────┴──────┴───────┴──────┴───┴────────┴───────┴────────┴────────┘\n"
     ]
    }
   ],
   "source": [
    "import polars as pl\n",
    "\n",
    "df_egogram = pl.read_csv(\"data/raw_egogram.csv\")\n",
    "\n",
    "print(df_egogram)"
   ]
  },
  {
   "cell_type": "code",
   "execution_count": 3,
   "metadata": {},
   "outputs": [
    {
     "name": "stdout",
     "output_type": "stream",
     "text": [
      "shape: (167, 61)\n",
      "┌───────┬──────┬───────┬──────┬───┬──────┬──────┬──────┬──────┐\n",
      "│ ID    ┆ CP_1 ┆ CP_10 ┆ CP_2 ┆ … ┆ NP   ┆ A    ┆ FC   ┆ AC   │\n",
      "│ ---   ┆ ---  ┆ ---   ┆ ---  ┆   ┆ ---  ┆ ---  ┆ ---  ┆ ---  │\n",
      "│ i64   ┆ i64  ┆ i64   ┆ i64  ┆   ┆ f64  ┆ f64  ┆ f64  ┆ f64  │\n",
      "╞═══════╪══════╪═══════╪══════╪═══╪══════╪══════╪══════╪══════╡\n",
      "│ 14630 ┆ 3    ┆ 4     ┆ 4    ┆ … ┆ 0.74 ┆ 0.74 ┆ 0.7  ┆ 0.78 │\n",
      "│ 14629 ┆ 4    ┆ 4     ┆ 2    ┆ … ┆ 0.74 ┆ 0.76 ┆ 0.56 ┆ 0.6  │\n",
      "│ 14626 ┆ 3    ┆ 4     ┆ 3    ┆ … ┆ 0.74 ┆ 0.66 ┆ 0.58 ┆ 0.66 │\n",
      "│ 14624 ┆ 2    ┆ 4     ┆ 1    ┆ … ┆ 0.76 ┆ 0.88 ┆ 0.46 ┆ 0.62 │\n",
      "│ 14627 ┆ 3    ┆ 4     ┆ 1    ┆ … ┆ 0.72 ┆ 0.68 ┆ 0.54 ┆ 0.54 │\n",
      "│ …     ┆ …    ┆ …     ┆ …    ┆ … ┆ …    ┆ …    ┆ …    ┆ …    │\n",
      "│ 27015 ┆ 2    ┆ 3     ┆ 2    ┆ … ┆ 0.64 ┆ 0.58 ┆ 0.52 ┆ 0.52 │\n",
      "│ 27046 ┆ 1    ┆ 2     ┆ 2    ┆ … ┆ 0.42 ┆ 0.46 ┆ 0.44 ┆ 0.5  │\n",
      "│ 27725 ┆ 3    ┆ 3     ┆ 3    ┆ … ┆ 0.6  ┆ 0.6  ┆ 0.6  ┆ 0.6  │\n",
      "│ 27863 ┆ 2    ┆ 5     ┆ 1    ┆ … ┆ 0.88 ┆ 0.88 ┆ 0.46 ┆ 0.76 │\n",
      "│ 28045 ┆ 2    ┆ 5     ┆ 2    ┆ … ┆ 0.64 ┆ 0.72 ┆ 0.44 ┆ 0.64 │\n",
      "└───────┴──────┴───────┴──────┴───┴──────┴──────┴──────┴──────┘\n"
     ]
    }
   ],
   "source": [
    "CP = pl.col(\"CP_1\") + pl.col(\"CP_2\") + pl.col(\"CP_3\") + pl.col(\"CP_4\") + pl.col(\"CP_5\") + pl.col(\"CP_6\") + pl.col(\"CP_7\") + pl.col(\"CP_8\") + pl.col(\"CP_9\") + pl.col(\"CP_10\")\n",
    "NP = pl.col(\"NP_1\") + pl.col(\"NP_2\") + pl.col(\"NP_3\") + pl.col(\"NP_4\") + pl.col(\"NP_5\") + pl.col(\"NP_6\") + pl.col(\"NP_7\") + pl.col(\"NP_8\") + pl.col(\"NP_9\") + pl.col(\"NP_10\")\n",
    "A = pl.col(\"A_1\") + pl.col(\"A_2\") + pl.col(\"A_3\") + pl.col(\"A_4\") + pl.col(\"A_5\") + pl.col(\"A_6\") + pl.col(\"A_7\") + pl.col(\"A_8\") + pl.col(\"A_9\") + pl.col(\"A_10\")\n",
    "FC = pl.col(\"FC_1\") + pl.col(\"FC_2\") + pl.col(\"FC_3\") + pl.col(\"FC_4\") + pl.col(\"FC_5\") + pl.col(\"FC_6\") + pl.col(\"FC_7\") + pl.col(\"FC_8\") + pl.col(\"FC_9\") + pl.col(\"FC_10\")\n",
    "AC = pl.col(\"AC_1\") + pl.col(\"AC_2\") + pl.col(\"AC_3\") + pl.col(\"AC_4\") + pl.col(\"AC_5\") + pl.col(\"AC_6\") + pl.col(\"AC_7\") + pl.col(\"AC_8\") + pl.col(\"AC_9\") + pl.col(\"AC_10\")\n",
    "\n",
    "average = df_egogram.with_columns(\n",
    "    CP=CP/50,\n",
    "    NP=NP/50,\n",
    "    A=A/50,\n",
    "    FC=FC/50,\n",
    "    AC=AC/50,\n",
    ")\n",
    "\n",
    "print(average)"
   ]
  },
  {
   "cell_type": "code",
   "execution_count": 4,
   "metadata": {},
   "outputs": [
    {
     "name": "stdout",
     "output_type": "stream",
     "text": [
      "shape: (167, 5)\n",
      "┌──────┬──────┬──────┬──────┬──────┐\n",
      "│ CP   ┆ NP   ┆ A    ┆ FC   ┆ AC   │\n",
      "│ ---  ┆ ---  ┆ ---  ┆ ---  ┆ ---  │\n",
      "│ f64  ┆ f64  ┆ f64  ┆ f64  ┆ f64  │\n",
      "╞══════╪══════╪══════╪══════╪══════╡\n",
      "│ 0.6  ┆ 0.74 ┆ 0.74 ┆ 0.7  ┆ 0.78 │\n",
      "│ 0.58 ┆ 0.74 ┆ 0.76 ┆ 0.56 ┆ 0.6  │\n",
      "│ 0.52 ┆ 0.74 ┆ 0.66 ┆ 0.58 ┆ 0.66 │\n",
      "│ 0.48 ┆ 0.76 ┆ 0.88 ┆ 0.46 ┆ 0.62 │\n",
      "│ 0.48 ┆ 0.72 ┆ 0.68 ┆ 0.54 ┆ 0.54 │\n",
      "│ …    ┆ …    ┆ …    ┆ …    ┆ …    │\n",
      "│ 0.54 ┆ 0.64 ┆ 0.58 ┆ 0.52 ┆ 0.52 │\n",
      "│ 0.36 ┆ 0.42 ┆ 0.46 ┆ 0.44 ┆ 0.5  │\n",
      "│ 0.6  ┆ 0.6  ┆ 0.6  ┆ 0.6  ┆ 0.6  │\n",
      "│ 0.5  ┆ 0.88 ┆ 0.88 ┆ 0.46 ┆ 0.76 │\n",
      "│ 0.54 ┆ 0.64 ┆ 0.72 ┆ 0.44 ┆ 0.64 │\n",
      "└──────┴──────┴──────┴──────┴──────┘\n",
      "shape: (167, 5)\n",
      "┌──────────┬──────────┬──────────┬──────────┬──────────┐\n",
      "│ CP       ┆ NP       ┆ A        ┆ FC       ┆ AC       │\n",
      "│ ---      ┆ ---      ┆ ---      ┆ ---      ┆ ---      │\n",
      "│ f64      ┆ f64      ┆ f64      ┆ f64      ┆ f64      │\n",
      "╞══════════╪══════════╪══════════╪══════════╪══════════╡\n",
      "│ 0.0      ┆ 0.777778 ┆ 0.777778 ┆ 0.555556 ┆ 1.0      │\n",
      "│ 0.1      ┆ 0.9      ┆ 1.0      ┆ 0.0      ┆ 0.2      │\n",
      "│ 0.0      ┆ 1.0      ┆ 0.636364 ┆ 0.272727 ┆ 0.636364 │\n",
      "│ 0.047619 ┆ 0.714286 ┆ 1.0      ┆ 0.0      ┆ 0.380952 │\n",
      "│ 0.0      ┆ 1.0      ┆ 0.833333 ┆ 0.25     ┆ 0.25     │\n",
      "│ …        ┆ …        ┆ …        ┆ …        ┆ …        │\n",
      "│ 0.166667 ┆ 1.0      ┆ 0.5      ┆ 0.0      ┆ 0.0      │\n",
      "│ 0.0      ┆ 0.428571 ┆ 0.714286 ┆ 0.571429 ┆ 1.0      │\n",
      "│ 0.0      ┆ 0.0      ┆ 0.0      ┆ 0.0      ┆ 0.0      │\n",
      "│ 0.095238 ┆ 1.0      ┆ 1.0      ┆ 0.0      ┆ 0.714286 │\n",
      "│ 0.357143 ┆ 0.714286 ┆ 1.0      ┆ 0.0      ┆ 0.714286 │\n",
      "└──────────┴──────────┴──────────┴──────────┴──────────┘\n"
     ]
    }
   ],
   "source": [
    "# min max normalization per row\n",
    "expr_struct = pl.struct([\"CP\", \"NP\", \"A\", \"FC\", \"AC\"])\n",
    "\n",
    "def min_max(t):\n",
    "    mn = min(t)\n",
    "    mx = max(t)\n",
    "    div = mx - mn\n",
    "    if div == 0:\n",
    "        div = 1\n",
    "    return ((t[0]-mn)/div, (t[1]-mn)/div, (t[2]-mn)/div, (t[3]-mn)/div, (t[4]-mn)/div)\n",
    "\n",
    "step0 = average.select([\"CP\", \"NP\", \"A\", \"FC\", \"AC\"])\n",
    "print(step0)\n",
    "\n",
    "normalization = step0.map_rows(lambda t: min_max(t)).rename({\"column_0\": \"CP\", \"column_1\": \"NP\", \"column_2\": \"A\", \"column_3\": \"FC\", \"column_4\": \"AC\"})\n",
    "\n",
    "print(normalization)"
   ]
  },
  {
   "cell_type": "code",
   "execution_count": null,
   "metadata": {},
   "outputs": [],
   "source": []
  },
  {
   "cell_type": "code",
   "execution_count": 7,
   "metadata": {},
   "outputs": [
    {
     "name": "stderr",
     "output_type": "stream",
     "text": [
      "sys:1: MapWithoutReturnDtypeWarning: Calling `map_elements` without specifying `return_dtype` can lead to unpredictable results. Specify `return_dtype` to silence this warning.\n",
      "sys:1: MapWithoutReturnDtypeWarning: Calling `map_elements` without specifying `return_dtype` can lead to unpredictable results. Specify `return_dtype` to silence this warning.\n",
      "sys:1: MapWithoutReturnDtypeWarning: Calling `map_elements` without specifying `return_dtype` can lead to unpredictable results. Specify `return_dtype` to silence this warning.\n",
      "sys:1: MapWithoutReturnDtypeWarning: Calling `map_elements` without specifying `return_dtype` can lead to unpredictable results. Specify `return_dtype` to silence this warning.\n",
      "sys:1: MapWithoutReturnDtypeWarning: Calling `map_elements` without specifying `return_dtype` can lead to unpredictable results. Specify `return_dtype` to silence this warning.\n",
      "sys:1: MapWithoutReturnDtypeWarning: Calling `map_elements` without specifying `return_dtype` can lead to unpredictable results. Specify `return_dtype` to silence this warning.\n",
      "sys:1: MapWithoutReturnDtypeWarning: Calling `map_elements` without specifying `return_dtype` can lead to unpredictable results. Specify `return_dtype` to silence this warning.\n"
     ]
    },
    {
     "ename": "ColumnNotFoundError",
     "evalue": "len\n\nResolved plan until failure:\n\n\t---> FAILED HERE RESOLVING 'with_columns' <---\nDF [\"map\"]; PROJECT */1 COLUMNS; SELECTION: None",
     "output_type": "error",
     "traceback": [
      "\u001b[1;31m---------------------------------------------------------------------------\u001b[0m",
      "\u001b[1;31mColumnNotFoundError\u001b[0m                       Traceback (most recent call last)",
      "Cell \u001b[1;32mIn[7], line 37\u001b[0m\n\u001b[0;32m     34\u001b[0m ego_type \u001b[38;5;241m=\u001b[39m mse\u001b[38;5;241m.\u001b[39mmap_rows(find_min_column, return_dtype\u001b[38;5;241m=\u001b[39mpl\u001b[38;5;241m.\u001b[39mString)\n\u001b[0;32m     36\u001b[0m ego_type\u001b[38;5;241m.\u001b[39mgroup_by(\u001b[38;5;124m\"\u001b[39m\u001b[38;5;124mmap\u001b[39m\u001b[38;5;124m\"\u001b[39m)\u001b[38;5;241m.\u001b[39mlen()\n\u001b[1;32m---> 37\u001b[0m \u001b[43mego_type\u001b[49m\u001b[38;5;241;43m.\u001b[39;49m\u001b[43mwith_columns\u001b[49m\u001b[43m(\u001b[49m\n\u001b[0;32m     38\u001b[0m \u001b[43m    \u001b[49m\u001b[43mpct\u001b[49m\u001b[43m \u001b[49m\u001b[38;5;241;43m=\u001b[39;49m\u001b[43m \u001b[49m\u001b[43m(\u001b[49m\u001b[43mpl\u001b[49m\u001b[38;5;241;43m.\u001b[39;49m\u001b[43mcol\u001b[49m\u001b[43m(\u001b[49m\u001b[38;5;124;43m\"\u001b[39;49m\u001b[38;5;124;43mlen\u001b[39;49m\u001b[38;5;124;43m\"\u001b[39;49m\u001b[43m)\u001b[49m\u001b[43m \u001b[49m\u001b[38;5;241;43m/\u001b[39;49m\u001b[43m \u001b[49m\u001b[43mpl\u001b[49m\u001b[38;5;241;43m.\u001b[39;49m\u001b[43mcol\u001b[49m\u001b[43m(\u001b[49m\u001b[38;5;124;43m\"\u001b[39;49m\u001b[38;5;124;43mlen\u001b[39;49m\u001b[38;5;124;43m\"\u001b[39;49m\u001b[43m)\u001b[49m\u001b[38;5;241;43m.\u001b[39;49m\u001b[43msum\u001b[49m\u001b[43m(\u001b[49m\u001b[43m)\u001b[49m\u001b[43m \u001b[49m\u001b[38;5;241;43m*\u001b[39;49m\u001b[43m \u001b[49m\u001b[38;5;241;43m100\u001b[39;49m\u001b[43m)\u001b[49m\u001b[38;5;241;43m.\u001b[39;49m\u001b[43mround\u001b[49m\u001b[43m(\u001b[49m\u001b[38;5;241;43m1\u001b[39;49m\u001b[43m)\u001b[49m\n\u001b[0;32m     39\u001b[0m \u001b[43m)\u001b[49m\u001b[38;5;241m.\u001b[39msort(columns)\n\u001b[0;32m     40\u001b[0m \u001b[38;5;66;03m# write to personal_info\u001b[39;00m\n\u001b[0;32m     41\u001b[0m \u001b[38;5;66;03m# personal_info = pl.read_csv(\"data/6_personal_info.csv\")\u001b[39;00m\n\u001b[0;32m     42\u001b[0m \u001b[38;5;66;03m# personal_info = personal_info.with_columns(\u001b[39;00m\n\u001b[0;32m     43\u001b[0m \u001b[38;5;66;03m#     ego_type['map']\u001b[39;00m\n\u001b[0;32m     44\u001b[0m \u001b[38;5;66;03m# )\u001b[39;00m\n\u001b[0;32m     45\u001b[0m \u001b[38;5;66;03m# personal_info.write_csv(\"data/6_personal_info.csv\", include_bom=True)\u001b[39;00m\n",
      "File \u001b[1;32mc:\\Users\\hyeon\\Desktop\\yunjoo\\.venv\\Lib\\site-packages\\polars\\dataframe\\frame.py:9183\u001b[0m, in \u001b[0;36mDataFrame.with_columns\u001b[1;34m(self, *exprs, **named_exprs)\u001b[0m\n\u001b[0;32m   9037\u001b[0m \u001b[38;5;28;01mdef\u001b[39;00m \u001b[38;5;21mwith_columns\u001b[39m(\n\u001b[0;32m   9038\u001b[0m     \u001b[38;5;28mself\u001b[39m,\n\u001b[0;32m   9039\u001b[0m     \u001b[38;5;241m*\u001b[39mexprs: IntoExpr \u001b[38;5;241m|\u001b[39m Iterable[IntoExpr],\n\u001b[0;32m   9040\u001b[0m     \u001b[38;5;241m*\u001b[39m\u001b[38;5;241m*\u001b[39mnamed_exprs: IntoExpr,\n\u001b[0;32m   9041\u001b[0m ) \u001b[38;5;241m-\u001b[39m\u001b[38;5;241m>\u001b[39m DataFrame:\n\u001b[0;32m   9042\u001b[0m \u001b[38;5;250m    \u001b[39m\u001b[38;5;124;03m\"\"\"\u001b[39;00m\n\u001b[0;32m   9043\u001b[0m \u001b[38;5;124;03m    Add columns to this DataFrame.\u001b[39;00m\n\u001b[0;32m   9044\u001b[0m \n\u001b[1;32m   (...)\u001b[0m\n\u001b[0;32m   9181\u001b[0m \u001b[38;5;124;03m    └─────┴──────┴─────────────┘\u001b[39;00m\n\u001b[0;32m   9182\u001b[0m \u001b[38;5;124;03m    \"\"\"\u001b[39;00m\n\u001b[1;32m-> 9183\u001b[0m     \u001b[38;5;28;01mreturn\u001b[39;00m \u001b[38;5;28;43mself\u001b[39;49m\u001b[38;5;241;43m.\u001b[39;49m\u001b[43mlazy\u001b[49m\u001b[43m(\u001b[49m\u001b[43m)\u001b[49m\u001b[38;5;241;43m.\u001b[39;49m\u001b[43mwith_columns\u001b[49m\u001b[43m(\u001b[49m\u001b[38;5;241;43m*\u001b[39;49m\u001b[43mexprs\u001b[49m\u001b[43m,\u001b[49m\u001b[43m \u001b[49m\u001b[38;5;241;43m*\u001b[39;49m\u001b[38;5;241;43m*\u001b[39;49m\u001b[43mnamed_exprs\u001b[49m\u001b[43m)\u001b[49m\u001b[38;5;241;43m.\u001b[39;49m\u001b[43mcollect\u001b[49m\u001b[43m(\u001b[49m\u001b[43m_eager\u001b[49m\u001b[38;5;241;43m=\u001b[39;49m\u001b[38;5;28;43;01mTrue\u001b[39;49;00m\u001b[43m)\u001b[49m\n",
      "File \u001b[1;32mc:\\Users\\hyeon\\Desktop\\yunjoo\\.venv\\Lib\\site-packages\\polars\\lazyframe\\frame.py:2050\u001b[0m, in \u001b[0;36mLazyFrame.collect\u001b[1;34m(self, type_coercion, predicate_pushdown, projection_pushdown, simplify_expression, slice_pushdown, comm_subplan_elim, comm_subexpr_elim, cluster_with_columns, collapse_joins, no_optimization, streaming, engine, background, _eager, **_kwargs)\u001b[0m\n\u001b[0;32m   2048\u001b[0m \u001b[38;5;66;03m# Only for testing purposes\u001b[39;00m\n\u001b[0;32m   2049\u001b[0m callback \u001b[38;5;241m=\u001b[39m _kwargs\u001b[38;5;241m.\u001b[39mget(\u001b[38;5;124m\"\u001b[39m\u001b[38;5;124mpost_opt_callback\u001b[39m\u001b[38;5;124m\"\u001b[39m, callback)\n\u001b[1;32m-> 2050\u001b[0m \u001b[38;5;28;01mreturn\u001b[39;00m wrap_df(\u001b[43mldf\u001b[49m\u001b[38;5;241;43m.\u001b[39;49m\u001b[43mcollect\u001b[49m\u001b[43m(\u001b[49m\u001b[43mcallback\u001b[49m\u001b[43m)\u001b[49m)\n",
      "\u001b[1;31mColumnNotFoundError\u001b[0m: len\n\nResolved plan until failure:\n\n\t---> FAILED HERE RESOLVING 'with_columns' <---\nDF [\"map\"]; PROJECT */1 COLUMNS; SELECTION: None"
     ]
    }
   ],
   "source": [
    "# TYPE = [CP, NP, A, FC, AC]\n",
    "TYPE_E = [0.5, 0.5, 0.5, 0.5, 0.5]\n",
    "TYPE_N = [0.0, 1.0, 0.5, 0.0, 1.0]\n",
    "TYPE_R = [1.0, 0.0, 0.5, 1.0, 0.0]\n",
    "TYPE_V = [1.0, 0.5, 0.0, 0.5, 1.0]\n",
    "TYPE_W = [1.0, 0.0, 1.0, 0.0, 1.0]\n",
    "TYPE_M = [0.0, 1.0, 0.0, 1.0, 0.0]\n",
    "TYPE_L = [1.0, 1.0, 0.6, 0.2, 0.0]\n",
    "\n",
    "def MSE(row, T):\n",
    "    cp = row[\"CP\"] - T[0]\n",
    "    np = row[\"NP\"] - T[1]\n",
    "    a = row[\"A\"] - T[2]\n",
    "    fc = row[\"FC\"] - T[3]\n",
    "    ac = row[\"AC\"] - T[4]\n",
    "    return cp**2 + np**2 + a**2 + fc**2 + ac**2\n",
    "\n",
    "columns = [\"E\", \"N\", \"R\", \"V\", \"W\", \"M\", \"L\"]\n",
    "def find_min_column(row):\n",
    "    min_index = row.index(min(row))\n",
    "    return columns[min_index]\n",
    "\n",
    "mse = normalization.select(\n",
    "    mse_E=expr_struct.map_elements(lambda row: MSE(row, TYPE_E)),\n",
    "    mse_N=expr_struct.map_elements(lambda row: MSE(row, TYPE_N)),\n",
    "    mse_R=expr_struct.map_elements(lambda row: MSE(row, TYPE_R)),\n",
    "    mse_V=expr_struct.map_elements(lambda row: MSE(row, TYPE_V)),\n",
    "    mse_W=expr_struct.map_elements(lambda row: MSE(row, TYPE_W)),\n",
    "    mse_M=expr_struct.map_elements(lambda row: MSE(row, TYPE_M)),\n",
    "    mse_L=expr_struct.map_elements(lambda row: MSE(row, TYPE_L)),\n",
    ")\n",
    "\n",
    "\n",
    "ego_type = mse.map_rows(find_min_column, return_dtype=pl.String)\n",
    "\n",
    "count = ego_type.group_by(\"map\").len()\n",
    "ego_type.with_columns(\n",
    "    pct = (pl.col(\"len\") / pl.col(\"len\").sum() * 100).round(1)\n",
    ").sort(columns)\n",
    "# write to personal_info\n",
    "# personal_info = pl.read_csv(\"data/6_personal_info.csv\")\n",
    "# personal_info = personal_info.with_columns(\n",
    "#     ego_type['map']\n",
    "# )\n",
    "# personal_info.write_csv(\"data/6_personal_info.csv\", include_bom=True)\n"
   ]
  }
 ],
 "metadata": {
  "kernelspec": {
   "display_name": ".venv",
   "language": "python",
   "name": "python3"
  },
  "language_info": {
   "codemirror_mode": {
    "name": "ipython",
    "version": 3
   },
   "file_extension": ".py",
   "mimetype": "text/x-python",
   "name": "python",
   "nbconvert_exporter": "python",
   "pygments_lexer": "ipython3",
   "version": "3.12.6"
  }
 },
 "nbformat": 4,
 "nbformat_minor": 2
}
