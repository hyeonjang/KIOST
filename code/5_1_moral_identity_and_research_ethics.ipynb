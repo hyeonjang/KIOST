{
 "cells": [
  {
   "cell_type": "code",
   "execution_count": 10,
   "metadata": {},
   "outputs": [],
   "source": [
    "import polars as pl\n",
    "\n",
    "# Load the CSV file into a Polars DataFrame\n",
    "df = pl.read_csv(\"data/5_3_moral_identity.csv\")\n",
    "\n",
    "Interanlization = [1, 1, 0, 1, 0, 0, 1, 0, 0, 1]\n",
    "Symbolization = [not bool(x) for x in Interanlization]\n",
    "ReverseCoded = [0, 0, 0, 1, 0, 0, 1, 0, 0, 0]\n",
    "\n",
    "# Display the first few rows of the DataFrame\n",
    "df = df.with_columns([\n",
    "    (6 - pl.col(\"Q41_4\")).alias(\"Q41_4\"),\n",
    "    (6 - pl.col(\"Q41_7\")).alias(\"Q41_7\")\n",
    "])"
   ]
  },
  {
   "cell_type": "code",
   "execution_count": 11,
   "metadata": {},
   "outputs": [
    {
     "data": {
      "text/html": [
       "<div><style>\n",
       ".dataframe > thead > tr,\n",
       ".dataframe > tbody > tr {\n",
       "  text-align: right;\n",
       "  white-space: pre-wrap;\n",
       "}\n",
       "</style>\n",
       "<small>shape: (167, 4)</small><table border=\"1\" class=\"dataframe\"><thead><tr><th>Average</th><th>Interanlization</th><th>Symbolization</th><th>ReverseCoded</th></tr><tr><td>f64</td><td>f64</td><td>f64</td><td>f64</td></tr></thead><tbody><tr><td>3.1</td><td>2.75</td><td>3.333333</td><td>2.0</td></tr><tr><td>3.0</td><td>3.0</td><td>3.0</td><td>3.0</td></tr><tr><td>3.9</td><td>4.0</td><td>3.833333</td><td>4.0</td></tr><tr><td>3.0</td><td>3.0</td><td>3.0</td><td>3.0</td></tr><tr><td>3.9</td><td>3.75</td><td>4.0</td><td>3.5</td></tr><tr><td>&hellip;</td><td>&hellip;</td><td>&hellip;</td><td>&hellip;</td></tr><tr><td>3.1</td><td>3.0</td><td>3.166667</td><td>3.5</td></tr><tr><td>2.8</td><td>3.75</td><td>2.166667</td><td>4.5</td></tr><tr><td>3.0</td><td>3.0</td><td>3.0</td><td>3.0</td></tr><tr><td>4.5</td><td>5.0</td><td>4.166667</td><td>5.0</td></tr><tr><td>4.2</td><td>4.75</td><td>3.833333</td><td>4.5</td></tr></tbody></table></div>"
      ],
      "text/plain": [
       "shape: (167, 4)\n",
       "┌─────────┬─────────────────┬───────────────┬──────────────┐\n",
       "│ Average ┆ Interanlization ┆ Symbolization ┆ ReverseCoded │\n",
       "│ ---     ┆ ---             ┆ ---           ┆ ---          │\n",
       "│ f64     ┆ f64             ┆ f64           ┆ f64          │\n",
       "╞═════════╪═════════════════╪═══════════════╪══════════════╡\n",
       "│ 3.1     ┆ 2.75            ┆ 3.333333      ┆ 2.0          │\n",
       "│ 3.0     ┆ 3.0             ┆ 3.0           ┆ 3.0          │\n",
       "│ 3.9     ┆ 4.0             ┆ 3.833333      ┆ 4.0          │\n",
       "│ 3.0     ┆ 3.0             ┆ 3.0           ┆ 3.0          │\n",
       "│ 3.9     ┆ 3.75            ┆ 4.0           ┆ 3.5          │\n",
       "│ …       ┆ …               ┆ …             ┆ …            │\n",
       "│ 3.1     ┆ 3.0             ┆ 3.166667      ┆ 3.5          │\n",
       "│ 2.8     ┆ 3.75            ┆ 2.166667      ┆ 4.5          │\n",
       "│ 3.0     ┆ 3.0             ┆ 3.0           ┆ 3.0          │\n",
       "│ 4.5     ┆ 5.0             ┆ 4.166667      ┆ 5.0          │\n",
       "│ 4.2     ┆ 4.75            ┆ 3.833333      ┆ 4.5          │\n",
       "└─────────┴─────────────────┴───────────────┴──────────────┘"
      ]
     },
     "execution_count": 11,
     "metadata": {},
     "output_type": "execute_result"
    }
   ],
   "source": [
    "moral_identity = df.select(\n",
    "    Average = (pl.col(\"Q41_1\") + pl.col(\"Q41_2\") + pl.col(\"Q41_3\") + pl.col(\"Q41_4\") + pl.col(\"Q41_5\") + pl.col(\"Q41_6\") + pl.col(\"Q41_7\") + pl.col(\"Q41_8\") + pl.col(\"Q41_9\") + pl.col(\"Q41_10\"))/10,\n",
    "    Interanlization = (pl.col(\"Q41_1\") + pl.col(\"Q41_4\") + pl.col(\"Q41_7\") + pl.col(\"Q41_10\"))/4,\n",
    "    Symbolization = (pl.col(\"Q41_2\") + pl.col(\"Q41_3\") + pl.col(\"Q41_5\") + pl.col(\"Q41_6\") + pl.col(\"Q41_8\") + pl.col(\"Q41_9\"))/6,\n",
    "    ReverseCoded = (pl.col(\"Q41_4\") + pl.col(\"Q41_7\"))/2\n",
    ")\n",
    "\n",
    "moral_identity"
   ]
  },
  {
   "cell_type": "code",
   "execution_count": 23,
   "metadata": {},
   "outputs": [],
   "source": [
    "# 상관테이블\n",
    "df = pl.read_csv(\"data/5_1_1_research_ethics_grading.csv\")\n",
    "\n",
    "moral_identity_average = moral_identity.select(pl.col(\"Average\"))\n",
    "moral_identity_internalization = moral_identity.select(pl.col(\"Interanlization\"))\n",
    "moral_identity_symbolization = moral_identity.select(pl.col(\"Symbolization\"))\n",
    "\n",
    "def correlation(title):\n",
    "    research_average = df.select(pl.col(title))\n",
    "    correlatiion = pl.DataFrame(\n",
    "        {\n",
    "            \"도덕정체성_평균\": moral_identity_average[\"Average\"],\n",
    "            \"도덕정체성_내재화_평균\": moral_identity_internalization[\"Interanlization\"],\n",
    "            \"도덕정체성_상징화_평균\": moral_identity_symbolization[\"Symbolization\"],\n",
    "            f\"{title}_평균\": research_average[title]\n",
    "        }\n",
    "    )\n",
    "    return correlatiion.corr()"
   ]
  },
  {
   "cell_type": "code",
   "execution_count": 24,
   "metadata": {},
   "outputs": [
    {
     "data": {
      "text/html": [
       "<div><style>\n",
       ".dataframe > thead > tr,\n",
       ".dataframe > tbody > tr {\n",
       "  text-align: right;\n",
       "  white-space: pre-wrap;\n",
       "}\n",
       "</style>\n",
       "<small>shape: (4, 4)</small><table border=\"1\" class=\"dataframe\"><thead><tr><th>도덕정체성_평균</th><th>도덕정체성_내재화_평균</th><th>도덕정체성_상징화_평균</th><th>전체_채점_평균</th></tr><tr><td>f64</td><td>f64</td><td>f64</td><td>f64</td></tr></thead><tbody><tr><td>1.0</td><td>0.80805</td><td>0.905757</td><td>0.354256</td></tr><tr><td>0.80805</td><td>1.0</td><td>0.482231</td><td>0.395657</td></tr><tr><td>0.905757</td><td>0.482231</td><td>1.0</td><td>0.242169</td></tr><tr><td>0.354256</td><td>0.395657</td><td>0.242169</td><td>1.0</td></tr></tbody></table></div>"
      ],
      "text/plain": [
       "shape: (4, 4)\n",
       "┌─────────────────┬────────────────────────┬────────────────────────┬────────────────┐\n",
       "│ 도덕정체성_평균 ┆ 도덕정체성_내재화_평균 ┆ 도덕정체성_상징화_평균 ┆ 전체_채점_평균 │\n",
       "│ ---             ┆ ---                    ┆ ---                    ┆ ---            │\n",
       "│ f64             ┆ f64                    ┆ f64                    ┆ f64            │\n",
       "╞═════════════════╪════════════════════════╪════════════════════════╪════════════════╡\n",
       "│ 1.0             ┆ 0.80805                ┆ 0.905757               ┆ 0.354256       │\n",
       "│ 0.80805         ┆ 1.0                    ┆ 0.482231               ┆ 0.395657       │\n",
       "│ 0.905757        ┆ 0.482231               ┆ 1.0                    ┆ 0.242169       │\n",
       "│ 0.354256        ┆ 0.395657               ┆ 0.242169               ┆ 1.0            │\n",
       "└─────────────────┴────────────────────────┴────────────────────────┴────────────────┘"
      ]
     },
     "execution_count": 24,
     "metadata": {},
     "output_type": "execute_result"
    }
   ],
   "source": [
    "correlation(\"전체_채점\")"
   ]
  },
  {
   "cell_type": "code",
   "execution_count": 25,
   "metadata": {},
   "outputs": [
    {
     "data": {
      "text/html": [
       "<div><style>\n",
       ".dataframe > thead > tr,\n",
       ".dataframe > tbody > tr {\n",
       "  text-align: right;\n",
       "  white-space: pre-wrap;\n",
       "}\n",
       "</style>\n",
       "<small>shape: (4, 4)</small><table border=\"1\" class=\"dataframe\"><thead><tr><th>도덕정체성_평균</th><th>도덕정체성_내재화_평균</th><th>도덕정체성_상징화_평균</th><th>공정_채점_평균</th></tr><tr><td>f64</td><td>f64</td><td>f64</td><td>f64</td></tr></thead><tbody><tr><td>1.0</td><td>0.80805</td><td>0.905757</td><td>0.358243</td></tr><tr><td>0.80805</td><td>1.0</td><td>0.482231</td><td>0.329403</td></tr><tr><td>0.905757</td><td>0.482231</td><td>1.0</td><td>0.29576</td></tr><tr><td>0.358243</td><td>0.329403</td><td>0.29576</td><td>1.0</td></tr></tbody></table></div>"
      ],
      "text/plain": [
       "shape: (4, 4)\n",
       "┌─────────────────┬────────────────────────┬────────────────────────┬────────────────┐\n",
       "│ 도덕정체성_평균 ┆ 도덕정체성_내재화_평균 ┆ 도덕정체성_상징화_평균 ┆ 공정_채점_평균 │\n",
       "│ ---             ┆ ---                    ┆ ---                    ┆ ---            │\n",
       "│ f64             ┆ f64                    ┆ f64                    ┆ f64            │\n",
       "╞═════════════════╪════════════════════════╪════════════════════════╪════════════════╡\n",
       "│ 1.0             ┆ 0.80805                ┆ 0.905757               ┆ 0.358243       │\n",
       "│ 0.80805         ┆ 1.0                    ┆ 0.482231               ┆ 0.329403       │\n",
       "│ 0.905757        ┆ 0.482231               ┆ 1.0                    ┆ 0.29576        │\n",
       "│ 0.358243        ┆ 0.329403               ┆ 0.29576                ┆ 1.0            │\n",
       "└─────────────────┴────────────────────────┴────────────────────────┴────────────────┘"
      ]
     },
     "execution_count": 25,
     "metadata": {},
     "output_type": "execute_result"
    }
   ],
   "source": [
    "correlation(\"공정_채점\")"
   ]
  },
  {
   "cell_type": "code",
   "execution_count": 26,
   "metadata": {},
   "outputs": [
    {
     "data": {
      "text/html": [
       "<div><style>\n",
       ".dataframe > thead > tr,\n",
       ".dataframe > tbody > tr {\n",
       "  text-align: right;\n",
       "  white-space: pre-wrap;\n",
       "}\n",
       "</style>\n",
       "<small>shape: (4, 4)</small><table border=\"1\" class=\"dataframe\"><thead><tr><th>도덕정체성_평균</th><th>도덕정체성_내재화_평균</th><th>도덕정체성_상징화_평균</th><th>정직_채점_평균</th></tr><tr><td>f64</td><td>f64</td><td>f64</td><td>f64</td></tr></thead><tbody><tr><td>1.0</td><td>0.80805</td><td>0.905757</td><td>0.369137</td></tr><tr><td>0.80805</td><td>1.0</td><td>0.482231</td><td>0.410206</td></tr><tr><td>0.905757</td><td>0.482231</td><td>1.0</td><td>0.253832</td></tr><tr><td>0.369137</td><td>0.410206</td><td>0.253832</td><td>1.0</td></tr></tbody></table></div>"
      ],
      "text/plain": [
       "shape: (4, 4)\n",
       "┌─────────────────┬────────────────────────┬────────────────────────┬────────────────┐\n",
       "│ 도덕정체성_평균 ┆ 도덕정체성_내재화_평균 ┆ 도덕정체성_상징화_평균 ┆ 정직_채점_평균 │\n",
       "│ ---             ┆ ---                    ┆ ---                    ┆ ---            │\n",
       "│ f64             ┆ f64                    ┆ f64                    ┆ f64            │\n",
       "╞═════════════════╪════════════════════════╪════════════════════════╪════════════════╡\n",
       "│ 1.0             ┆ 0.80805                ┆ 0.905757               ┆ 0.369137       │\n",
       "│ 0.80805         ┆ 1.0                    ┆ 0.482231               ┆ 0.410206       │\n",
       "│ 0.905757        ┆ 0.482231               ┆ 1.0                    ┆ 0.253832       │\n",
       "│ 0.369137        ┆ 0.410206               ┆ 0.253832               ┆ 1.0            │\n",
       "└─────────────────┴────────────────────────┴────────────────────────┴────────────────┘"
      ]
     },
     "execution_count": 26,
     "metadata": {},
     "output_type": "execute_result"
    }
   ],
   "source": [
    "correlation(\"정직_채점\")"
   ]
  },
  {
   "cell_type": "code",
   "execution_count": null,
   "metadata": {},
   "outputs": [],
   "source": [
    "correlation(\"존중_채점\")"
   ]
  },
  {
   "cell_type": "code",
   "execution_count": null,
   "metadata": {},
   "outputs": [],
   "source": [
    "correlation(\"책임_채점\")"
   ]
  }
 ],
 "metadata": {
  "kernelspec": {
   "display_name": ".venv",
   "language": "python",
   "name": "python3"
  },
  "language_info": {
   "codemirror_mode": {
    "name": "ipython",
    "version": 3
   },
   "file_extension": ".py",
   "mimetype": "text/x-python",
   "name": "python",
   "nbconvert_exporter": "python",
   "pygments_lexer": "ipython3",
   "version": "3.12.6"
  }
 },
 "nbformat": 4,
 "nbformat_minor": 2
}
