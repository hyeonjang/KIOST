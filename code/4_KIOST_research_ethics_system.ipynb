{
 "cells": [
  {
   "cell_type": "code",
   "execution_count": 36,
   "metadata": {},
   "outputs": [],
   "source": [
    "import polars as pl\n",
    "import altair as alt       \n",
    "\n",
    "research_ethics_system = pl.read_csv(\"data/4_KIOST_research_ethics_system.csv\")"
   ]
  },
  {
   "cell_type": "code",
   "execution_count": 37,
   "metadata": {},
   "outputs": [],
   "source": [
    "def count_y(name):\n",
    "    return research_ethics_system.group_by(pl.col(name).alias(\"Y\")).len().rename({\"len\":name})   \n",
    "\n",
    "def count_list_y(columns):\n",
    "    df = pl.DataFrame({\"Y\":[1, 2]})\n",
    "    for col in columns:\n",
    "        count = research_ethics_system.group_by(pl.col(col).alias(\"Y\")).len().rename({\"len\":col})\n",
    "        df = df.join(count, on=\"Y\", how=\"left\")\n",
    "    return df\n",
    "\n",
    "def make_chart(columns):\n",
    "    charts = []\n",
    "    for col in columns:\n",
    "        chart = alt.Chart(research_ethics_system).mark_bar().encode(\n",
    "            x=f\"{col}:O\",\n",
    "            y=f\"count(ID):N\",\n",
    "            color=f\"{col}:O\"\n",
    "        ).properties(\n",
    "            title=f\"Distribution of {col}\"\n",
    "        )\n",
    "        charts.append(chart)\n",
    "    return alt.hconcat(*charts).resolve_scale(\n",
    "        y='shared'  # Synchronize the y-axis scale across all charts\n",
    "    )"
   ]
  },
  {
   "cell_type": "code",
   "execution_count": 38,
   "metadata": {},
   "outputs": [],
   "source": [
    "\n",
    "# 가. KIOST의 연구윤리 관련 규정에 대한 인지 여부\n",
    "\n",
    "# Loop through each column and create a bar chart\n",
    "columns = [\"Q21_1\", \"Q21_2\", \"Q21_3\", \"Q21_4\", \"Q21_5\"]\n",
    "system_recognition = count_list_y(columns)\n",
    "chart = make_chart(columns)"
   ]
  },
  {
   "cell_type": "code",
   "execution_count": 39,
   "metadata": {},
   "outputs": [],
   "source": [
    "# \n",
    "# 나. KIOST의 연구윤리 규정의 내용 파악 정도\n",
    "# \n",
    "\n",
    "guideline = count_y(\"Q22_1\")\n",
    "animal = count_y(\"Q22_2\")\n",
    "note = count_y(\"Q22_3\")\n",
    "management = count_y(\"Q22_4\")\n",
    "conflict = count_y(\"Q22_5\")\n",
    "\n",
    "regulation_understanding = guideline.join(animal, on=\"Y\") \\\n",
    "            .join(note, on=\"Y\") \\\n",
    "            .join(management, on=\"Y\") \\\n",
    "            .join(conflict, on=\"Y\") \\\n",
    "            .sort(\"Y\")\n",
    "            \n",
    "columns = [\"Q22_1\", \"Q22_2\", \"Q22_3\", \"Q22_4\", \"Q22_5\"]\n",
    "regulation_understanding = count_list_y(columns)\n",
    "chart = make_chart(columns)"
   ]
  },
  {
   "cell_type": "code",
   "execution_count": 40,
   "metadata": {},
   "outputs": [],
   "source": [
    "# \n",
    "# 다. 국가연구개발혁신법 인지 여부\n",
    "# \n",
    "\n",
    "columns = [\"Q23\"]\n",
    "\n",
    "law_recognition = count_y(\"Q23\")\n",
    "chart = make_chart(columns)"
   ]
  },
  {
   "cell_type": "code",
   "execution_count": 41,
   "metadata": {},
   "outputs": [],
   "source": [
    "# \n",
    "# 라. 국가연구개발혁신법 파악 정도\n",
    "# \n",
    "\n",
    "# Loop through each column and create a bar chart\n",
    "columns = [\"Q24_1\", \"Q24_2\", \"Q24_3\", \"Q24_4\", \"Q24_5\"]\n",
    "law_understanding = count_list_y(columns)\n",
    "charts = make_chart(columns)"
   ]
  },
  {
   "cell_type": "code",
   "execution_count": 42,
   "metadata": {},
   "outputs": [],
   "source": [
    "# \n",
    "# 마. 연구부정행위 위반 인지\n",
    "# \n",
    "\n",
    "columns = [\"Q25_1\", \"Q25_2\", \"Q25_3\", \"Q25_4\", \"Q25_5\", \"Q25_6\", \"Q25_7\", \"Q25_8\", \"Q25_9\", \"Q25_10\"]\n",
    "violation_recognition = count_list_y(columns)"
   ]
  },
  {
   "cell_type": "code",
   "execution_count": 45,
   "metadata": {},
   "outputs": [],
   "source": [
    "# \n",
    "# 바. 연구부정행위 위반 내용 보고 방법\n",
    "# \n",
    "\n",
    "# 26. 귀하는 연구부정행위를 인지하게 되었을 때 KIOST 또는 외부의 관련 기관에 제보하는 방법을 알고 있습니까?\n",
    "# 27. 귀하는 연구부정행위에 대한 제보가 접수된 후 어떻게 검증되는지 그 절차에 대해 알고 있습니까?\n",
    "columns = [\"Q26\", \"Q27\"]\n",
    "violation_understanding = count_list_y(columns)\n",
    "charts = make_chart(columns)\n",
    "\n",
    "# 28. 귀하는 KIOST가 연구부정행위에 대한 제보 접수 및 처리를 규정에 따라 잘하고 있다고 생각하십니까?\n",
    "columns = [\"Q28\"]\n",
    "process = count_list_y(columns)\n",
    "charts = make_chart(columns)\n",
    "\n",
    "# 귀하는 KIOST가 연구부정행위에 대한 검증을 객관적이고 공정하게 하고 있다고 생각하십니까?\n",
    "columns = [\"Q29\"]\n",
    "fairness = count_list_y(columns)\n",
    "charts = make_chart(columns)"
   ]
  },
  {
   "cell_type": "code",
   "execution_count": 48,
   "metadata": {},
   "outputs": [
    {
     "name": "stdout",
     "output_type": "stream",
     "text": [
      "shape: (2, 6)\n",
      "┌─────┬───────┬───────┬───────┬───────┬───────┐\n",
      "│ Y   ┆ Q21_1 ┆ Q21_2 ┆ Q21_3 ┆ Q21_4 ┆ Q21_5 │\n",
      "│ --- ┆ ---   ┆ ---   ┆ ---   ┆ ---   ┆ ---   │\n",
      "│ i64 ┆ u32   ┆ u32   ┆ u32   ┆ u32   ┆ u32   │\n",
      "╞═════╪═══════╪═══════╪═══════╪═══════╪═══════╡\n",
      "│ 1   ┆ 9     ┆ 38    ┆ 8     ┆ 17    ┆ 33    │\n",
      "│ 2   ┆ 158   ┆ 129   ┆ 159   ┆ 150   ┆ 134   │\n",
      "└─────┴───────┴───────┴───────┴───────┴───────┘\n"
     ]
    },
    {
     "ename": "ColumnNotFoundError",
     "evalue": "\"ID\" not found",
     "output_type": "error",
     "traceback": [
      "\u001b[1;31m---------------------------------------------------------------------------\u001b[0m",
      "\u001b[1;31mColumnNotFoundError\u001b[0m                       Traceback (most recent call last)",
      "Cell \u001b[1;32mIn[48], line 11\u001b[0m\n\u001b[0;32m      7\u001b[0m personal_info \u001b[38;5;241m=\u001b[39m pl\u001b[38;5;241m.\u001b[39mread_csv(\u001b[38;5;124m\"\u001b[39m\u001b[38;5;124mdata/6_personal_info.csv\u001b[39m\u001b[38;5;124m\"\u001b[39m)\n\u001b[0;32m      9\u001b[0m \u001b[38;5;28mprint\u001b[39m(system_recognition)\n\u001b[1;32m---> 11\u001b[0m recognition_stats \u001b[38;5;241m=\u001b[39m \u001b[43msystem_recognition\u001b[49m\u001b[38;5;241;43m.\u001b[39;49m\u001b[43mjoin\u001b[49m\u001b[43m(\u001b[49m\u001b[43mpersonal_info\u001b[49m\u001b[43m,\u001b[49m\u001b[43m \u001b[49m\u001b[43mon\u001b[49m\u001b[38;5;241;43m=\u001b[39;49m\u001b[38;5;124;43m\"\u001b[39;49m\u001b[38;5;124;43mID\u001b[39;49m\u001b[38;5;124;43m\"\u001b[39;49m\u001b[43m)\u001b[49m\n\u001b[0;32m     14\u001b[0m \u001b[38;5;28;01mdef\u001b[39;00m \u001b[38;5;21mrun_chi2_test\u001b[39m(target_name):\n\u001b[0;32m     15\u001b[0m     chi_analysis \u001b[38;5;241m=\u001b[39m {}\n",
      "File \u001b[1;32mc:\\Users\\hyeon\\Desktop\\yunjoo\\.venv\\Lib\\site-packages\\polars\\dataframe\\frame.py:7137\u001b[0m, in \u001b[0;36mDataFrame.join\u001b[1;34m(self, other, on, how, left_on, right_on, suffix, validate, join_nulls, coalesce)\u001b[0m\n\u001b[0;32m   7121\u001b[0m     msg \u001b[38;5;241m=\u001b[39m \u001b[38;5;124mf\u001b[39m\u001b[38;5;124m\"\u001b[39m\u001b[38;5;124mexpected `other` join table to be a DataFrame, got \u001b[39m\u001b[38;5;132;01m{\u001b[39;00m\u001b[38;5;28mtype\u001b[39m(other)\u001b[38;5;241m.\u001b[39m\u001b[38;5;18m__name__\u001b[39m\u001b[38;5;132;01m!r}\u001b[39;00m\u001b[38;5;124m\"\u001b[39m\n\u001b[0;32m   7122\u001b[0m     \u001b[38;5;28;01mraise\u001b[39;00m \u001b[38;5;167;01mTypeError\u001b[39;00m(msg)\n\u001b[0;32m   7124\u001b[0m \u001b[38;5;28;01mreturn\u001b[39;00m (\n\u001b[0;32m   7125\u001b[0m     \u001b[38;5;28;43mself\u001b[39;49m\u001b[38;5;241;43m.\u001b[39;49m\u001b[43mlazy\u001b[49m\u001b[43m(\u001b[49m\u001b[43m)\u001b[49m\n\u001b[0;32m   7126\u001b[0m \u001b[43m    \u001b[49m\u001b[38;5;241;43m.\u001b[39;49m\u001b[43mjoin\u001b[49m\u001b[43m(\u001b[49m\n\u001b[0;32m   7127\u001b[0m \u001b[43m        \u001b[49m\u001b[43mother\u001b[49m\u001b[38;5;241;43m=\u001b[39;49m\u001b[43mother\u001b[49m\u001b[38;5;241;43m.\u001b[39;49m\u001b[43mlazy\u001b[49m\u001b[43m(\u001b[49m\u001b[43m)\u001b[49m\u001b[43m,\u001b[49m\n\u001b[0;32m   7128\u001b[0m \u001b[43m        \u001b[49m\u001b[43mleft_on\u001b[49m\u001b[38;5;241;43m=\u001b[39;49m\u001b[43mleft_on\u001b[49m\u001b[43m,\u001b[49m\n\u001b[0;32m   7129\u001b[0m \u001b[43m        \u001b[49m\u001b[43mright_on\u001b[49m\u001b[38;5;241;43m=\u001b[39;49m\u001b[43mright_on\u001b[49m\u001b[43m,\u001b[49m\n\u001b[0;32m   7130\u001b[0m \u001b[43m        \u001b[49m\u001b[43mon\u001b[49m\u001b[38;5;241;43m=\u001b[39;49m\u001b[43mon\u001b[49m\u001b[43m,\u001b[49m\n\u001b[0;32m   7131\u001b[0m \u001b[43m        \u001b[49m\u001b[43mhow\u001b[49m\u001b[38;5;241;43m=\u001b[39;49m\u001b[43mhow\u001b[49m\u001b[43m,\u001b[49m\n\u001b[0;32m   7132\u001b[0m \u001b[43m        \u001b[49m\u001b[43msuffix\u001b[49m\u001b[38;5;241;43m=\u001b[39;49m\u001b[43msuffix\u001b[49m\u001b[43m,\u001b[49m\n\u001b[0;32m   7133\u001b[0m \u001b[43m        \u001b[49m\u001b[43mvalidate\u001b[49m\u001b[38;5;241;43m=\u001b[39;49m\u001b[43mvalidate\u001b[49m\u001b[43m,\u001b[49m\n\u001b[0;32m   7134\u001b[0m \u001b[43m        \u001b[49m\u001b[43mjoin_nulls\u001b[49m\u001b[38;5;241;43m=\u001b[39;49m\u001b[43mjoin_nulls\u001b[49m\u001b[43m,\u001b[49m\n\u001b[0;32m   7135\u001b[0m \u001b[43m        \u001b[49m\u001b[43mcoalesce\u001b[49m\u001b[38;5;241;43m=\u001b[39;49m\u001b[43mcoalesce\u001b[49m\u001b[43m,\u001b[49m\n\u001b[0;32m   7136\u001b[0m \u001b[43m    \u001b[49m\u001b[43m)\u001b[49m\n\u001b[1;32m-> 7137\u001b[0m \u001b[43m    \u001b[49m\u001b[38;5;241;43m.\u001b[39;49m\u001b[43mcollect\u001b[49m\u001b[43m(\u001b[49m\u001b[43m_eager\u001b[49m\u001b[38;5;241;43m=\u001b[39;49m\u001b[38;5;28;43;01mTrue\u001b[39;49;00m\u001b[43m)\u001b[49m\n\u001b[0;32m   7138\u001b[0m )\n",
      "File \u001b[1;32mc:\\Users\\hyeon\\Desktop\\yunjoo\\.venv\\Lib\\site-packages\\polars\\lazyframe\\frame.py:2050\u001b[0m, in \u001b[0;36mLazyFrame.collect\u001b[1;34m(self, type_coercion, predicate_pushdown, projection_pushdown, simplify_expression, slice_pushdown, comm_subplan_elim, comm_subexpr_elim, cluster_with_columns, collapse_joins, no_optimization, streaming, engine, background, _eager, **_kwargs)\u001b[0m\n\u001b[0;32m   2048\u001b[0m \u001b[38;5;66;03m# Only for testing purposes\u001b[39;00m\n\u001b[0;32m   2049\u001b[0m callback \u001b[38;5;241m=\u001b[39m _kwargs\u001b[38;5;241m.\u001b[39mget(\u001b[38;5;124m\"\u001b[39m\u001b[38;5;124mpost_opt_callback\u001b[39m\u001b[38;5;124m\"\u001b[39m, callback)\n\u001b[1;32m-> 2050\u001b[0m \u001b[38;5;28;01mreturn\u001b[39;00m wrap_df(\u001b[43mldf\u001b[49m\u001b[38;5;241;43m.\u001b[39;49m\u001b[43mcollect\u001b[49m\u001b[43m(\u001b[49m\u001b[43mcallback\u001b[49m\u001b[43m)\u001b[49m)\n",
      "\u001b[1;31mColumnNotFoundError\u001b[0m: \"ID\" not found"
     ]
    }
   ],
   "source": [
    "from attributes import *\n",
    "from scipy import stats\n",
    "\n",
    "#\n",
    "# Chi-square test\n",
    "#\n",
    "personal_info = pl.read_csv(\"data/6_personal_info.csv\")\n",
    "recognition_stats = system_recognition.join(personal_info, on=\"ID\")\n",
    "\n",
    "\n",
    "def run_chi2_test(target_name):\n",
    "    chi_analysis = {}\n",
    "    for key, value in MAP_PERSON.items():\n",
    "        target = recognition_stats.pivot(target_name, index=value, values=target_name, aggregate_function='count', sort_columns=True).fill_null(0).drop(value)\n",
    "        chi_analysis[key] = stats.chi2_contingency(target)\n",
    "    return chi_analysis\n",
    "\n",
    "chi_recognition = run_chi2_test(\"Q1\")\n",
    "chi_compliance = run_chi2_test(\"Q2\")\n",
    "chi_compliance_influencing_factor_1 = run_chi2_test(\"Q3_1\")\n",
    "chi_compliance_influencing_factor_2 = run_chi2_test(\"Q3_2\")\n",
    "chi_compliance_influencing_factor_3 = run_chi2_test(\"Q3_3\")\n",
    "chi_compliance_influencing_factor_4 = run_chi2_test(\"Q3_4\")\n",
    "chi_compliance_influencing_factor_5 = run_chi2_test(\"Q3_5\")\n",
    "chi_compliance_influencing_factor_6 = run_chi2_test(\"Q3_6\")\n",
    "chi_effort = run_chi2_test(\"Q5\")"
   ]
  }
 ],
 "metadata": {
  "kernelspec": {
   "display_name": ".venv",
   "language": "python",
   "name": "python3"
  },
  "language_info": {
   "codemirror_mode": {
    "name": "ipython",
    "version": 3
   },
   "file_extension": ".py",
   "mimetype": "text/x-python",
   "name": "python",
   "nbconvert_exporter": "python",
   "pygments_lexer": "ipython3",
   "version": "3.12.6"
  }
 },
 "nbformat": 4,
 "nbformat_minor": 2
}
