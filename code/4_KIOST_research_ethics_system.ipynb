{
 "cells": [
  {
   "cell_type": "code",
   "execution_count": 6,
   "metadata": {},
   "outputs": [],
   "source": [
    "import polars as pl\n",
    "import altair as alt       \n",
    "\n",
    "research_ethics_system = pl.read_csv(\"data/4_KIOST_research_ethics_system.csv\")"
   ]
  },
  {
   "cell_type": "code",
   "execution_count": 7,
   "metadata": {},
   "outputs": [],
   "source": [
    "def count_y(name):\n",
    "    return research_ethics_system.group_by(pl.col(name).alias(\"Y\")).len().rename({\"len\":name})   \n",
    "\n",
    "def count_list_y(columns):\n",
    "    df = pl.DataFrame({\"Y\":[1, 2]})\n",
    "    for col in columns:\n",
    "        count = research_ethics_system.group_by(pl.col(col).alias(\"Y\")).len().rename({\"len\":col})\n",
    "        df = df.join(count, on=\"Y\", how=\"left\")\n",
    "    return df\n",
    "\n",
    "def make_chart(columns):\n",
    "    charts = []\n",
    "    for col in columns:\n",
    "        chart = alt.Chart(research_ethics_system).mark_bar().encode(\n",
    "            x=f\"{col}:O\",\n",
    "            y=f\"count(ID):N\",\n",
    "            color=f\"{col}:O\"\n",
    "        ).properties(\n",
    "            title=f\"Distribution of {col}\"\n",
    "        )\n",
    "        charts.append(chart)\n",
    "    return alt.hconcat(*charts).resolve_scale(\n",
    "        y='shared'  # Synchronize the y-axis scale across all charts\n",
    "    )"
   ]
  },
  {
   "cell_type": "code",
   "execution_count": 13,
   "metadata": {},
   "outputs": [],
   "source": [
    "\n",
    "# 가. KIOST의 연구윤리 관련 규정에 대한 인지 여부\n",
    "\n",
    "# Loop through each column and create a bar chart\n",
    "columns = [\"Q21_1\", \"Q21_2\", \"Q21_3\", \"Q21_4\", \"Q21_5\"]\n",
    "system_recognition = count_list_y(columns)\n",
    "system_recognition.write_csv(\"figure/4/A_system_recognition.csv\")\n",
    "chart = make_chart(columns).save(\"figure/4/A_system_recognition.png\")"
   ]
  },
  {
   "cell_type": "code",
   "execution_count": 14,
   "metadata": {},
   "outputs": [],
   "source": [
    "# \n",
    "# 나. KIOST의 연구윤리 규정의 내용 파악 정도\n",
    "# \n",
    "columns = [\"Q22_1\", \"Q22_2\", \"Q22_3\", \"Q22_4\", \"Q22_5\"]\n",
    "regulation_understanding = count_list_y(columns)\n",
    "regulation_understanding.write_csv(\"figure/4/B_regulation_understanding.csv\")\n",
    "chart = make_chart(columns)\n",
    "chart.save(\"figure/4/B_regulation_understanding.png\")"
   ]
  },
  {
   "cell_type": "code",
   "execution_count": 15,
   "metadata": {},
   "outputs": [],
   "source": [
    "# \n",
    "# 다. 국가연구개발혁신법 인지 여부\n",
    "# \n",
    "\n",
    "columns = [\"Q23\"]\n",
    "\n",
    "law_recognition = count_y(\"Q23\")\n",
    "law_recognition.write_csv(\"figure/4/C_law_recognition.csv\")\n",
    "chart = make_chart(columns)\n",
    "chart.save(\"figure/4/C_law_recognition.png\")"
   ]
  },
  {
   "cell_type": "code",
   "execution_count": 16,
   "metadata": {},
   "outputs": [],
   "source": [
    "# \n",
    "# 라. 국가연구개발혁신법 파악 정도\n",
    "# \n",
    "\n",
    "# Loop through each column and create a bar chart\n",
    "columns = [\"Q24_1\", \"Q24_2\", \"Q24_3\", \"Q24_4\", \"Q24_5\"]\n",
    "law_understanding = count_list_y(columns)\n",
    "law_understanding.write_csv(\"figure/4/D_law_understanding.csv\")\n",
    "charts = make_chart(columns)\n",
    "charts.save(\"figure/4/D_law_understanding.png\")"
   ]
  },
  {
   "cell_type": "code",
   "execution_count": 18,
   "metadata": {},
   "outputs": [],
   "source": [
    "# \n",
    "# 마. 연구부정행위 위반 인지\n",
    "# \n",
    "\n",
    "columns = [\"Q25_1\", \"Q25_2\", \"Q25_3\", \"Q25_4\", \"Q25_5\", \"Q25_6\", \"Q25_7\", \"Q25_8\", \"Q25_9\", \"Q25_10\"]\n",
    "violation_recognition = count_list_y(columns)\n",
    "violation_recognition.write_csv(\"figure/4/E_violation_recognition.csv\")\n",
    "\n",
    "chart = make_chart(columns)\n",
    "chart.save(\"figure/4/E_violation_recognition.png\")"
   ]
  },
  {
   "cell_type": "code",
   "execution_count": 21,
   "metadata": {},
   "outputs": [],
   "source": [
    "# \n",
    "# 바. 연구부정행위 위반 내용 보고 방법\n",
    "# \n",
    "\n",
    "# 26. 귀하는 연구부정행위를 인지하게 되었을 때 KIOST 또는 외부의 관련 기관에 제보하는 방법을 알고 있습니까?\n",
    "# 27. 귀하는 연구부정행위에 대한 제보가 접수된 후 어떻게 검증되는지 그 절차에 대해 알고 있습니까?\n",
    "columns = [\"Q26\", \"Q27\"]\n",
    "violation_understanding = count_list_y(columns)\n",
    "violation_understanding.write_csv(\"figure/4/F_violation_understanding.csv\")\n",
    "\n",
    "charts = make_chart(columns)\n",
    "charts.save(\"figure/4/F_violation_understanding.png\")\n",
    "\n",
    "# 28. 귀하는 KIOST가 연구부정행위에 대한 제보 접수 및 처리를 규정에 따라 잘하고 있다고 생각하십니까?\n",
    "columns = [\"Q28\"]\n",
    "process = count_list_y(columns)\n",
    "process.write_csv(\"figure/4/G_process.csv\")\n",
    "\n",
    "charts = make_chart(columns)\n",
    "charts.save(\"figure/4/G_process.png\")\n",
    "\n",
    "# 귀하는 KIOST가 연구부정행위에 대한 검증을 객관적이고 공정하게 하고 있다고 생각하십니까?\n",
    "columns = [\"Q29\"]\n",
    "fairness = count_list_y(columns)\n",
    "fairness.write_csv(\"figure/4/H_fairness.csv\")\n",
    "\n",
    "charts = make_chart(columns)\n",
    "charts.save(\"figure/4/H_fairness.png\")"
   ]
  },
  {
   "cell_type": "code",
   "execution_count": 78,
   "metadata": {},
   "outputs": [
    {
     "name": "stderr",
     "output_type": "stream",
     "text": [
      "C:\\Users\\hyeon\\AppData\\Local\\Temp\\ipykernel_15396\\305854458.py:13: DeprecationWarning: `aggregate_function='count'` input for `pivot` is deprecated. Please use `aggregate_function='len'`.\n",
      "  target = recognition_stats.pivot(target_name, index=value, values=target_name, aggregate_function='count', sort_columns=True).fill_null(0).drop(value)\n"
     ]
    }
   ],
   "source": [
    "from attributes import *\n",
    "from scipy import stats\n",
    "\n",
    "#\n",
    "# Chi-square test\n",
    "#\n",
    "personal_info = pl.read_csv(\"data/6_personal_info.csv\")\n",
    "recognition_stats = research_ethics_system.join(personal_info, on=\"ID\")\n",
    "\n",
    "def run_chi2_test(target_name):\n",
    "    chi_analysis = {}\n",
    "    for key, value in MAP_PERSON.items():\n",
    "        target = recognition_stats.pivot(target_name, index=value, values=target_name, aggregate_function='count', sort_columns=True).fill_null(0).drop(value)\n",
    "        t, p, dof, _ = stats.chi2_contingency(target.to_numpy())\n",
    "        chi_analysis[key] = {f\"{key}_t\":t, f\"{key}_p\":p}\n",
    "    return chi_analysis\n",
    "\n",
    "q21 = [\"Q21_2\", \"Q21_3\", \"Q21_4\", \"Q21_5\"]\n",
    "\n",
    "q21_1 = pl.from_dict(run_chi2_test(\"Q21_1\")) \\\n",
    "                .unnest(\"sex\") \\\n",
    "                .unnest(\"age\") \\\n",
    "                .unnest(\"role\") \\\n",
    "                .unnest(\"degree\") \\\n",
    "                .unnest(\"experience\") \\\n",
    "                .unnest(\"field\")\n",
    "\n",
    "for q in q21:\n",
    "    new_df = pl.from_dict(run_chi2_test(q)) \\\n",
    "                .unnest(\"sex\") \\\n",
    "                .unnest(\"age\") \\\n",
    "                .unnest(\"role\") \\\n",
    "                .unnest(\"degree\") \\\n",
    "                .unnest(\"experience\") \\\n",
    "                .unnest(\"field\")\n",
    "    q21_1 = q21_1.vstack(new_df)\n",
    "\n",
    "q21_1.write_csv(\"figure/4/A_chi2.csv\")"
   ]
  }
 ],
 "metadata": {
  "kernelspec": {
   "display_name": ".venv",
   "language": "python",
   "name": "python3"
  },
  "language_info": {
   "codemirror_mode": {
    "name": "ipython",
    "version": 3
   },
   "file_extension": ".py",
   "mimetype": "text/x-python",
   "name": "python",
   "nbconvert_exporter": "python",
   "pygments_lexer": "ipython3",
   "version": "3.12.6"
  }
 },
 "nbformat": 4,
 "nbformat_minor": 2
}
