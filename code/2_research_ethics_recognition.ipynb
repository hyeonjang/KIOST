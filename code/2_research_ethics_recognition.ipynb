{
 "cells": [
  {
   "cell_type": "code",
   "execution_count": 385,
   "metadata": {},
   "outputs": [],
   "source": [
    "from attributes import *\n",
    "import polars as pl\n",
    "import altair as alt\n",
    "\n",
    "# get data\n",
    "df = pl.read_csv(\"data/2_research_ethic_recognition.csv\")"
   ]
  },
  {
   "cell_type": "code",
   "execution_count": 361,
   "metadata": {},
   "outputs": [],
   "source": [
    "def basic_analysis(name):\n",
    "    count = df.group_by(name).len().sort(name)\n",
    "    proportion = count.with_columns(\n",
    "        pct = pl.col(\"len\") / pl.col(\"len\").sum() * 100\n",
    "    )\n",
    "    mean = df.select(mean = pl.col(name).mean())\n",
    "    std = df.select(std = pl.col(name).std())\n",
    "    "
   ]
  },
  {
   "cell_type": "code",
   "execution_count": 362,
   "metadata": {},
   "outputs": [],
   "source": [
    "def draw_bar_plot(df, x, y, title, MAP, rotate=True, legend=True):\n",
    "\n",
    "    bar_x = alt.X(x, title=title, axis=None)\n",
    "    bar_x = bar_x if MAP is None else bar_x.sort(MAP.values())\n",
    "\n",
    "    txt_x = alt.X(x, sort=MAP.values()) if MAP is not None else alt.X(x)\n",
    "    lgd_x = alt.Legend(orient='bottom', direction='horizontal')\n",
    "    color = alt.Color(x, title=None, legend=lgd_x) if legend else alt.Color(x, title=None, legend=None)\n",
    "    color = color.sort(MAP.values()) if MAP is not None else color\n",
    "\n",
    "    bar = df.plot.bar().encode(\n",
    "        x=bar_x,\n",
    "        y=alt.Y(y, title=None),\n",
    "        color=color,\n",
    "    ).properties(\n",
    "        title=title,\n",
    "        width=400,\n",
    "    )\n",
    "\n",
    "    text = bar.mark_text(\n",
    "        align=\"center\",\n",
    "        baseline=\"bottom\",\n",
    "    ).encode(\n",
    "        x=txt_x,\n",
    "        y=y,\n",
    "        text=y,\n",
    "        color=alt.value(\"black\"),\n",
    "    )\n",
    "    return bar + text"
   ]
  },
  {
   "cell_type": "code",
   "execution_count": 363,
   "metadata": {},
   "outputs": [
    {
     "name": "stdout",
     "output_type": "stream",
     "text": [
      "shape: (4, 3)\n",
      "┌─────┬─────┬───────────┐\n",
      "│ Q1  ┆ len ┆ pct       │\n",
      "│ --- ┆ --- ┆ ---       │\n",
      "│ i64 ┆ u32 ┆ f64       │\n",
      "╞═════╪═════╪═══════════╡\n",
      "│ 2   ┆ 1   ┆ 0.598802  │\n",
      "│ 3   ┆ 2   ┆ 1.197605  │\n",
      "│ 4   ┆ 52  ┆ 31.137725 │\n",
      "│ 5   ┆ 112 ┆ 67.065868 │\n",
      "└─────┴─────┴───────────┘ shape: (1, 1)\n",
      "┌──────────┐\n",
      "│ mean     │\n",
      "│ ---      │\n",
      "│ f64      │\n",
      "╞══════════╡\n",
      "│ 4.646707 │\n",
      "└──────────┘ shape: (1, 1)\n",
      "┌──────────┐\n",
      "│ std      │\n",
      "│ ---      │\n",
      "│ f64      │\n",
      "╞══════════╡\n",
      "│ 0.538604 │\n",
      "└──────────┘\n"
     ]
    }
   ],
   "source": [
    "# \n",
    "# 가. 연구자의 연구윤리 인식과 실천의 중요성 인식 \n",
    "# \n",
    "title = \"연구윤리 인식 및 실천의 중요성 인식\"\n",
    "\n",
    "# 1) counting\n",
    "basic_analysis(\"Q1\")\n",
    "\n",
    "# \n",
    "# plot\n",
    "# \n",
    "# bar = draw_bar_plot(rer_value_counts, \"Q1:N\", \"count:Q\", title, MAP_IMPORTANCE)\n",
    "# bar.show()\n",
    "# bar.save(\"figure/2/가_연구윤리_인식_및_실천의_중요성_인식.svg\")"
   ]
  },
  {
   "cell_type": "code",
   "execution_count": 364,
   "metadata": {},
   "outputs": [
    {
     "name": "stdout",
     "output_type": "stream",
     "text": [
      "shape: (8, 3)\n",
      "┌─────┬─────┬───────────┐\n",
      "│ Q2  ┆ len ┆ pct       │\n",
      "│ --- ┆ --- ┆ ---       │\n",
      "│ i64 ┆ u32 ┆ f64       │\n",
      "╞═════╪═════╪═══════════╡\n",
      "│ 3   ┆ 1   ┆ 0.598802  │\n",
      "│ 4   ┆ 3   ┆ 1.796407  │\n",
      "│ 5   ┆ 1   ┆ 0.598802  │\n",
      "│ 6   ┆ 8   ┆ 4.790419  │\n",
      "│ 7   ┆ 9   ┆ 5.389222  │\n",
      "│ 8   ┆ 54  ┆ 32.335329 │\n",
      "│ 9   ┆ 54  ┆ 32.335329 │\n",
      "│ 10  ┆ 37  ┆ 22.155689 │\n",
      "└─────┴─────┴───────────┘ shape: (1, 1)\n",
      "┌──────────┐\n",
      "│ mean     │\n",
      "│ ---      │\n",
      "│ f64      │\n",
      "╞══════════╡\n",
      "│ 8.497006 │\n",
      "└──────────┘ shape: (1, 1)\n",
      "┌──────────┐\n",
      "│ std      │\n",
      "│ ---      │\n",
      "│ f64      │\n",
      "╞══════════╡\n",
      "│ 1.307413 │\n",
      "└──────────┘\n"
     ]
    }
   ],
   "source": [
    "# \n",
    "# 나. 연구자의 연구윤리 준수 수준 \n",
    "# \n",
    "basic_analysis(\"Q2\")\n",
    "\n",
    "# visualization\n",
    "# bar = draw_bar_plot(Compilance, \"Q2:N\", \"count:Q\", title, None, legend=False)\n",
    "# bar.show()\n",
    "# bar.save(\"figure/2/나_연구윤리_준수_수준.svg\")"
   ]
  },
  {
   "cell_type": "code",
   "execution_count": 371,
   "metadata": {},
   "outputs": [
    {
     "name": "stdout",
     "output_type": "stream",
     "text": [
      "연구윤리교육\n",
      "shape: (5, 3)\n",
      "┌──────┬─────┬───────────┐\n",
      "│ Q3_1 ┆ len ┆ pct       │\n",
      "│ ---  ┆ --- ┆ ---       │\n",
      "│ i64  ┆ u32 ┆ f64       │\n",
      "╞══════╪═════╪═══════════╡\n",
      "│ 1    ┆ 2   ┆ 1.197605  │\n",
      "│ 2    ┆ 4   ┆ 2.39521   │\n",
      "│ 3    ┆ 22  ┆ 13.173653 │\n",
      "│ 4    ┆ 88  ┆ 52.694611 │\n",
      "│ 5    ┆ 51  ┆ 30.538922 │\n",
      "└──────┴─────┴───────────┘ shape: (1, 1)\n",
      "┌─────────┐\n",
      "│ mean    │\n",
      "│ ---     │\n",
      "│ f64     │\n",
      "╞═════════╡\n",
      "│ 4.08982 │\n",
      "└─────────┘ shape: (1, 1)\n",
      "┌──────────┐\n",
      "│ std      │\n",
      "│ ---      │\n",
      "│ f64      │\n",
      "╞══════════╡\n",
      "│ 0.797786 │\n",
      "└──────────┘\n"
     ]
    }
   ],
   "source": [
    "# \n",
    "# 다. 연구자의 연구윤리 준수 영향 요인별\n",
    "# \n",
    "print(\"연구윤리교육\")\n",
    "basic_analysis(\"Q3_1\")"
   ]
  },
  {
   "cell_type": "code",
   "execution_count": 372,
   "metadata": {},
   "outputs": [
    {
     "name": "stdout",
     "output_type": "stream",
     "text": [
      "연구윤리 관련 보도\n",
      "shape: (5, 3)\n",
      "┌──────┬─────┬───────────┐\n",
      "│ Q3_2 ┆ len ┆ pct       │\n",
      "│ ---  ┆ --- ┆ ---       │\n",
      "│ i64  ┆ u32 ┆ f64       │\n",
      "╞══════╪═════╪═══════════╡\n",
      "│ 1    ┆ 5   ┆ 2.994012  │\n",
      "│ 2    ┆ 5   ┆ 2.994012  │\n",
      "│ 3    ┆ 34  ┆ 20.359281 │\n",
      "│ 4    ┆ 86  ┆ 51.497006 │\n",
      "│ 5    ┆ 37  ┆ 22.155689 │\n",
      "└──────┴─────┴───────────┘ shape: (1, 1)\n",
      "┌──────────┐\n",
      "│ mean     │\n",
      "│ ---      │\n",
      "│ f64      │\n",
      "╞══════════╡\n",
      "│ 3.868263 │\n",
      "└──────────┘ shape: (1, 1)\n",
      "┌──────────┐\n",
      "│ std      │\n",
      "│ ---      │\n",
      "│ f64      │\n",
      "╞══════════╡\n",
      "│ 0.895443 │\n",
      "└──────────┘\n"
     ]
    }
   ],
   "source": [
    "# \n",
    "# 다. 연구자의 연구윤리 준수 영향 요인별\n",
    "# \n",
    "print(\"연구윤리 관련 보도\")\n",
    "basic_analysis(\"Q3_2\")\n"
   ]
  },
  {
   "cell_type": "code",
   "execution_count": 367,
   "metadata": {},
   "outputs": [
    {
     "name": "stdout",
     "output_type": "stream",
     "text": [
      "shape: (4, 3)\n",
      "┌──────┬─────┬───────────┐\n",
      "│ Q3_3 ┆ len ┆ pct       │\n",
      "│ ---  ┆ --- ┆ ---       │\n",
      "│ i64  ┆ u32 ┆ f64       │\n",
      "╞══════╪═════╪═══════════╡\n",
      "│ 2    ┆ 2   ┆ 1.197605  │\n",
      "│ 3    ┆ 11  ┆ 6.586826  │\n",
      "│ 4    ┆ 76  ┆ 45.508982 │\n",
      "│ 5    ┆ 78  ┆ 46.706587 │\n",
      "└──────┴─────┴───────────┘ shape: (1, 1)\n",
      "┌──────────┐\n",
      "│ mean     │\n",
      "│ ---      │\n",
      "│ f64      │\n",
      "╞══════════╡\n",
      "│ 4.377246 │\n",
      "└──────────┘ shape: (1, 1)\n",
      "┌──────────┐\n",
      "│ std      │\n",
      "│ ---      │\n",
      "│ f64      │\n",
      "╞══════════╡\n",
      "│ 0.664203 │\n",
      "└──────────┘\n"
     ]
    }
   ],
   "source": [
    "# \n",
    "# 다. 연구자의 연구윤리 준수 영향 요인별\n",
    "# \n",
    "print(\"연구자 간 대화 및 멘토링\")\n",
    "basic_analysis(\"Q3_3\")"
   ]
  },
  {
   "cell_type": "code",
   "execution_count": 373,
   "metadata": {},
   "outputs": [
    {
     "name": "stdout",
     "output_type": "stream",
     "text": [
      "관련 규정 및 지침\n",
      "shape: (4, 3)\n",
      "┌──────┬─────┬───────────┐\n",
      "│ Q3_4 ┆ len ┆ pct       │\n",
      "│ ---  ┆ --- ┆ ---       │\n",
      "│ i64  ┆ u32 ┆ f64       │\n",
      "╞══════╪═════╪═══════════╡\n",
      "│ 2    ┆ 5   ┆ 2.994012  │\n",
      "│ 3    ┆ 14  ┆ 8.383234  │\n",
      "│ 4    ┆ 77  ┆ 46.107784 │\n",
      "│ 5    ┆ 71  ┆ 42.51497  │\n",
      "└──────┴─────┴───────────┘ shape: (1, 1)\n",
      "┌──────────┐\n",
      "│ mean     │\n",
      "│ ---      │\n",
      "│ f64      │\n",
      "╞══════════╡\n",
      "│ 4.281437 │\n",
      "└──────────┘ shape: (1, 1)\n",
      "┌──────────┐\n",
      "│ std      │\n",
      "│ ---      │\n",
      "│ f64      │\n",
      "╞══════════╡\n",
      "│ 0.743536 │\n",
      "└──────────┘\n"
     ]
    }
   ],
   "source": [
    "# \n",
    "# 다. 연구자의 연구윤리 준수 영향 요인별\n",
    "# \n",
    "print(\"관련 규정 및 지침\")\n",
    "basic_analysis(\"Q3_4\")"
   ]
  },
  {
   "cell_type": "code",
   "execution_count": 374,
   "metadata": {},
   "outputs": [
    {
     "name": "stdout",
     "output_type": "stream",
     "text": [
      "부정행위 검증 및 제재\n",
      "shape: (4, 3)\n",
      "┌──────┬─────┬───────────┐\n",
      "│ Q3_5 ┆ len ┆ pct       │\n",
      "│ ---  ┆ --- ┆ ---       │\n",
      "│ i64  ┆ u32 ┆ f64       │\n",
      "╞══════╪═════╪═══════════╡\n",
      "│ 2    ┆ 1   ┆ 0.598802  │\n",
      "│ 3    ┆ 14  ┆ 8.383234  │\n",
      "│ 4    ┆ 93  ┆ 55.688623 │\n",
      "│ 5    ┆ 59  ┆ 35.329341 │\n",
      "└──────┴─────┴───────────┘ shape: (1, 1)\n",
      "┌──────────┐\n",
      "│ mean     │\n",
      "│ ---      │\n",
      "│ f64      │\n",
      "╞══════════╡\n",
      "│ 4.257485 │\n",
      "└──────────┘ shape: (1, 1)\n",
      "┌──────────┐\n",
      "│ std      │\n",
      "│ ---      │\n",
      "│ f64      │\n",
      "╞══════════╡\n",
      "│ 0.630204 │\n",
      "└──────────┘\n"
     ]
    }
   ],
   "source": [
    "# \n",
    "# 다. 연구자의 연구윤리 준수 영향 요인별\n",
    "# \n",
    "print(\"부정행위 검증 및 제재\")\n",
    "basic_analysis(\"Q3_5\")"
   ]
  },
  {
   "cell_type": "code",
   "execution_count": 375,
   "metadata": {},
   "outputs": [
    {
     "name": "stdout",
     "output_type": "stream",
     "text": [
      "학술지 및 학술 컨퍼런스 자료\n",
      "shape: (5, 3)\n",
      "┌──────┬─────┬───────────┐\n",
      "│ Q3_6 ┆ len ┆ pct       │\n",
      "│ ---  ┆ --- ┆ ---       │\n",
      "│ i64  ┆ u32 ┆ f64       │\n",
      "╞══════╪═════╪═══════════╡\n",
      "│ 1    ┆ 2   ┆ 1.197605  │\n",
      "│ 2    ┆ 4   ┆ 2.39521   │\n",
      "│ 3    ┆ 30  ┆ 17.964072 │\n",
      "│ 4    ┆ 92  ┆ 55.08982  │\n",
      "│ 5    ┆ 39  ┆ 23.353293 │\n",
      "└──────┴─────┴───────────┘ shape: (1, 1)\n",
      "┌─────────┐\n",
      "│ mean    │\n",
      "│ ---     │\n",
      "│ f64     │\n",
      "╞═════════╡\n",
      "│ 3.97006 │\n",
      "└─────────┘ shape: (1, 1)\n",
      "┌──────────┐\n",
      "│ std      │\n",
      "│ ---      │\n",
      "│ f64      │\n",
      "╞══════════╡\n",
      "│ 0.787134 │\n",
      "└──────────┘\n"
     ]
    }
   ],
   "source": [
    "# \n",
    "# 다. 연구자의 연구윤리 준수 영향 요인별\n",
    "# \n",
    "print(\"학술지 및 학술 컨퍼런스 자료\")\n",
    "basic_analysis(\"Q3_6\")"
   ]
  },
  {
   "cell_type": "code",
   "execution_count": 386,
   "metadata": {},
   "outputs": [
    {
     "name": "stdout",
     "output_type": "stream",
     "text": [
      "기타\n",
      "shape: (11, 2)\n",
      "┌───────────────────────┬─────┐\n",
      "│ Q4                    ┆ len │\n",
      "│ ---                   ┆ --- │\n",
      "│ str                   ┆ u32 │\n",
      "╞═══════════════════════╪═════╡\n",
      "│ null                  ┆ 95  │\n",
      "│ ETC (Leader)          ┆ 1   │\n",
      "│ ETC (prevention)      ┆ 1   │\n",
      "│ 개인 양심 및 윤리     ┆ 30  │\n",
      "│ 규정과 지침           ┆ 8   │\n",
      "│ …                     ┆ …   │\n",
      "│ 연구 환경 및 준수     ┆ 10  │\n",
      "│ 연구윤리 교육 및 훈련 ┆ 4   │\n",
      "│ 의사소통과 협력       ┆ 5   │\n",
      "│ 임금 및 노동 환경     ┆ 2   │\n",
      "│ 평가, 처벌 및 책임    ┆ 5   │\n",
      "└───────────────────────┴─────┘ shape: (11, 3)\n",
      "┌───────────────────────┬─────┬───────────┐\n",
      "│ Q4                    ┆ len ┆ pct       │\n",
      "│ ---                   ┆ --- ┆ ---       │\n",
      "│ str                   ┆ u32 ┆ f64       │\n",
      "╞═══════════════════════╪═════╪═══════════╡\n",
      "│ null                  ┆ 95  ┆ 56.886228 │\n",
      "│ ETC (Leader)          ┆ 1   ┆ 0.598802  │\n",
      "│ ETC (prevention)      ┆ 1   ┆ 0.598802  │\n",
      "│ 개인 양심 및 윤리     ┆ 30  ┆ 17.964072 │\n",
      "│ 규정과 지침           ┆ 8   ┆ 4.790419  │\n",
      "│ …                     ┆ …   ┆ …         │\n",
      "│ 연구 환경 및 준수     ┆ 10  ┆ 5.988024  │\n",
      "│ 연구윤리 교육 및 훈련 ┆ 4   ┆ 2.39521   │\n",
      "│ 의사소통과 협력       ┆ 5   ┆ 2.994012  │\n",
      "│ 임금 및 노동 환경     ┆ 2   ┆ 1.197605  │\n",
      "│ 평가, 처벌 및 책임    ┆ 5   ┆ 2.994012  │\n",
      "└───────────────────────┴─────┴───────────┘\n"
     ]
    }
   ],
   "source": [
    "# \n",
    "# 다. 연구자의 연구윤리 준수 영향 요인별\n",
    "# \n",
    "print(\"기타\")\n",
    "\n",
    "count = df.group_by(\"Q4\").len().sort(\"Q4\")\n",
    "proportion = count.with_columns(\n",
    "    pct = pl.col(\"len\") / pl.col(\"len\").sum() * 100\n",
    ")\n",
    "\n",
    "print(count, proportion)"
   ]
  },
  {
   "cell_type": "code",
   "execution_count": 378,
   "metadata": {},
   "outputs": [
    {
     "name": "stdout",
     "output_type": "stream",
     "text": [
      "shape: (5, 3)\n",
      "┌─────┬─────┬───────────┐\n",
      "│ Q5  ┆ len ┆ pct       │\n",
      "│ --- ┆ --- ┆ ---       │\n",
      "│ i64 ┆ u32 ┆ f64       │\n",
      "╞═════╪═════╪═══════════╡\n",
      "│ 1   ┆ 2   ┆ 1.197605  │\n",
      "│ 2   ┆ 2   ┆ 1.197605  │\n",
      "│ 3   ┆ 57  ┆ 34.131737 │\n",
      "│ 4   ┆ 78  ┆ 46.706587 │\n",
      "│ 5   ┆ 28  ┆ 16.766467 │\n",
      "└─────┴─────┴───────────┘ shape: (1, 1)\n",
      "┌──────────┐\n",
      "│ mean     │\n",
      "│ ---      │\n",
      "│ f64      │\n",
      "╞══════════╡\n",
      "│ 3.766467 │\n",
      "└──────────┘ shape: (1, 1)\n",
      "┌──────────┐\n",
      "│ std      │\n",
      "│ ---      │\n",
      "│ f64      │\n",
      "╞══════════╡\n",
      "│ 0.783459 │\n",
      "└──────────┘\n"
     ]
    }
   ],
   "source": [
    "# \n",
    "# 라. KIOST 연구윤리 확립을 위한 자체 노력의 정도\n",
    "# \n",
    "basic_analysis(\"Q5\")\n",
    "\n",
    "# bar = draw_bar_plot(effort_value_counts, \"Q5:N\", \"count:Q\", \"KIOST 연구윤리 확립을 위한 자체 노력의 정도\", MAP_GOOD)\n",
    "# bar.save(\"figure/2/라_KIOST_연구윤리_확립을_위한_자체_노력의_정도.svg\")"
   ]
  },
  {
   "cell_type": "code",
   "execution_count": 337,
   "metadata": {},
   "outputs": [
    {
     "name": "stderr",
     "output_type": "stream",
     "text": [
      "C:\\Users\\hyeon\\AppData\\Local\\Temp\\ipykernel_9904\\3786758127.py:12: DeprecationWarning: `aggregate_function='count'` input for `pivot` is deprecated. Please use `aggregate_function='len'`.\n",
      "  target = recognition_stats.pivot(target_name, index=value, values=target_name, aggregate_function='count', sort_columns=True).fill_null(0).drop(value)\n"
     ]
    }
   ],
   "source": [
    "from scipy import stats\n",
    "\n",
    "#\n",
    "# Chi-square test\n",
    "#\n",
    "personal_info = pl.read_csv(\"data/6_personal_info.csv\")\n",
    "recognition_stats = df.join(personal_info, on=\"ID\")\n",
    "\n",
    "def run_chi2_test(target_name):\n",
    "    chi_analysis = {}\n",
    "    for key, value in MAP_PERSON.items():\n",
    "        target = recognition_stats.pivot(target_name, index=value, values=target_name, aggregate_function='count', sort_columns=True).fill_null(0).drop(value)\n",
    "        chi_analysis[key] = stats.chi2_contingency(target)\n",
    "    return chi_analysis\n",
    "\n",
    "chi_recognition = run_chi2_test(\"Q1\")\n",
    "chi_compliance = run_chi2_test(\"Q2\")\n",
    "chi_compliance_influencing_factor_1 = run_chi2_test(\"Q3_1\")\n",
    "chi_compliance_influencing_factor_2 = run_chi2_test(\"Q3_2\")\n",
    "chi_compliance_influencing_factor_3 = run_chi2_test(\"Q3_3\")\n",
    "chi_compliance_influencing_factor_4 = run_chi2_test(\"Q3_4\")\n",
    "chi_compliance_influencing_factor_5 = run_chi2_test(\"Q3_5\")\n",
    "chi_compliance_influencing_factor_6 = run_chi2_test(\"Q3_6\")\n",
    "chi_effort = run_chi2_test(\"Q5\")"
   ]
  }
 ],
 "metadata": {
  "kernelspec": {
   "display_name": ".venv",
   "language": "python",
   "name": "python3"
  },
  "language_info": {
   "codemirror_mode": {
    "name": "ipython",
    "version": 3
   },
   "file_extension": ".py",
   "mimetype": "text/x-python",
   "name": "python",
   "nbconvert_exporter": "python",
   "pygments_lexer": "ipython3",
   "version": "3.12.6"
  }
 },
 "nbformat": 4,
 "nbformat_minor": 2
}
